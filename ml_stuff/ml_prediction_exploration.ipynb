{
 "cells": [
  {
   "cell_type": "code",
   "execution_count": 1,
   "id": "quarterly-slovakia",
   "metadata": {},
   "outputs": [
    {
     "name": "stderr",
     "output_type": "stream",
     "text": [
      "/Users/James/.pyenv/versions/3.8.5/envs/ml_env/lib/python3.8/site-packages/pandas/compat/__init__.py:97: UserWarning: Could not import the lzma module. Your installed Python is incomplete. Attempting to use lzma compression will result in a RuntimeError.\n",
      "  warnings.warn(msg)\n"
     ]
    }
   ],
   "source": [
    "import pandas as pd\n",
    "import os\n",
    "import numpy as np\n",
    "import matplotlib.pyplot as plt\n",
    "import seaborn as sns\n",
    "from sklearn.preprocessing import StandardScaler\n",
    "from sklearn.model_selection import train_test_split\n",
    "import tensorflow as tf\n",
    "from tensorflow import keras\n",
    "from pathlib import Path\n",
    "\n",
    "\n",
    "def convert_duration(dataframe):\n",
    "    dataframe[\"duration\"] = dataframe[\"duration_ms\"].divide(60000)\n",
    "    dataframe.drop(\"duration_ms\", axis=1, inplace=True)\n",
    "    return dataframe\n",
    "\n",
    "\n",
    "stones_features = r\"/Users/James/Documents/Python/Machine Learning Projects/Spotify_Listening_Analysis/Spotify 2.0/preprocessing/pickles/rolling_stones_features.pkl\"\n",
    "stones_features_raw = pd.read_pickle(stones_features)\n",
    "stones_features = stones_features_raw.copy()\n",
    "\n",
    "columns_to_drop = [\n",
    "    \"type\",\n",
    "    \"id\",\n",
    "    \"uri\",\n",
    "    \"track_href\",\n",
    "    \"analysis_url\",\n",
    "    \"time_signature\",\n",
    "    \"trackId\",\n",
    "    \"artistName\",\n",
    "    \"albumName\",\n",
    "    \"trackName\",\n",
    "]\n",
    "# dropping unhelpful features\n",
    "stones_features.drop(columns_to_drop, inplace=True, axis=1)\n",
    "stones_features = convert_duration(stones_features)"
   ]
  },
  {
   "cell_type": "code",
   "execution_count": 2,
   "id": "proof-israeli",
   "metadata": {},
   "outputs": [
    {
     "name": "stdout",
     "output_type": "stream",
     "text": [
      "Model: \"sequential\"\n",
      "_________________________________________________________________\n",
      "Layer (type)                 Output Shape              Param #   \n",
      "=================================================================\n",
      "dense (Dense)                (None, 30)                390       \n",
      "_________________________________________________________________\n",
      "dense_1 (Dense)              (None, 10)                310       \n",
      "_________________________________________________________________\n",
      "dense_2 (Dense)              (None, 1)                 11        \n",
      "=================================================================\n",
      "Total params: 711\n",
      "Trainable params: 711\n",
      "Non-trainable params: 0\n",
      "_________________________________________________________________\n"
     ]
    }
   ],
   "source": [
    "trained_model_dir = r\"/Users/James/Documents/Python/Machine Learning Projects/Spotify_Listening_Analysis/Spotify 2.0/ml_stuff/trained_model.h5\"\n",
    "model = keras.models.load_model(trained_model_dir)\n",
    "model.summary()"
   ]
  },
  {
   "cell_type": "code",
   "execution_count": 3,
   "id": "directed-chassis",
   "metadata": {},
   "outputs": [],
   "source": [
    "X = stones_features.copy()\n",
    "from sklearn.preprocessing import StandardScaler\n",
    "standard_scalar  = StandardScaler()\n",
    "X = standard_scalar.fit_transform(X)"
   ]
  },
  {
   "cell_type": "code",
   "execution_count": 4,
   "id": "therapeutic-yellow",
   "metadata": {},
   "outputs": [
    {
     "name": "stdout",
     "output_type": "stream",
     "text": [
      "(1, 12)\n"
     ]
    }
   ],
   "source": [
    "x_test = X[0]\n",
    "x_test = x_test.reshape(1,12)\n",
    "print(x_test.shape)"
   ]
  },
  {
   "cell_type": "code",
   "execution_count": 5,
   "id": "american-flight",
   "metadata": {},
   "outputs": [
    {
     "data": {
      "text/plain": [
       "array([[0.8252713]], dtype=float32)"
      ]
     },
     "execution_count": 5,
     "metadata": {},
     "output_type": "execute_result"
    }
   ],
   "source": [
    "model.predict(x_test)"
   ]
  },
  {
   "cell_type": "code",
   "execution_count": 6,
   "id": "continent-saskatchewan",
   "metadata": {},
   "outputs": [],
   "source": [
    "predictions = {\"artist\":[], \"track\":[], \"predicted_playcount\":[]}"
   ]
  },
  {
   "cell_type": "code",
   "execution_count": 7,
   "id": "extreme-elephant",
   "metadata": {},
   "outputs": [
    {
     "name": "stdout",
     "output_type": "stream",
     "text": [
      "0 of 100\n"
     ]
    }
   ],
   "source": [
    "X = X[:100]\n",
    "for count, track in enumerate(X):\n",
    "    predictions[\"artist\"].append(stones_features_raw[\"artistName\"].iloc[count])\n",
    "    predictions[\"track\"].append(stones_features_raw[\"trackName\"].iloc[count])\n",
    "    track = X[count].reshape(1,12)\n",
    "    predictions[\"predicted_playcount\"].append(model.predict(track))\n",
    "    if count % 100 == 0:\n",
    "        print(f\"{count} of {len(X)}\")"
   ]
  },
  {
   "cell_type": "code",
   "execution_count": 8,
   "id": "overall-strip",
   "metadata": {},
   "outputs": [
    {
     "data": {
      "text/plain": [
       "100"
      ]
     },
     "execution_count": 8,
     "metadata": {},
     "output_type": "execute_result"
    }
   ],
   "source": [
    "len(predictions[\"artist\"])"
   ]
  },
  {
   "cell_type": "code",
   "execution_count": 9,
   "id": "efficient-toner",
   "metadata": {},
   "outputs": [],
   "source": [
    "predictions_df = pd.DataFrame(predictions)"
   ]
  },
  {
   "cell_type": "code",
   "execution_count": 10,
   "id": "parliamentary-malawi",
   "metadata": {},
   "outputs": [],
   "source": [
    "predictions_df[\"predicted_playcount\"] = predictions_df[\"predicted_playcount\"].astype(float)"
   ]
  },
  {
   "cell_type": "code",
   "execution_count": 11,
   "id": "german-compromise",
   "metadata": {},
   "outputs": [
    {
     "data": {
      "text/plain": [
       "artist                                                 The Beach Boys\n",
       "track                  Let's Go Away For Awhile - Stereo / Remastered\n",
       "predicted_playcount                                          1.002322\n",
       "Name: 26, dtype: object"
      ]
     },
     "execution_count": 11,
     "metadata": {},
     "output_type": "execute_result"
    }
   ],
   "source": [
    "predictions_df.loc[predictions_df[\"predicted_playcount\"].idxmax()]"
   ]
  },
  {
   "cell_type": "code",
   "execution_count": 15,
   "id": "lucky-participant",
   "metadata": {},
   "outputs": [],
   "source": [
    "# current_directory = os.getcwd()\n",
    "# pickle_name = \"prediction_dataframe.pkl\"\n",
    "# predictions_df.to_pickle(os.path.join(current_directory, pickle_name))"
   ]
  },
  {
   "cell_type": "code",
   "execution_count": 16,
   "id": "confused-costa",
   "metadata": {},
   "outputs": [
    {
     "data": {
      "image/png": "[encoded data removed]",
      "text/plain": [
       "<Figure size 504x360 with 1 Axes>"
      ]
     },
     "metadata": {
      "needs_background": "light"
     },
     "output_type": "display_data"
    }
   ],
   "source": [
    "fig, ax = plt.subplots(figsize=(7,5));\n",
    "ax = sns.histplot(data = predictions_df, x = \"predicted_playcount\", stat = \"count\", kde = True)"
   ]
  },
  {
   "cell_type": "code",
   "execution_count": 17,
   "id": "strong-evanescence",
   "metadata": {},
   "outputs": [
    {
     "data": {
      "text/html": [
       "<div>\n",
       "<style scoped>\n",
       "    .dataframe tbody tr th:only-of-type {\n",
       "        vertical-align: middle;\n",
       "    }\n",
       "\n",
       "    .dataframe tbody tr th {\n",
       "        vertical-align: top;\n",
       "    }\n",
       "\n",
       "    .dataframe thead th {\n",
       "        text-align: right;\n",
       "    }\n",
       "</style>\n",
       "<table border=\"1\" class=\"dataframe\">\n",
       "  <thead>\n",
       "    <tr style=\"text-align: right;\">\n",
       "      <th></th>\n",
       "      <th>artist</th>\n",
       "      <th>track</th>\n",
       "      <th>predicted_playcount</th>\n",
       "    </tr>\n",
       "  </thead>\n",
       "  <tbody>\n",
       "    <tr>\n",
       "      <th>26</th>\n",
       "      <td>The Beach Boys</td>\n",
       "      <td>Let's Go Away For Awhile - Stereo / Remastered</td>\n",
       "      <td>1.002322</td>\n",
       "    </tr>\n",
       "    <tr>\n",
       "      <th>15</th>\n",
       "      <td>The Beach Boys</td>\n",
       "      <td>Let's Go Away For A While - Mono / Remastered</td>\n",
       "      <td>0.972136</td>\n",
       "    </tr>\n",
       "    <tr>\n",
       "      <th>74</th>\n",
       "      <td>Marvin Gaye</td>\n",
       "      <td>Mercy Mercy Me (The Ecology)</td>\n",
       "      <td>0.913902</td>\n",
       "    </tr>\n",
       "    <tr>\n",
       "      <th>91</th>\n",
       "      <td>The Rolling Stones</td>\n",
       "      <td>Let It Loose</td>\n",
       "      <td>0.908419</td>\n",
       "    </tr>\n",
       "    <tr>\n",
       "      <th>37</th>\n",
       "      <td>The Beatles</td>\n",
       "      <td>Here, There And Everywhere - Remastered 2009</td>\n",
       "      <td>0.906796</td>\n",
       "    </tr>\n",
       "    <tr>\n",
       "      <th>88</th>\n",
       "      <td>The Rolling Stones</td>\n",
       "      <td>Turd On The Run</td>\n",
       "      <td>0.901538</td>\n",
       "    </tr>\n",
       "    <tr>\n",
       "      <th>5</th>\n",
       "      <td>The Beatles</td>\n",
       "      <td>She's Leaving Home - Remastered 2009</td>\n",
       "      <td>0.901295</td>\n",
       "    </tr>\n",
       "    <tr>\n",
       "      <th>90</th>\n",
       "      <td>The Rolling Stones</td>\n",
       "      <td>I Just Want To See His Face</td>\n",
       "      <td>0.896784</td>\n",
       "    </tr>\n",
       "    <tr>\n",
       "      <th>84</th>\n",
       "      <td>The Rolling Stones</td>\n",
       "      <td>Torn And Frayed</td>\n",
       "      <td>0.892236</td>\n",
       "    </tr>\n",
       "    <tr>\n",
       "      <th>62</th>\n",
       "      <td>The Beatles</td>\n",
       "      <td>Michelle - Remastered 2009</td>\n",
       "      <td>0.891093</td>\n",
       "    </tr>\n",
       "  </tbody>\n",
       "</table>\n",
       "</div>"
      ],
      "text/plain": [
       "                artist                                           track  \\\n",
       "26      The Beach Boys  Let's Go Away For Awhile - Stereo / Remastered   \n",
       "15      The Beach Boys   Let's Go Away For A While - Mono / Remastered   \n",
       "74         Marvin Gaye                    Mercy Mercy Me (The Ecology)   \n",
       "91  The Rolling Stones                                    Let It Loose   \n",
       "37         The Beatles    Here, There And Everywhere - Remastered 2009   \n",
       "88  The Rolling Stones                                 Turd On The Run   \n",
       "5          The Beatles            She's Leaving Home - Remastered 2009   \n",
       "90  The Rolling Stones                     I Just Want To See His Face   \n",
       "84  The Rolling Stones                                 Torn And Frayed   \n",
       "62         The Beatles                      Michelle - Remastered 2009   \n",
       "\n",
       "    predicted_playcount  \n",
       "26             1.002322  \n",
       "15             0.972136  \n",
       "74             0.913902  \n",
       "91             0.908419  \n",
       "37             0.906796  \n",
       "88             0.901538  \n",
       "5              0.901295  \n",
       "90             0.896784  \n",
       "84             0.892236  \n",
       "62             0.891093  "
      ]
     },
     "execution_count": 17,
     "metadata": {},
     "output_type": "execute_result"
    }
   ],
   "source": [
    "predictions_df.sort_values(by = \"predicted_playcount\", ascending = False)[:10]"
   ]
  },
  {
   "cell_type": "code",
   "execution_count": null,
   "id": "moral-danish",
   "metadata": {},
   "outputs": [],
   "source": [
    "#check features match artist/track. i.e check the for loop is appending correctly\n"
   ]
  },
  {
   "cell_type": "code",
   "execution_count": 27,
   "id": "broken-valuable",
   "metadata": {},
   "outputs": [],
   "source": [
    "def get_track_id(artist, track):\n",
    "    trackId = stones_features_raw[((stones_features_raw[\"artistName\"] == artist) & (stones_features_raw[\"trackName\"] == track))]\n",
    "    trackId = trackId[\"id\"]\n",
    "    return trackId"
   ]
  },
  {
   "cell_type": "code",
   "execution_count": 28,
   "id": "turkish-legislation",
   "metadata": {},
   "outputs": [
    {
     "data": {
      "text/plain": [
       "artistName                                                The Beatles\n",
       "albumName                       Sgt. Pepper's Lonely Hearts Club Band\n",
       "trackName           Sgt. Pepper's Lonely Hearts Club Band - Remast...\n",
       "trackId                                        4fUKE8EULjQdHF4zb0M8FO\n",
       "danceability                                                    0.451\n",
       "energy                                                          0.673\n",
       "key                                                                 7\n",
       "loudness                                                       -9.115\n",
       "mode                                                                1\n",
       "speechiness                                                    0.0734\n",
       "acousticness                                                   0.0857\n",
       "instrumentalness                                              0.00225\n",
       "liveness                                                        0.797\n",
       "valence                                                         0.583\n",
       "tempo                                                          95.513\n",
       "type                                                   audio_features\n",
       "id                                             4fUKE8EULjQdHF4zb0M8FO\n",
       "uri                              spotify:track:4fUKE8EULjQdHF4zb0M8FO\n",
       "track_href          https://api.spotify.com/v1/tracks/4fUKE8EULjQd...\n",
       "analysis_url        https://api.spotify.com/v1/audio-analysis/4fUK...\n",
       "duration_ms                                                    122893\n",
       "time_signature                                                      4\n",
       "Name: 0, dtype: object"
      ]
     },
     "execution_count": 28,
     "metadata": {},
     "output_type": "execute_result"
    }
   ],
   "source": [
    "stones_features_raw.iloc[0]"
   ]
  },
  {
   "cell_type": "code",
   "execution_count": 23,
   "id": "proper-dominican",
   "metadata": {},
   "outputs": [],
   "source": [
    "test_artist = stones_features_raw[\"artistName\"].iloc[0]\n",
    "test_track = stones_features_raw[\"trackName\"].iloc[0]"
   ]
  },
  {
   "cell_type": "code",
   "execution_count": 30,
   "id": "optional-attachment",
   "metadata": {},
   "outputs": [
    {
     "data": {
      "text/plain": [
       "0    True\n",
       "Name: id, dtype: bool"
      ]
     },
     "execution_count": 30,
     "metadata": {},
     "output_type": "execute_result"
    }
   ],
   "source": [
    "get_track_id(test_artist, test_track) == stones_features_raw[\"id\"].iloc[0]"
   ]
  },
  {
   "cell_type": "code",
   "execution_count": 45,
   "id": "united-straight",
   "metadata": {},
   "outputs": [],
   "source": [
    "#Checking a random sampling\n",
    "import random\n",
    "sample = random.sample(range(0, len(X)), 100)\n"
   ]
  },
  {
   "cell_type": "code",
   "execution_count": 46,
   "id": "prompt-academy",
   "metadata": {},
   "outputs": [
    {
     "name": "stdout",
     "output_type": "stream",
     "text": [
      "Done - random sampling of 100 checked\n"
     ]
    }
   ],
   "source": [
    "for num in sample:\n",
    "    artist = stones_features_raw[\"artistName\"].iloc[num]\n",
    "    track = stones_features_raw[\"trackName\"].iloc[num]\n",
    "    test = get_track_id(artist, track) == stones_features_raw[\"id\"].iloc[num]\n",
    "    if not test.any():\n",
    "        print(f\"{artist}, {track}, sample no.: {num} does not match\")\n",
    "print(f\"Done - random sampling of {len(sample)} checked\")"
   ]
  },
  {
   "cell_type": "code",
   "execution_count": null,
   "id": "copyrighted-guitar",
   "metadata": {},
   "outputs": [],
   "source": []
  }
 ],
 "metadata": {
  "kernelspec": {
   "display_name": "Python 3",
   "language": "python",
   "name": "python3"
  },
  "language_info": {
   "codemirror_mode": {
    "name": "ipython",
    "version": 3
   },
   "file_extension": ".py",
   "mimetype": "text/x-python",
   "name": "python",
   "nbconvert_exporter": "python",
   "pygments_lexer": "ipython3",
   "version": "3.8.5"
  }
 },
 "nbformat": 4,
 "nbformat_minor": 5
}
