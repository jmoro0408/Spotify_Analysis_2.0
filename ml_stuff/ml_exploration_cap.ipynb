{
 "cells": [
  {
   "cell_type": "code",
   "execution_count": 1,
   "id": "nearby-negative",
   "metadata": {},
   "outputs": [
    {
     "name": "stderr",
     "output_type": "stream",
     "text": [
      "/Users/James/.pyenv/versions/3.8.5/envs/ml_env/lib/python3.8/site-packages/pandas/compat/__init__.py:97: UserWarning: Could not import the lzma module. Your installed Python is incomplete. Attempting to use lzma compression will result in a RuntimeError.\n",
      "  warnings.warn(msg)\n"
     ]
    }
   ],
   "source": [
    "import pandas as pd\n",
    "from pathlib import Path\n",
    "\n",
    "streams_features_file = r\"/Users/James/Documents/Python/Machine Learning Projects/Spotify_Listening_Analysis/Spotify 2.0/preprocessing/pickles/my_features.pkl\"\n",
    "streams_features_raw = pd.read_pickle(streams_features_file)\n",
    "streams_features = streams_features_raw.copy()\n",
    "\n",
    "\n",
    "columns_to_drop = [\"type\", \"id\", \"uri\", \"track_href\", \"analysis_url\", \"time_signature\"]\n",
    "streams_features.drop(columns_to_drop, inplace=True, axis=1)\n",
    "\n",
    "\n",
    "def convert_duration(dataframe=streams_features):\n",
    "    dataframe[\"duration\"] = dataframe[\"duration_ms\"].divide(60000)\n",
    "    dataframe.drop(\"duration_ms\", axis=1, inplace=True)\n",
    "    return dataframe\n",
    "\n",
    "\n",
    "def add_play_count(dataframe=streams_features):\n",
    "    dataframe[\"playCount\"] = dataframe[\"minutesTotal\"] / dataframe[\"duration\"]\n",
    "    return dataframe\n",
    "\n",
    "\n",
    "streams_features = convert_duration(streams_features)\n",
    "streams_features = add_play_count(streams_features)\n",
    "\n",
    "streams_features = streams_features[\n",
    "    (streams_features[\"artistName\"] != \"John Mayer\")\n",
    "    & (streams_features[\"trackName\"] != \"On The Way Home\")\n",
    "]  # this one song has an incorrect duration and is returning a 30+ play count, definitely something not right\n"
   ]
  },
  {
   "cell_type": "code",
   "execution_count": 2,
   "id": "printable-shape",
   "metadata": {},
   "outputs": [],
   "source": [
    "def plot_loss(model_history, exp = False):\n",
    "    if exp:\n",
    "        plt.plot(pd.DataFrame(np.exp(model_history.history[\"loss\"])), label = \"loss\")\n",
    "        plt.plot(pd.DataFrame(np.exp(model_history.history[\"val_loss\"])), label = \"val_loss\")\n",
    "    else:\n",
    "        plt.plot(pd.DataFrame(model_history.history[\"loss\"]), label = \"loss\")\n",
    "        plt.plot(pd.DataFrame(model_history.history[\"val_loss\"]), label = \"val_loss\")\n",
    "    plt.grid(True)\n",
    "    #plt.gca().set_ylim(0, 10)\n",
    "    plt.xlabel(\"Epoch\")\n",
    "    plt.ylabel(\"Loss\")\n",
    "    plt.legend()\n",
    "    plt.show()"
   ]
  },
  {
   "cell_type": "code",
   "execution_count": 3,
   "id": "still-rider",
   "metadata": {},
   "outputs": [],
   "source": [
    "def plot_hist(model):\n",
    "    fig, ax = plt.subplots(figsize=(7,5));\n",
    "    ax = sns.histplot(data = model, x = \"playCount\", stat = \"count\", kde = True)\n",
    "    return ax"
   ]
  },
  {
   "cell_type": "code",
   "execution_count": null,
   "id": "offensive-israeli",
   "metadata": {},
   "outputs": [],
   "source": []
  },
  {
   "cell_type": "code",
   "execution_count": 4,
   "id": "written-engineering",
   "metadata": {},
   "outputs": [
    {
     "data": {
      "text/plain": [
       "artistName          8443\n",
       "trackName           8443\n",
       "minutesTotal        8443\n",
       "trackId             8443\n",
       "danceability        8443\n",
       "energy              8443\n",
       "key                 8443\n",
       "loudness            8443\n",
       "mode                8443\n",
       "speechiness         8443\n",
       "acousticness        8443\n",
       "instrumentalness    8443\n",
       "liveness            8443\n",
       "valence             8443\n",
       "tempo               8443\n",
       "duration            8443\n",
       "playCount           8443\n",
       "dtype: int64"
      ]
     },
     "execution_count": 4,
     "metadata": {},
     "output_type": "execute_result"
    }
   ],
   "source": [
    "streams_features.count()"
   ]
  },
  {
   "cell_type": "code",
   "execution_count": 5,
   "id": "apparent-welcome",
   "metadata": {},
   "outputs": [],
   "source": [
    "import seaborn as sns\n",
    "import matplotlib.pyplot as plt"
   ]
  },
  {
   "cell_type": "code",
   "execution_count": 6,
   "id": "saving-tampa",
   "metadata": {},
   "outputs": [
    {
     "data": {
      "text/plain": [
       "<AxesSubplot:xlabel='playCount', ylabel='Count'>"
      ]
     },
     "execution_count": 6,
     "metadata": {},
     "output_type": "execute_result"
    },
    {
     "data": {
      "image/png": "[encoded data removed]",
      "text/plain": [
       "<Figure size 504x360 with 1 Axes>"
      ]
     },
     "metadata": {
      "needs_background": "light"
     },
     "output_type": "display_data"
    }
   ],
   "source": [
    "plot_hist(streams_features)"
   ]
  },
  {
   "cell_type": "code",
   "execution_count": 7,
   "id": "bacterial-communication",
   "metadata": {},
   "outputs": [
    {
     "data": {
      "text/plain": [
       "5.095245716380945"
      ]
     },
     "execution_count": 7,
     "metadata": {},
     "output_type": "execute_result"
    }
   ],
   "source": [
    "streams_features[\"playCount\"].skew() #Prior to transformation"
   ]
  },
  {
   "cell_type": "markdown",
   "id": "based-finding",
   "metadata": {},
   "source": [
    "Trying to normalize the data through log transformation"
   ]
  },
  {
   "cell_type": "code",
   "execution_count": 8,
   "id": "meaningful-freight",
   "metadata": {},
   "outputs": [],
   "source": [
    "#Removing outliers \n",
    "# streams_features = streams_features[streams_features[\"playCount\"]<5]\n",
    "# streams_features = streams_features[streams_features[\"playCount\"]>=0.5]\n",
    "# streams_features.count()\n",
    "# sns.histplot(data = streams_features, x = \"playCount\", stat = \"count\", kde = True)"
   ]
  },
  {
   "cell_type": "code",
   "execution_count": 9,
   "id": "progressive-client",
   "metadata": {},
   "outputs": [
    {
     "name": "stderr",
     "output_type": "stream",
     "text": [
      "/Users/James/.pyenv/versions/3.8.5/envs/ml_env/lib/python3.8/site-packages/pandas/core/generic.py:9286: SettingWithCopyWarning: \n",
      "A value is trying to be set on a copy of a slice from a DataFrame\n",
      "\n",
      "See the caveats in the documentation: https://pandas.pydata.org/pandas-docs/stable/user_guide/indexing.html#returning-a-view-versus-a-copy\n",
      "  return self._where(\n"
     ]
    }
   ],
   "source": [
    "#Cap songs plays at 10\n",
    "\n",
    "streams_features[\"playCount\"].where(streams_features[\"playCount\"] <= 10, 10, inplace=True)"
   ]
  },
  {
   "cell_type": "code",
   "execution_count": 10,
   "id": "elementary-garden",
   "metadata": {},
   "outputs": [
    {
     "data": {
      "text/plain": [
       "<AxesSubplot:xlabel='playCount', ylabel='Count'>"
      ]
     },
     "execution_count": 10,
     "metadata": {},
     "output_type": "execute_result"
    },
    {
     "data": {
      "image/png": "[encoded data removed]",
      "text/plain": [
       "<Figure size 504x360 with 1 Axes>"
      ]
     },
     "metadata": {
      "needs_background": "light"
     },
     "output_type": "display_data"
    }
   ],
   "source": [
    "plot_hist(streams_features)"
   ]
  },
  {
   "cell_type": "code",
   "execution_count": 11,
   "id": "eleven-title",
   "metadata": {},
   "outputs": [],
   "source": [
    "# fig, axs = plt.subplots(1,3,figsize=(12,5))\n",
    "# sns.histplot(data = no_zeroes[\"playCount\"], stat = \"count\", kde = True, ax = axs[0])\n",
    "# sns.histplot(data = log_dist2, stat = \"count\", kde = True, ax = axs[1])\n",
    "# sns.histplot(data = sqrt_dist, stat = \"count\", kde = True, ax = axs[2])"
   ]
  },
  {
   "cell_type": "code",
   "execution_count": 12,
   "id": "bibliographic-innocent",
   "metadata": {},
   "outputs": [],
   "source": [
    "X = streams_features.drop([\"artistName\", \"trackName\", \"minutesTotal\", \"trackId\", \"playCount\"], axis = 1)\n",
    "y = streams_features[\"playCount\"]"
   ]
  },
  {
   "cell_type": "code",
   "execution_count": 13,
   "id": "smaller-department",
   "metadata": {},
   "outputs": [],
   "source": [
    "from sklearn.preprocessing import MinMaxScaler\n",
    "from sklearn.preprocessing import StandardScaler\n",
    "from sklearn.preprocessing import PowerTransformer\n",
    "pt = PowerTransformer(method='yeo-johnson')\n",
    "standard_scalar  = StandardScaler()\n",
    "min_max_scaler = MinMaxScaler()\n",
    "#X = min_max_scaler.fit_transform(X)\n",
    "X = standard_scalar.fit_transform(X)\n",
    "#X = pt.fit_transform(X)"
   ]
  },
  {
   "cell_type": "code",
   "execution_count": 14,
   "id": "opposite-framing",
   "metadata": {},
   "outputs": [
    {
     "data": {
      "text/plain": [
       "8443"
      ]
     },
     "execution_count": 14,
     "metadata": {},
     "output_type": "execute_result"
    }
   ],
   "source": [
    "len(X)"
   ]
  },
  {
   "cell_type": "code",
   "execution_count": 15,
   "id": "reflected-kuwait",
   "metadata": {},
   "outputs": [],
   "source": [
    "from sklearn.model_selection import train_test_split\n",
    "X_train, X_test, y_train, y_test = train_test_split(X,y, test_size=0.33, random_state=42, shuffle = True)"
   ]
  },
  {
   "cell_type": "code",
   "execution_count": 16,
   "id": "bound-cover",
   "metadata": {},
   "outputs": [],
   "source": [
    "X_train, X_valid, y_train, y_valid = train_test_split(X_train,y_train, test_size=0.33, random_state=42, shuffle = True)"
   ]
  },
  {
   "cell_type": "code",
   "execution_count": 17,
   "id": "twenty-shopping",
   "metadata": {},
   "outputs": [],
   "source": [
    "X_lengths = {\"X_train\" : len(X_train), \"X_test\" : len(X_test), \"X_valid\" : len(X_valid)}\n",
    "y_lengths = {\"y_train\" : len(y_train), \"y_test\" : len(y_test), \"y_valid\" : len(y_valid)}"
   ]
  },
  {
   "cell_type": "code",
   "execution_count": 18,
   "id": "czech-calvin",
   "metadata": {},
   "outputs": [
    {
     "data": {
      "text/plain": [
       "({'X_train': 3789, 'X_test': 2787, 'X_valid': 1867},\n",
       " {'y_train': 3789, 'y_test': 2787, 'y_valid': 1867})"
      ]
     },
     "execution_count": 18,
     "metadata": {},
     "output_type": "execute_result"
    }
   ],
   "source": [
    "X_lengths, y_lengths"
   ]
  },
  {
   "cell_type": "code",
   "execution_count": 19,
   "id": "tamil-allah",
   "metadata": {},
   "outputs": [
    {
     "data": {
      "text/plain": [
       "8443"
      ]
     },
     "execution_count": 19,
     "metadata": {},
     "output_type": "execute_result"
    }
   ],
   "source": [
    "len(X_train) + len(X_test) + len(X_valid)"
   ]
  },
  {
   "cell_type": "code",
   "execution_count": 20,
   "id": "professional-democrat",
   "metadata": {},
   "outputs": [],
   "source": [
    "import tensorflow as tf\n",
    "from tensorflow import keras"
   ]
  },
  {
   "cell_type": "code",
   "execution_count": 38,
   "id": "dried-chile",
   "metadata": {},
   "outputs": [],
   "source": [
    "model_params = {\n",
    "    \"optimizer\":keras.optimizers.Adam(\n",
    "    learning_rate=0.0001, beta_1=0.9, beta_2=0.999, epsilon=1e-06, amsgrad=False,\n",
    "    name='Adam'), \n",
    "    \"loss\": tf.keras.losses.MeanAbsoluteError(),\n",
    "    \"hidden_activation\":\"relu\",\n",
    "    \"output_activation\":\"relu\",  \n",
    "    #\"loss\":keras.losses.Huber(), \n",
    "    \"initializer\" : tf.keras.initializers.HeNormal(),\n",
    "    \"regulizer\":tf.keras.regularizers.l1_l2(l1=0.01, l2=0.01)\n",
    "}"
   ]
  },
  {
   "cell_type": "code",
   "execution_count": 39,
   "id": "refined-karma",
   "metadata": {},
   "outputs": [],
   "source": [
    "reduce_lr = keras.callbacks.ReduceLROnPlateau(monitor='val_loss', factor=0.05,\n",
    "                              patience=2, min_lr=0.00001)\n",
    "\n",
    "early_stopping = tf.keras.callbacks.EarlyStopping(monitor='val_loss', patience=5,min_delta = 0.001)"
   ]
  },
  {
   "cell_type": "code",
   "execution_count": 43,
   "id": "talented-quebec",
   "metadata": {},
   "outputs": [],
   "source": [
    "model = keras.models.Sequential([\n",
    "    keras.layers.Dense(30, activation=model_params[\"hidden_activation\"], input_shape=X_train.shape[1:], \n",
    "                       kernel_initializer=model_params[\"initializer\"], \n",
    "                      kernel_regularizer=model_params[\"regulizer\"]),\n",
    "    keras.layers.Dense(10, activation=model_params[\"hidden_activation\"],kernel_initializer=model_params[\"initializer\"], \n",
    "                      kernel_regularizer=model_params[\"regulizer\"]),\n",
    "    keras.layers.Dense(1, activation=model_params[\"output_activation\"]),\n",
    "])\n",
    "\n",
    "model.compile(loss=model_params[\"loss\"], \n",
    "              optimizer=model_params[\"optimizer\"])"
   ]
  },
  {
   "cell_type": "code",
   "execution_count": 44,
   "id": "outer-colon",
   "metadata": {},
   "outputs": [
    {
     "name": "stdout",
     "output_type": "stream",
     "text": [
      "Epoch 1/250\n",
      "119/119 [==============================] - 0s 3ms/step - loss: 3.8772 - val_loss: 3.8587\n",
      "Epoch 2/250\n",
      "119/119 [==============================] - 0s 2ms/step - loss: 3.7839 - val_loss: 3.7677\n",
      "Epoch 3/250\n",
      "119/119 [==============================] - 0s 2ms/step - loss: 3.6934 - val_loss: 3.6791\n",
      "Epoch 4/250\n",
      "119/119 [==============================] - 0s 2ms/step - loss: 3.6042 - val_loss: 3.5922\n",
      "Epoch 5/250\n",
      "119/119 [==============================] - 0s 2ms/step - loss: 3.5162 - val_loss: 3.5056\n",
      "Epoch 6/250\n",
      "119/119 [==============================] - 0s 2ms/step - loss: 3.4285 - val_loss: 3.4181\n",
      "Epoch 7/250\n",
      "119/119 [==============================] - 0s 2ms/step - loss: 3.3399 - val_loss: 3.3319\n",
      "Epoch 8/250\n",
      "119/119 [==============================] - 0s 4ms/step - loss: 3.2558 - val_loss: 3.2510\n",
      "Epoch 9/250\n",
      "119/119 [==============================] - 0s 2ms/step - loss: 3.1789 - val_loss: 3.1773\n",
      "Epoch 10/250\n",
      "119/119 [==============================] - 0s 4ms/step - loss: 3.1085 - val_loss: 3.1073\n",
      "Epoch 11/250\n",
      "119/119 [==============================] - 0s 3ms/step - loss: 3.0406 - val_loss: 3.0395\n",
      "Epoch 12/250\n",
      "119/119 [==============================] - 0s 2ms/step - loss: 2.9757 - val_loss: 2.9748\n",
      "Epoch 13/250\n",
      "119/119 [==============================] - 0s 3ms/step - loss: 2.9128 - val_loss: 2.9116\n",
      "Epoch 14/250\n",
      "119/119 [==============================] - 0s 2ms/step - loss: 2.8517 - val_loss: 2.8513\n",
      "Epoch 15/250\n",
      "119/119 [==============================] - 0s 3ms/step - loss: 2.7922 - val_loss: 2.7924\n",
      "Epoch 16/250\n",
      "119/119 [==============================] - 0s 3ms/step - loss: 2.7343 - val_loss: 2.7361\n",
      "Epoch 17/250\n",
      "119/119 [==============================] - 0s 2ms/step - loss: 2.6781 - val_loss: 2.6813\n",
      "Epoch 18/250\n",
      "119/119 [==============================] - 0s 2ms/step - loss: 2.6244 - val_loss: 2.6290\n",
      "Epoch 19/250\n",
      "119/119 [==============================] - 0s 2ms/step - loss: 2.5721 - val_loss: 2.5782\n",
      "Epoch 20/250\n",
      "119/119 [==============================] - 0s 2ms/step - loss: 2.5223 - val_loss: 2.5292\n",
      "Epoch 21/250\n",
      "119/119 [==============================] - 0s 2ms/step - loss: 2.4744 - val_loss: 2.4830\n",
      "Epoch 22/250\n",
      "119/119 [==============================] - 0s 3ms/step - loss: 2.4284 - val_loss: 2.4377\n",
      "Epoch 23/250\n",
      "119/119 [==============================] - 0s 2ms/step - loss: 2.3838 - val_loss: 2.3942\n",
      "Epoch 24/250\n",
      "119/119 [==============================] - 0s 2ms/step - loss: 2.3406 - val_loss: 2.3516\n",
      "Epoch 25/250\n",
      "119/119 [==============================] - 0s 3ms/step - loss: 2.2987 - val_loss: 2.3107\n",
      "Epoch 26/250\n",
      "119/119 [==============================] - 0s 3ms/step - loss: 2.2578 - val_loss: 2.2698\n",
      "Epoch 27/250\n",
      "119/119 [==============================] - 0s 3ms/step - loss: 2.2178 - val_loss: 2.2299\n",
      "Epoch 28/250\n",
      "119/119 [==============================] - 0s 4ms/step - loss: 2.1787 - val_loss: 2.1911\n",
      "Epoch 29/250\n",
      "119/119 [==============================] - 0s 2ms/step - loss: 2.1402 - val_loss: 2.1528\n",
      "Epoch 30/250\n",
      "119/119 [==============================] - 0s 3ms/step - loss: 2.1026 - val_loss: 2.1153\n",
      "Epoch 31/250\n",
      "119/119 [==============================] - 0s 2ms/step - loss: 2.0658 - val_loss: 2.0783\n",
      "Epoch 32/250\n",
      "119/119 [==============================] - 0s 2ms/step - loss: 2.0294 - val_loss: 2.0420\n",
      "Epoch 33/250\n",
      "119/119 [==============================] - 0s 2ms/step - loss: 1.9941 - val_loss: 2.0067\n",
      "Epoch 34/250\n",
      "119/119 [==============================] - 0s 2ms/step - loss: 1.9596 - val_loss: 1.9722\n",
      "Epoch 35/250\n",
      "119/119 [==============================] - 0s 2ms/step - loss: 1.9258 - val_loss: 1.9384\n",
      "Epoch 36/250\n",
      "119/119 [==============================] - 1s 6ms/step - loss: 1.8926 - val_loss: 1.9055\n",
      "Epoch 37/250\n",
      "119/119 [==============================] - 0s 3ms/step - loss: 1.8603 - val_loss: 1.8734\n",
      "Epoch 38/250\n",
      "119/119 [==============================] - 0s 2ms/step - loss: 1.8291 - val_loss: 1.8418\n",
      "Epoch 39/250\n",
      "119/119 [==============================] - 0s 3ms/step - loss: 1.7984 - val_loss: 1.8114\n",
      "Epoch 40/250\n",
      "119/119 [==============================] - 0s 2ms/step - loss: 1.7686 - val_loss: 1.7815\n",
      "Epoch 41/250\n",
      "119/119 [==============================] - 0s 2ms/step - loss: 1.7395 - val_loss: 1.7523\n",
      "Epoch 42/250\n",
      "119/119 [==============================] - 0s 3ms/step - loss: 1.7112 - val_loss: 1.7239\n",
      "Epoch 43/250\n",
      "119/119 [==============================] - 0s 3ms/step - loss: 1.6837 - val_loss: 1.6966\n",
      "Epoch 44/250\n",
      "119/119 [==============================] - 0s 4ms/step - loss: 1.6568 - val_loss: 1.6699\n",
      "Epoch 45/250\n",
      "119/119 [==============================] - 0s 2ms/step - loss: 1.6307 - val_loss: 1.6437\n",
      "Epoch 46/250\n",
      "119/119 [==============================] - 0s 3ms/step - loss: 1.6052 - val_loss: 1.6182\n",
      "Epoch 47/250\n",
      "119/119 [==============================] - 0s 2ms/step - loss: 1.5804 - val_loss: 1.5936\n",
      "Epoch 48/250\n",
      "119/119 [==============================] - 0s 2ms/step - loss: 1.5563 - val_loss: 1.5693\n",
      "Epoch 49/250\n",
      "119/119 [==============================] - 0s 2ms/step - loss: 1.5329 - val_loss: 1.5460\n",
      "Epoch 50/250\n",
      "119/119 [==============================] - 0s 2ms/step - loss: 1.5101 - val_loss: 1.5234\n",
      "Epoch 51/250\n",
      "119/119 [==============================] - 0s 2ms/step - loss: 1.4882 - val_loss: 1.5017\n",
      "Epoch 52/250\n",
      "119/119 [==============================] - 0s 2ms/step - loss: 1.4670 - val_loss: 1.4807\n",
      "Epoch 53/250\n",
      "119/119 [==============================] - 0s 3ms/step - loss: 1.4467 - val_loss: 1.4607\n",
      "Epoch 54/250\n",
      "119/119 [==============================] - 0s 3ms/step - loss: 1.4274 - val_loss: 1.4415\n",
      "Epoch 55/250\n",
      "119/119 [==============================] - 0s 3ms/step - loss: 1.4089 - val_loss: 1.4233\n",
      "Epoch 56/250\n",
      "119/119 [==============================] - 0s 3ms/step - loss: 1.3913 - val_loss: 1.4057\n",
      "Epoch 57/250\n",
      "119/119 [==============================] - 0s 3ms/step - loss: 1.3744 - val_loss: 1.3891\n",
      "Epoch 58/250\n",
      "119/119 [==============================] - 0s 3ms/step - loss: 1.3582 - val_loss: 1.3730\n",
      "Epoch 59/250\n",
      "119/119 [==============================] - 0s 3ms/step - loss: 1.3427 - val_loss: 1.3576\n",
      "Epoch 60/250\n",
      "119/119 [==============================] - 0s 3ms/step - loss: 1.3279 - val_loss: 1.3429\n",
      "Epoch 61/250\n",
      "119/119 [==============================] - 0s 2ms/step - loss: 1.3138 - val_loss: 1.3289\n",
      "Epoch 62/250\n",
      "119/119 [==============================] - 0s 2ms/step - loss: 1.3002 - val_loss: 1.3153\n",
      "Epoch 63/250\n",
      "119/119 [==============================] - 0s 2ms/step - loss: 1.2869 - val_loss: 1.3020\n",
      "Epoch 64/250\n",
      "119/119 [==============================] - 0s 2ms/step - loss: 1.2741 - val_loss: 1.2893\n",
      "Epoch 65/250\n",
      "119/119 [==============================] - 0s 2ms/step - loss: 1.2618 - val_loss: 1.2772\n",
      "Epoch 66/250\n",
      "119/119 [==============================] - 0s 2ms/step - loss: 1.2500 - val_loss: 1.2657\n",
      "Epoch 67/250\n",
      "119/119 [==============================] - 0s 4ms/step - loss: 1.2390 - val_loss: 1.2548\n",
      "Epoch 68/250\n",
      "119/119 [==============================] - 0s 2ms/step - loss: 1.2284 - val_loss: 1.2444\n",
      "Epoch 69/250\n",
      "119/119 [==============================] - 0s 3ms/step - loss: 1.2184 - val_loss: 1.2348\n",
      "Epoch 70/250\n",
      "119/119 [==============================] - 0s 3ms/step - loss: 1.2093 - val_loss: 1.2257\n",
      "Epoch 71/250\n",
      "119/119 [==============================] - 0s 3ms/step - loss: 1.2007 - val_loss: 1.2174\n",
      "Epoch 72/250\n",
      "119/119 [==============================] - 0s 3ms/step - loss: 1.1925 - val_loss: 1.2091\n",
      "Epoch 73/250\n",
      "119/119 [==============================] - 0s 3ms/step - loss: 1.1845 - val_loss: 1.2012\n",
      "Epoch 74/250\n",
      "119/119 [==============================] - 0s 2ms/step - loss: 1.1769 - val_loss: 1.1936\n",
      "Epoch 75/250\n",
      "119/119 [==============================] - 0s 2ms/step - loss: 1.1695 - val_loss: 1.1860\n",
      "Epoch 76/250\n",
      "119/119 [==============================] - 0s 3ms/step - loss: 1.1622 - val_loss: 1.1789\n",
      "Epoch 77/250\n",
      "119/119 [==============================] - 0s 4ms/step - loss: 1.1554 - val_loss: 1.1720\n",
      "Epoch 78/250\n",
      "119/119 [==============================] - 0s 3ms/step - loss: 1.1488 - val_loss: 1.1653\n",
      "Epoch 79/250\n",
      "119/119 [==============================] - 0s 3ms/step - loss: 1.1426 - val_loss: 1.1593\n",
      "Epoch 80/250\n",
      "119/119 [==============================] - 0s 3ms/step - loss: 1.1369 - val_loss: 1.1536\n",
      "Epoch 81/250\n",
      "119/119 [==============================] - 0s 2ms/step - loss: 1.1314 - val_loss: 1.1480\n",
      "Epoch 82/250\n",
      "119/119 [==============================] - 0s 2ms/step - loss: 1.1262 - val_loss: 1.1428\n",
      "Epoch 83/250\n",
      "119/119 [==============================] - 0s 3ms/step - loss: 1.1214 - val_loss: 1.1381\n",
      "Epoch 84/250\n",
      "119/119 [==============================] - 0s 2ms/step - loss: 1.1171 - val_loss: 1.1341\n",
      "Epoch 85/250\n",
      "119/119 [==============================] - 0s 2ms/step - loss: 1.1134 - val_loss: 1.1303\n",
      "Epoch 86/250\n",
      "119/119 [==============================] - 0s 2ms/step - loss: 1.1099 - val_loss: 1.1268\n",
      "Epoch 87/250\n",
      "119/119 [==============================] - 0s 2ms/step - loss: 1.1066 - val_loss: 1.1235\n",
      "Epoch 88/250\n",
      "119/119 [==============================] - 0s 2ms/step - loss: 1.1034 - val_loss: 1.1201\n",
      "Epoch 89/250\n",
      "119/119 [==============================] - 0s 2ms/step - loss: 1.1003 - val_loss: 1.1171\n",
      "Epoch 90/250\n",
      "119/119 [==============================] - 0s 2ms/step - loss: 1.0976 - val_loss: 1.1146\n",
      "Epoch 91/250\n",
      "119/119 [==============================] - 0s 3ms/step - loss: 1.0952 - val_loss: 1.1122\n",
      "Epoch 92/250\n",
      "119/119 [==============================] - 0s 2ms/step - loss: 1.0929 - val_loss: 1.1099\n",
      "Epoch 93/250\n",
      "119/119 [==============================] - 0s 2ms/step - loss: 1.0909 - val_loss: 1.1079\n",
      "Epoch 94/250\n",
      "119/119 [==============================] - 0s 3ms/step - loss: 1.0892 - val_loss: 1.1063\n",
      "Epoch 95/250\n",
      "119/119 [==============================] - 0s 2ms/step - loss: 1.0879 - val_loss: 1.1050\n",
      "Epoch 96/250\n",
      "119/119 [==============================] - 0s 2ms/step - loss: 1.0867 - val_loss: 1.1037\n",
      "Epoch 97/250\n",
      "119/119 [==============================] - 0s 2ms/step - loss: 1.0854 - val_loss: 1.1025\n",
      "Epoch 98/250\n",
      "119/119 [==============================] - 0s 3ms/step - loss: 1.0844 - val_loss: 1.1015\n",
      "Epoch 99/250\n",
      "119/119 [==============================] - 0s 2ms/step - loss: 1.0834 - val_loss: 1.1004\n",
      "Epoch 100/250\n",
      "119/119 [==============================] - 0s 3ms/step - loss: 1.0824 - val_loss: 1.0993\n",
      "Epoch 101/250\n",
      "119/119 [==============================] - 0s 3ms/step - loss: 1.0814 - val_loss: 1.0983\n",
      "Epoch 102/250\n",
      "119/119 [==============================] - 0s 4ms/step - loss: 1.0805 - val_loss: 1.0974\n",
      "Epoch 103/250\n",
      "119/119 [==============================] - 0s 4ms/step - loss: 1.0796 - val_loss: 1.0965\n",
      "Epoch 104/250\n",
      "119/119 [==============================] - 0s 3ms/step - loss: 1.0787 - val_loss: 1.0956\n",
      "Epoch 105/250\n",
      "119/119 [==============================] - 0s 4ms/step - loss: 1.0779 - val_loss: 1.0947\n",
      "Epoch 106/250\n",
      "119/119 [==============================] - 0s 3ms/step - loss: 1.0771 - val_loss: 1.0940\n",
      "Epoch 107/250\n",
      "119/119 [==============================] - 0s 4ms/step - loss: 1.0764 - val_loss: 1.0933\n",
      "Epoch 108/250\n",
      "119/119 [==============================] - 0s 3ms/step - loss: 1.0759 - val_loss: 1.0927\n",
      "Epoch 109/250\n",
      "119/119 [==============================] - 0s 2ms/step - loss: 1.0754 - val_loss: 1.0922\n",
      "Epoch 110/250\n",
      "119/119 [==============================] - 0s 4ms/step - loss: 1.0750 - val_loss: 1.0917\n",
      "Epoch 111/250\n",
      "119/119 [==============================] - 0s 3ms/step - loss: 1.0746 - val_loss: 1.0913\n",
      "Epoch 112/250\n",
      "119/119 [==============================] - 0s 3ms/step - loss: 1.0743 - val_loss: 1.0910\n",
      "Epoch 113/250\n",
      "119/119 [==============================] - 0s 2ms/step - loss: 1.0740 - val_loss: 1.0907\n",
      "Epoch 114/250\n",
      "119/119 [==============================] - 0s 3ms/step - loss: 1.0738 - val_loss: 1.0904\n",
      "Epoch 115/250\n",
      "119/119 [==============================] - 0s 4ms/step - loss: 1.0736 - val_loss: 1.0902\n",
      "Epoch 116/250\n",
      "119/119 [==============================] - 0s 3ms/step - loss: 1.0734 - val_loss: 1.0900\n",
      "Epoch 117/250\n",
      "119/119 [==============================] - 1s 4ms/step - loss: 1.0733 - val_loss: 1.0899\n",
      "Epoch 118/250\n",
      "119/119 [==============================] - 0s 3ms/step - loss: 1.0731 - val_loss: 1.0898\n",
      "Epoch 119/250\n",
      "119/119 [==============================] - 0s 3ms/step - loss: 1.0730 - val_loss: 1.0896\n",
      "Epoch 120/250\n",
      "119/119 [==============================] - 0s 2ms/step - loss: 1.0729 - val_loss: 1.0894\n",
      "Epoch 121/250\n",
      "119/119 [==============================] - 0s 2ms/step - loss: 1.0727 - val_loss: 1.0893\n",
      "Epoch 122/250\n",
      "119/119 [==============================] - 0s 2ms/step - loss: 1.0726 - val_loss: 1.0892\n"
     ]
    }
   ],
   "source": [
    "loss_min = {}\n",
    "val_loss_min = {}\n",
    "for i in [250]:\n",
    "    history = model.fit(X_train, \n",
    "                    y_train, \n",
    "                    epochs=i, \n",
    "                    verbose = 1, \n",
    "                    validation_data=(X_valid, y_valid),\n",
    "                    callbacks = [reduce_lr,early_stopping],\n",
    "                    batch_size = 32, \n",
    "                    shuffle = True)\n",
    "    loss_min[i] = min(history.history[\"loss\"])\n",
    "    val_loss_min[i] = min(history.history[\"val_loss\"])"
   ]
  },
  {
   "cell_type": "code",
   "execution_count": 45,
   "id": "distinct-beaver",
   "metadata": {},
   "outputs": [
    {
     "data": {
      "image/png": "[encoded data removed]",
      "text/plain": [
       "<Figure size 432x288 with 1 Axes>"
      ]
     },
     "metadata": {
      "needs_background": "light"
     },
     "output_type": "display_data"
    }
   ],
   "source": [
    "plot_loss(history, exp = False)"
   ]
  },
  {
   "cell_type": "code",
   "execution_count": 36,
   "id": "approximate-percentage",
   "metadata": {},
   "outputs": [
    {
     "name": "stdout",
     "output_type": "stream",
     "text": [
      "175/175 [==============================] - 0s 1ms/step - loss: 2.1014\n"
     ]
    },
    {
     "data": {
      "text/plain": [
       "2.101362705230713"
      ]
     },
     "execution_count": 36,
     "metadata": {},
     "output_type": "execute_result"
    }
   ],
   "source": [
    "model.evaluate(x = X_test,  y = y_test, verbose=1, batch_size = 16)"
   ]
  },
  {
   "cell_type": "code",
   "execution_count": null,
   "id": "recorded-pepper",
   "metadata": {},
   "outputs": [],
   "source": []
  }
 ],
 "metadata": {
  "kernelspec": {
   "display_name": "Python 3",
   "language": "python",
   "name": "python3"
  },
  "language_info": {
   "codemirror_mode": {
    "name": "ipython",
    "version": 3
   },
   "file_extension": ".py",
   "mimetype": "text/x-python",
   "name": "python",
   "nbconvert_exporter": "python",
   "pygments_lexer": "ipython3",
   "version": "3.8.5"
  }
 },
 "nbformat": 4,
 "nbformat_minor": 5
}
