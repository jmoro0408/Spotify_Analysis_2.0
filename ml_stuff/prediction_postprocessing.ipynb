{
 "cells": [
  {
   "cell_type": "code",
   "execution_count": 1,
   "id": "serious-variance",
   "metadata": {},
   "outputs": [
    {
     "name": "stderr",
     "output_type": "stream",
     "text": [
      "/Users/James/.pyenv/versions/3.8.5/envs/ml_env/lib/python3.8/site-packages/pandas/compat/__init__.py:97: UserWarning: Could not import the lzma module. Your installed Python is incomplete. Attempting to use lzma compression will result in a RuntimeError.\n",
      "  warnings.warn(msg)\n"
     ]
    }
   ],
   "source": [
    "import pandas as pd\n",
    "import seaborn as sns"
   ]
  },
  {
   "cell_type": "code",
   "execution_count": 2,
   "id": "virgin-jungle",
   "metadata": {},
   "outputs": [],
   "source": [
    "prediction_pkl_path = r\"/Users/James/Documents/Python/Machine Learning Projects/Spotify_Listening_Analysis/Spotify 2.0/ml_stuff/prediction_dataframe.pkl\"\n",
    "prediction_df_raw = pd.read_pickle(prediction_pkl_path)\n",
    "prediction_df = prediction_df_raw.copy()"
   ]
  },
  {
   "cell_type": "code",
   "execution_count": 3,
   "id": "spectacular-scientist",
   "metadata": {},
   "outputs": [
    {
     "data": {
      "text/html": [
       "<div>\n",
       "<style scoped>\n",
       "    .dataframe tbody tr th:only-of-type {\n",
       "        vertical-align: middle;\n",
       "    }\n",
       "\n",
       "    .dataframe tbody tr th {\n",
       "        vertical-align: top;\n",
       "    }\n",
       "\n",
       "    .dataframe thead th {\n",
       "        text-align: right;\n",
       "    }\n",
       "</style>\n",
       "<table border=\"1\" class=\"dataframe\">\n",
       "  <thead>\n",
       "    <tr style=\"text-align: right;\">\n",
       "      <th></th>\n",
       "      <th>artist</th>\n",
       "      <th>track</th>\n",
       "      <th>predicted_playcount</th>\n",
       "    </tr>\n",
       "  </thead>\n",
       "  <tbody>\n",
       "    <tr>\n",
       "      <th>0</th>\n",
       "      <td>The Beatles</td>\n",
       "      <td>Sgt. Pepper's Lonely Hearts Club Band - Remast...</td>\n",
       "      <td>0.825271</td>\n",
       "    </tr>\n",
       "    <tr>\n",
       "      <th>1</th>\n",
       "      <td>The Beatles</td>\n",
       "      <td>With A Little Help From My Friends - Remastere...</td>\n",
       "      <td>0.844859</td>\n",
       "    </tr>\n",
       "    <tr>\n",
       "      <th>2</th>\n",
       "      <td>The Beatles</td>\n",
       "      <td>Lucy In The Sky With Diamonds - Remastered 2009</td>\n",
       "      <td>0.873072</td>\n",
       "    </tr>\n",
       "    <tr>\n",
       "      <th>3</th>\n",
       "      <td>The Beatles</td>\n",
       "      <td>Getting Better - Remastered 2009</td>\n",
       "      <td>0.841100</td>\n",
       "    </tr>\n",
       "    <tr>\n",
       "      <th>4</th>\n",
       "      <td>The Beatles</td>\n",
       "      <td>Fixing A Hole - Remastered 2009</td>\n",
       "      <td>0.835071</td>\n",
       "    </tr>\n",
       "    <tr>\n",
       "      <th>...</th>\n",
       "      <td>...</td>\n",
       "      <td>...</td>\n",
       "      <td>...</td>\n",
       "    </tr>\n",
       "    <tr>\n",
       "      <th>95</th>\n",
       "      <td>The Rolling Stones</td>\n",
       "      <td>Soul Survivor</td>\n",
       "      <td>0.789964</td>\n",
       "    </tr>\n",
       "    <tr>\n",
       "      <th>96</th>\n",
       "      <td>The Clash</td>\n",
       "      <td>London Calling - Remastered</td>\n",
       "      <td>0.777679</td>\n",
       "    </tr>\n",
       "    <tr>\n",
       "      <th>97</th>\n",
       "      <td>The Clash</td>\n",
       "      <td>Brand New Cadillac - Remastered</td>\n",
       "      <td>0.785895</td>\n",
       "    </tr>\n",
       "    <tr>\n",
       "      <th>98</th>\n",
       "      <td>The Clash</td>\n",
       "      <td>Jimmy Jazz - Remastered</td>\n",
       "      <td>0.879344</td>\n",
       "    </tr>\n",
       "    <tr>\n",
       "      <th>99</th>\n",
       "      <td>The Clash</td>\n",
       "      <td>Hateful - Remastered</td>\n",
       "      <td>0.787748</td>\n",
       "    </tr>\n",
       "  </tbody>\n",
       "</table>\n",
       "<p>100 rows × 3 columns</p>\n",
       "</div>"
      ],
      "text/plain": [
       "                artist                                              track  \\\n",
       "0          The Beatles  Sgt. Pepper's Lonely Hearts Club Band - Remast...   \n",
       "1          The Beatles  With A Little Help From My Friends - Remastere...   \n",
       "2          The Beatles    Lucy In The Sky With Diamonds - Remastered 2009   \n",
       "3          The Beatles                   Getting Better - Remastered 2009   \n",
       "4          The Beatles                    Fixing A Hole - Remastered 2009   \n",
       "..                 ...                                                ...   \n",
       "95  The Rolling Stones                                      Soul Survivor   \n",
       "96           The Clash                        London Calling - Remastered   \n",
       "97           The Clash                    Brand New Cadillac - Remastered   \n",
       "98           The Clash                            Jimmy Jazz - Remastered   \n",
       "99           The Clash                               Hateful - Remastered   \n",
       "\n",
       "    predicted_playcount  \n",
       "0              0.825271  \n",
       "1              0.844859  \n",
       "2              0.873072  \n",
       "3              0.841100  \n",
       "4              0.835071  \n",
       "..                  ...  \n",
       "95             0.789964  \n",
       "96             0.777679  \n",
       "97             0.785895  \n",
       "98             0.879344  \n",
       "99             0.787748  \n",
       "\n",
       "[100 rows x 3 columns]"
      ]
     },
     "execution_count": 3,
     "metadata": {},
     "output_type": "execute_result"
    }
   ],
   "source": [
    "prediction_df"
   ]
  },
  {
   "cell_type": "code",
   "execution_count": null,
   "id": "ongoing-characterization",
   "metadata": {},
   "outputs": [],
   "source": []
  }
 ],
 "metadata": {
  "kernelspec": {
   "display_name": "Python 3",
   "language": "python",
   "name": "python3"
  },
  "language_info": {
   "codemirror_mode": {
    "name": "ipython",
    "version": 3
   },
   "file_extension": ".py",
   "mimetype": "text/x-python",
   "name": "python",
   "nbconvert_exporter": "python",
   "pygments_lexer": "ipython3",
   "version": "3.8.5"
  }
 },
 "nbformat": 4,
 "nbformat_minor": 5
}
