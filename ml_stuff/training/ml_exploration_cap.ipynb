{
 "cells": [
  {
   "cell_type": "code",
   "execution_count": 1,
   "id": "returning-finnish",
   "metadata": {},
   "outputs": [
    {
     "name": "stderr",
     "output_type": "stream",
     "text": [
      "/Users/James/.pyenv/versions/3.8.5/envs/ml_env/lib/python3.8/site-packages/pandas/compat/__init__.py:97: UserWarning: Could not import the lzma module. Your installed Python is incomplete. Attempting to use lzma compression will result in a RuntimeError.\n",
      "  warnings.warn(msg)\n"
     ]
    }
   ],
   "source": [
    "import pandas as pd\n",
    "from pathlib import Path\n",
    "\n",
    "streams_features_file = r\"/Users/James/Documents/Python/Machine Learning Projects/Spotify_Listening_Analysis/Spotify 2.0/preprocessing/pickles/my_features.pkl\"\n",
    "streams_features_raw = pd.read_pickle(streams_features_file)\n",
    "streams_features = streams_features_raw.copy()\n",
    "\n",
    "\n",
    "\n",
    "columns_to_drop = [\"type\", \"id\", \"uri\", \"track_href\", \"analysis_url\", \"time_signature\"]\n",
    "streams_features.drop(columns_to_drop, inplace=True, axis=1)\n",
    "\n",
    "\n",
    "def convert_duration(dataframe=streams_features):\n",
    "    dataframe[\"duration\"] = dataframe[\"duration_ms\"].divide(60000)\n",
    "    dataframe.drop(\"duration_ms\", axis=1, inplace=True)\n",
    "    return dataframe\n",
    "\n",
    "\n",
    "def add_play_count(dataframe=streams_features):\n",
    "    dataframe[\"playCount\"] = dataframe[\"minutesTotal\"] / dataframe[\"duration\"]\n",
    "    return dataframe\n",
    "\n",
    "\n",
    "streams_features = convert_duration(streams_features)\n",
    "streams_features = add_play_count(streams_features)\n",
    "\n",
    "streams_features = streams_features[\n",
    "    (streams_features[\"artistName\"] != \"John Mayer\")\n",
    "    & (streams_features[\"trackName\"] != \"On The Way Home\")\n",
    "]  # this one song has an incorrect duration and is returning a 30+ play count, definitely something not right\n"
   ]
  },
  {
   "cell_type": "code",
   "execution_count": 2,
   "id": "radical-blair",
   "metadata": {},
   "outputs": [],
   "source": [
    "def plot_loss(model_history, exp = False):\n",
    "    if exp:\n",
    "        plt.plot(pd.DataFrame(np.exp(model_history.history[\"loss\"])), label = \"loss\")\n",
    "        plt.plot(pd.DataFrame(np.exp(model_history.history[\"val_loss\"])), label = \"val_loss\")\n",
    "    else:\n",
    "        plt.plot(pd.DataFrame(model_history.history[\"loss\"]), label = \"loss\")\n",
    "        plt.plot(pd.DataFrame(model_history.history[\"val_loss\"]), label = \"val_loss\")\n",
    "    plt.grid(True)\n",
    "    #plt.gca().set_ylim(0, 10)\n",
    "    plt.xlabel(\"Epoch\")\n",
    "    plt.ylabel(\"Loss\")\n",
    "    plt.legend()\n",
    "    plt.show()"
   ]
  },
  {
   "cell_type": "code",
   "execution_count": 3,
   "id": "forbidden-pastor",
   "metadata": {},
   "outputs": [],
   "source": [
    "def plot_hist(model):\n",
    "    fig, ax = plt.subplots(figsize=(7,5));\n",
    "    ax = sns.histplot(data = model, x = \"playCount\", stat = \"count\", kde = True)\n",
    "    return ax"
   ]
  },
  {
   "cell_type": "code",
   "execution_count": null,
   "id": "lonely-smile",
   "metadata": {},
   "outputs": [],
   "source": []
  },
  {
   "cell_type": "code",
   "execution_count": 4,
   "id": "least-stuff",
   "metadata": {},
   "outputs": [
    {
     "data": {
      "text/plain": [
       "artistName          8443\n",
       "trackName           8443\n",
       "minutesTotal        8443\n",
       "trackId             8443\n",
       "danceability        8443\n",
       "energy              8443\n",
       "key                 8443\n",
       "loudness            8443\n",
       "mode                8443\n",
       "speechiness         8443\n",
       "acousticness        8443\n",
       "instrumentalness    8443\n",
       "liveness            8443\n",
       "valence             8443\n",
       "tempo               8443\n",
       "duration            8443\n",
       "playCount           8443\n",
       "dtype: int64"
      ]
     },
     "execution_count": 4,
     "metadata": {},
     "output_type": "execute_result"
    }
   ],
   "source": [
    "streams_features.count()"
   ]
  },
  {
   "cell_type": "code",
   "execution_count": 5,
   "id": "proved-harris",
   "metadata": {},
   "outputs": [],
   "source": [
    "import seaborn as sns\n",
    "import matplotlib.pyplot as plt"
   ]
  },
  {
   "cell_type": "code",
   "execution_count": 6,
   "id": "comparable-mirror",
   "metadata": {},
   "outputs": [
    {
     "data": {
      "text/plain": [
       "<AxesSubplot:xlabel='playCount', ylabel='Count'>"
      ]
     },
     "execution_count": 6,
     "metadata": {},
     "output_type": "execute_result"
    },
    {
     "data": {
      "image/png": "[encoded data removed]",
      "text/plain": [
       "<Figure size 504x360 with 1 Axes>"
      ]
     },
     "metadata": {
      "needs_background": "light"
     },
     "output_type": "display_data"
    }
   ],
   "source": [
    "plot_hist(streams_features)"
   ]
  },
  {
   "cell_type": "code",
   "execution_count": 7,
   "id": "dirty-photograph",
   "metadata": {},
   "outputs": [
    {
     "data": {
      "text/plain": [
       "5.095245716380945"
      ]
     },
     "execution_count": 7,
     "metadata": {},
     "output_type": "execute_result"
    }
   ],
   "source": [
    "streams_features[\"playCount\"].skew() #Prior to transformation"
   ]
  },
  {
   "cell_type": "markdown",
   "id": "consolidated-municipality",
   "metadata": {},
   "source": [
    "Trying to normalize the data through log transformation"
   ]
  },
  {
   "cell_type": "code",
   "execution_count": 8,
   "id": "statutory-legend",
   "metadata": {},
   "outputs": [],
   "source": [
    "#Removing outliers \n",
    "# streams_features = streams_features[streams_features[\"playCount\"]<5]\n",
    "# streams_features = streams_features[streams_features[\"playCount\"]>=0.5]\n",
    "# streams_features.count()\n",
    "# sns.histplot(data = streams_features, x = \"playCount\", stat = \"count\", kde = True)"
   ]
  },
  {
   "cell_type": "code",
   "execution_count": 9,
   "id": "statistical-registration",
   "metadata": {},
   "outputs": [
    {
     "name": "stderr",
     "output_type": "stream",
     "text": [
      "/Users/James/.pyenv/versions/3.8.5/envs/ml_env/lib/python3.8/site-packages/pandas/core/generic.py:9286: SettingWithCopyWarning: \n",
      "A value is trying to be set on a copy of a slice from a DataFrame\n",
      "\n",
      "See the caveats in the documentation: https://pandas.pydata.org/pandas-docs/stable/user_guide/indexing.html#returning-a-view-versus-a-copy\n",
      "  return self._where(\n"
     ]
    }
   ],
   "source": [
    "#Cap songs plays at 10\n",
    "\n",
    "streams_features[\"playCount\"].where(streams_features[\"playCount\"] <= 10, 10, inplace=True)"
   ]
  },
  {
   "cell_type": "code",
   "execution_count": null,
   "id": "insured-herald",
   "metadata": {},
   "outputs": [],
   "source": []
  },
  {
   "cell_type": "code",
   "execution_count": 10,
   "id": "executed-elephant",
   "metadata": {},
   "outputs": [
    {
     "data": {
      "text/plain": [
       "<AxesSubplot:xlabel='playCount', ylabel='Count'>"
      ]
     },
     "execution_count": 10,
     "metadata": {},
     "output_type": "execute_result"
    },
    {
     "data": {
      "image/png": "[encoded data removed]",
      "text/plain": [
       "<Figure size 504x360 with 1 Axes>"
      ]
     },
     "metadata": {
      "needs_background": "light"
     },
     "output_type": "display_data"
    }
   ],
   "source": [
    "plot_hist(streams_features)"
   ]
  },
  {
   "cell_type": "code",
   "execution_count": 11,
   "id": "severe-typing",
   "metadata": {},
   "outputs": [],
   "source": [
    "# fig, axs = plt.subplots(1,3,figsize=(12,5))\n",
    "# sns.histplot(data = no_zeroes[\"playCount\"], stat = \"count\", kde = True, ax = axs[0])\n",
    "# sns.histplot(data = log_dist2, stat = \"count\", kde = True, ax = axs[1])\n",
    "# sns.histplot(data = sqrt_dist, stat = \"count\", kde = True, ax = axs[2])"
   ]
  },
  {
   "cell_type": "code",
   "execution_count": 12,
   "id": "interesting-cargo",
   "metadata": {},
   "outputs": [],
   "source": [
    "X = streams_features.drop([\"artistName\", \"trackName\", \"minutesTotal\", \"trackId\", \"playCount\"], axis = 1)\n",
    "y = streams_features[\"playCount\"]"
   ]
  },
  {
   "cell_type": "code",
   "execution_count": 13,
   "id": "radical-hanging",
   "metadata": {},
   "outputs": [
    {
     "data": {
      "text/plain": [
       "Index(['danceability', 'energy', 'key', 'loudness', 'mode', 'speechiness',\n",
       "       'acousticness', 'instrumentalness', 'liveness', 'valence', 'tempo',\n",
       "       'duration'],\n",
       "      dtype='object')"
      ]
     },
     "execution_count": 13,
     "metadata": {},
     "output_type": "execute_result"
    }
   ],
   "source": [
    "X.columns"
   ]
  },
  {
   "cell_type": "code",
   "execution_count": 14,
   "id": "recognized-shanghai",
   "metadata": {},
   "outputs": [],
   "source": [
    "from sklearn.preprocessing import MinMaxScaler\n",
    "from sklearn.preprocessing import StandardScaler\n",
    "from sklearn.preprocessing import PowerTransformer\n",
    "pt = PowerTransformer(method='yeo-johnson')\n",
    "standard_scalar  = StandardScaler()\n",
    "min_max_scaler = MinMaxScaler()\n",
    "#X = min_max_scaler.fit_transform(X)\n",
    "X = standard_scalar.fit_transform(X)\n",
    "#X = pt.fit_transform(X)"
   ]
  },
  {
   "cell_type": "code",
   "execution_count": 15,
   "id": "amateur-lecture",
   "metadata": {},
   "outputs": [
    {
     "data": {
      "text/plain": [
       "8443"
      ]
     },
     "execution_count": 15,
     "metadata": {},
     "output_type": "execute_result"
    }
   ],
   "source": [
    "len(X)"
   ]
  },
  {
   "cell_type": "code",
   "execution_count": 16,
   "id": "artificial-transition",
   "metadata": {},
   "outputs": [],
   "source": [
    "from sklearn.model_selection import train_test_split\n",
    "X_train, X_test, y_train, y_test = train_test_split(X,y, test_size=0.33, random_state=42, shuffle = True)"
   ]
  },
  {
   "cell_type": "code",
   "execution_count": 17,
   "id": "polar-mounting",
   "metadata": {},
   "outputs": [],
   "source": [
    "X_train, X_valid, y_train, y_valid = train_test_split(X_train,y_train, test_size=0.33, random_state=42, shuffle = True)"
   ]
  },
  {
   "cell_type": "code",
   "execution_count": 18,
   "id": "manufactured-specialist",
   "metadata": {},
   "outputs": [],
   "source": [
    "X_lengths = {\"X_train\" : len(X_train), \"X_test\" : len(X_test), \"X_valid\" : len(X_valid)}\n",
    "y_lengths = {\"y_train\" : len(y_train), \"y_test\" : len(y_test), \"y_valid\" : len(y_valid)}"
   ]
  },
  {
   "cell_type": "code",
   "execution_count": 19,
   "id": "palestinian-baseline",
   "metadata": {},
   "outputs": [
    {
     "data": {
      "text/plain": [
       "({'X_train': 3789, 'X_test': 2787, 'X_valid': 1867},\n",
       " {'y_train': 3789, 'y_test': 2787, 'y_valid': 1867})"
      ]
     },
     "execution_count": 19,
     "metadata": {},
     "output_type": "execute_result"
    }
   ],
   "source": [
    "X_lengths, y_lengths"
   ]
  },
  {
   "cell_type": "code",
   "execution_count": 20,
   "id": "continental-wellington",
   "metadata": {},
   "outputs": [
    {
     "data": {
      "text/plain": [
       "8443"
      ]
     },
     "execution_count": 20,
     "metadata": {},
     "output_type": "execute_result"
    }
   ],
   "source": [
    "len(X_train) + len(X_test) + len(X_valid)"
   ]
  },
  {
   "cell_type": "code",
   "execution_count": 21,
   "id": "demanding-motivation",
   "metadata": {},
   "outputs": [],
   "source": [
    "import tensorflow as tf\n",
    "from tensorflow import keras"
   ]
  },
  {
   "cell_type": "code",
   "execution_count": 22,
   "id": "amateur-fundamental",
   "metadata": {},
   "outputs": [],
   "source": [
    "model_params = {\n",
    "    \"optimizer\":keras.optimizers.Adam(\n",
    "    learning_rate=0.0001, beta_1=0.9, beta_2=0.999, epsilon=1e-06, amsgrad=False,\n",
    "    name='Adam'), \n",
    "    \"loss\": tf.keras.losses.MeanAbsoluteError(),\n",
    "    \"hidden_activation\":\"relu\",\n",
    "    \"output_activation\":\"relu\",  \n",
    "    #\"loss\":keras.losses.Huber(), \n",
    "    \"initializer\" : tf.keras.initializers.HeNormal(),\n",
    "    \"regulizer\":tf.keras.regularizers.l1_l2(l1=0.01, l2=0.01)\n",
    "}"
   ]
  },
  {
   "cell_type": "code",
   "execution_count": 23,
   "id": "returning-jaguar",
   "metadata": {},
   "outputs": [],
   "source": [
    "reduce_lr = keras.callbacks.ReduceLROnPlateau(monitor='val_loss', factor=0.05,\n",
    "                              patience=2, min_lr=0.00001)\n",
    "\n",
    "early_stopping = tf.keras.callbacks.EarlyStopping(monitor='val_loss', patience=5,min_delta = 0.001)"
   ]
  },
  {
   "cell_type": "code",
   "execution_count": 24,
   "id": "still-dominican",
   "metadata": {},
   "outputs": [],
   "source": [
    "model = keras.models.Sequential([\n",
    "    keras.layers.Dense(30, activation=model_params[\"hidden_activation\"], input_shape=X_train.shape[1:], \n",
    "                       kernel_initializer=model_params[\"initializer\"], \n",
    "                      kernel_regularizer=model_params[\"regulizer\"]),\n",
    "    keras.layers.Dense(10, activation=model_params[\"hidden_activation\"],kernel_initializer=model_params[\"initializer\"], \n",
    "                      kernel_regularizer=model_params[\"regulizer\"]),\n",
    "    keras.layers.Dense(1, activation=model_params[\"output_activation\"]),\n",
    "])\n",
    "\n",
    "model.compile(loss=model_params[\"loss\"], \n",
    "              optimizer=model_params[\"optimizer\"])"
   ]
  },
  {
   "cell_type": "code",
   "execution_count": 25,
   "id": "altered-tonight",
   "metadata": {},
   "outputs": [
    {
     "name": "stdout",
     "output_type": "stream",
     "text": [
      "Epoch 1/250\n",
      "119/119 [==============================] - 1s 5ms/step - loss: 3.8847 - val_loss: 3.8621\n",
      "Epoch 2/250\n",
      "119/119 [==============================] - 0s 3ms/step - loss: 3.7908 - val_loss: 3.7707\n",
      "Epoch 3/250\n",
      "119/119 [==============================] - 0s 3ms/step - loss: 3.6993 - val_loss: 3.6819\n",
      "Epoch 4/250\n",
      "119/119 [==============================] - 0s 3ms/step - loss: 3.6092 - val_loss: 3.5944\n",
      "Epoch 5/250\n",
      "119/119 [==============================] - 0s 2ms/step - loss: 3.5209 - val_loss: 3.5081\n",
      "Epoch 6/250\n",
      "119/119 [==============================] - 0s 2ms/step - loss: 3.4362 - val_loss: 3.4273\n",
      "Epoch 7/250\n",
      "119/119 [==============================] - 0s 3ms/step - loss: 3.3548 - val_loss: 3.3488\n",
      "Epoch 8/250\n",
      "119/119 [==============================] - 0s 3ms/step - loss: 3.2758 - val_loss: 3.2719\n",
      "Epoch 9/250\n",
      "119/119 [==============================] - 0s 3ms/step - loss: 3.1993 - val_loss: 3.1979\n",
      "Epoch 10/250\n",
      "119/119 [==============================] - 0s 3ms/step - loss: 3.1255 - val_loss: 3.1268\n",
      "Epoch 11/250\n",
      "119/119 [==============================] - 0s 2ms/step - loss: 3.0552 - val_loss: 3.0570\n",
      "Epoch 12/250\n",
      "119/119 [==============================] - 0s 4ms/step - loss: 2.9874 - val_loss: 2.9901\n",
      "Epoch 13/250\n",
      "119/119 [==============================] - 0s 3ms/step - loss: 2.9217 - val_loss: 2.9243\n",
      "Epoch 14/250\n",
      "119/119 [==============================] - 0s 3ms/step - loss: 2.8572 - val_loss: 2.8591\n",
      "Epoch 15/250\n",
      "119/119 [==============================] - 0s 2ms/step - loss: 2.7934 - val_loss: 2.7957\n",
      "Epoch 16/250\n",
      "119/119 [==============================] - 0s 3ms/step - loss: 2.7310 - val_loss: 2.7334\n",
      "Epoch 17/250\n",
      "119/119 [==============================] - 0s 3ms/step - loss: 2.6702 - val_loss: 2.6730\n",
      "Epoch 18/250\n",
      "119/119 [==============================] - 0s 2ms/step - loss: 2.6114 - val_loss: 2.6143\n",
      "Epoch 19/250\n",
      "119/119 [==============================] - 0s 2ms/step - loss: 2.5547 - val_loss: 2.5578\n",
      "Epoch 20/250\n",
      "119/119 [==============================] - 0s 3ms/step - loss: 2.5000 - val_loss: 2.5037\n",
      "Epoch 21/250\n",
      "119/119 [==============================] - 0s 3ms/step - loss: 2.4470 - val_loss: 2.4514\n",
      "Epoch 22/250\n",
      "119/119 [==============================] - 0s 3ms/step - loss: 2.3956 - val_loss: 2.4006\n",
      "Epoch 23/250\n",
      "119/119 [==============================] - 0s 3ms/step - loss: 2.3456 - val_loss: 2.3514\n",
      "Epoch 24/250\n",
      "119/119 [==============================] - 0s 3ms/step - loss: 2.2976 - val_loss: 2.3042\n",
      "Epoch 25/250\n",
      "119/119 [==============================] - 0s 3ms/step - loss: 2.2514 - val_loss: 2.2587\n",
      "Epoch 26/250\n",
      "119/119 [==============================] - 0s 3ms/step - loss: 2.2070 - val_loss: 2.2145\n",
      "Epoch 27/250\n",
      "119/119 [==============================] - 0s 2ms/step - loss: 2.1635 - val_loss: 2.1716\n",
      "Epoch 28/250\n",
      "119/119 [==============================] - 0s 3ms/step - loss: 2.1216 - val_loss: 2.1300\n",
      "Epoch 29/250\n",
      "119/119 [==============================] - 0s 3ms/step - loss: 2.0807 - val_loss: 2.0895\n",
      "Epoch 30/250\n",
      "119/119 [==============================] - 0s 3ms/step - loss: 2.0413 - val_loss: 2.0504\n",
      "Epoch 31/250\n",
      "119/119 [==============================] - 0s 2ms/step - loss: 2.0031 - val_loss: 2.0127\n",
      "Epoch 32/250\n",
      "119/119 [==============================] - 0s 3ms/step - loss: 1.9660 - val_loss: 1.9760\n",
      "Epoch 33/250\n",
      "119/119 [==============================] - 0s 2ms/step - loss: 1.9300 - val_loss: 1.9405\n",
      "Epoch 34/250\n",
      "119/119 [==============================] - 0s 2ms/step - loss: 1.8953 - val_loss: 1.9064\n",
      "Epoch 35/250\n",
      "119/119 [==============================] - 0s 2ms/step - loss: 1.8616 - val_loss: 1.8731\n",
      "Epoch 36/250\n",
      "119/119 [==============================] - 0s 3ms/step - loss: 1.8291 - val_loss: 1.8408\n",
      "Epoch 37/250\n",
      "119/119 [==============================] - 0s 3ms/step - loss: 1.7977 - val_loss: 1.8100\n",
      "Epoch 38/250\n",
      "119/119 [==============================] - 0s 3ms/step - loss: 1.7673 - val_loss: 1.7797\n",
      "Epoch 39/250\n",
      "119/119 [==============================] - 0s 3ms/step - loss: 1.7378 - val_loss: 1.7502\n",
      "Epoch 40/250\n",
      "119/119 [==============================] - 0s 3ms/step - loss: 1.7089 - val_loss: 1.7215\n",
      "Epoch 41/250\n",
      "119/119 [==============================] - 0s 3ms/step - loss: 1.6809 - val_loss: 1.6937\n",
      "Epoch 42/250\n",
      "119/119 [==============================] - 0s 3ms/step - loss: 1.6536 - val_loss: 1.6665\n",
      "Epoch 43/250\n",
      "119/119 [==============================] - 0s 2ms/step - loss: 1.6273 - val_loss: 1.6405\n",
      "Epoch 44/250\n",
      "119/119 [==============================] - 0s 3ms/step - loss: 1.6018 - val_loss: 1.6156\n",
      "Epoch 45/250\n",
      "119/119 [==============================] - 0s 2ms/step - loss: 1.5775 - val_loss: 1.5914\n",
      "Epoch 46/250\n",
      "119/119 [==============================] - 0s 3ms/step - loss: 1.5541 - val_loss: 1.5678\n",
      "Epoch 47/250\n",
      "119/119 [==============================] - 0s 3ms/step - loss: 1.5311 - val_loss: 1.5451\n",
      "Epoch 48/250\n",
      "119/119 [==============================] - 0s 3ms/step - loss: 1.5088 - val_loss: 1.5228\n",
      "Epoch 49/250\n",
      "119/119 [==============================] - 0s 3ms/step - loss: 1.4871 - val_loss: 1.5015\n",
      "Epoch 50/250\n",
      "119/119 [==============================] - 0s 3ms/step - loss: 1.4664 - val_loss: 1.4811\n",
      "Epoch 51/250\n",
      "119/119 [==============================] - 0s 4ms/step - loss: 1.4466 - val_loss: 1.4618\n",
      "Epoch 52/250\n",
      "119/119 [==============================] - 0s 3ms/step - loss: 1.4278 - val_loss: 1.4429\n",
      "Epoch 53/250\n",
      "119/119 [==============================] - 0s 3ms/step - loss: 1.4094 - val_loss: 1.4249\n",
      "Epoch 54/250\n",
      "119/119 [==============================] - 0s 3ms/step - loss: 1.3917 - val_loss: 1.4071\n",
      "Epoch 55/250\n",
      "119/119 [==============================] - 0s 3ms/step - loss: 1.3745 - val_loss: 1.3902\n",
      "Epoch 56/250\n",
      "119/119 [==============================] - 0s 3ms/step - loss: 1.3581 - val_loss: 1.3741\n",
      "Epoch 57/250\n",
      "119/119 [==============================] - 0s 2ms/step - loss: 1.3423 - val_loss: 1.3584\n",
      "Epoch 58/250\n",
      "119/119 [==============================] - 0s 3ms/step - loss: 1.3271 - val_loss: 1.3435\n",
      "Epoch 59/250\n",
      "119/119 [==============================] - 0s 3ms/step - loss: 1.3127 - val_loss: 1.3294\n",
      "Epoch 60/250\n",
      "119/119 [==============================] - 0s 3ms/step - loss: 1.2990 - val_loss: 1.3160\n",
      "Epoch 61/250\n",
      "119/119 [==============================] - 0s 2ms/step - loss: 1.2860 - val_loss: 1.3033\n",
      "Epoch 62/250\n",
      "119/119 [==============================] - 0s 3ms/step - loss: 1.2737 - val_loss: 1.2910\n",
      "Epoch 63/250\n",
      "119/119 [==============================] - 0s 3ms/step - loss: 1.2617 - val_loss: 1.2790\n",
      "Epoch 64/250\n",
      "119/119 [==============================] - 0s 2ms/step - loss: 1.2501 - val_loss: 1.2677\n",
      "Epoch 65/250\n",
      "119/119 [==============================] - 0s 2ms/step - loss: 1.2392 - val_loss: 1.2570\n",
      "Epoch 66/250\n",
      "119/119 [==============================] - 0s 3ms/step - loss: 1.2289 - val_loss: 1.2467\n",
      "Epoch 67/250\n",
      "119/119 [==============================] - 0s 3ms/step - loss: 1.2189 - val_loss: 1.2367\n",
      "Epoch 68/250\n",
      "119/119 [==============================] - 0s 3ms/step - loss: 1.2093 - val_loss: 1.2273\n",
      "Epoch 69/250\n",
      "119/119 [==============================] - 0s 2ms/step - loss: 1.2005 - val_loss: 1.2188\n",
      "Epoch 70/250\n",
      "119/119 [==============================] - 0s 3ms/step - loss: 1.1922 - val_loss: 1.2106\n",
      "Epoch 71/250\n",
      "119/119 [==============================] - 0s 3ms/step - loss: 1.1844 - val_loss: 1.2028\n",
      "Epoch 72/250\n",
      "119/119 [==============================] - 0s 2ms/step - loss: 1.1771 - val_loss: 1.1956\n",
      "Epoch 73/250\n",
      "119/119 [==============================] - 0s 3ms/step - loss: 1.1702 - val_loss: 1.1889\n",
      "Epoch 74/250\n",
      "119/119 [==============================] - 0s 3ms/step - loss: 1.1639 - val_loss: 1.1825\n",
      "Epoch 75/250\n",
      "119/119 [==============================] - 0s 3ms/step - loss: 1.1578 - val_loss: 1.1764\n",
      "Epoch 76/250\n",
      "119/119 [==============================] - 0s 3ms/step - loss: 1.1520 - val_loss: 1.1706\n",
      "Epoch 77/250\n",
      "119/119 [==============================] - 0s 3ms/step - loss: 1.1463 - val_loss: 1.1649\n",
      "Epoch 78/250\n",
      "119/119 [==============================] - 0s 3ms/step - loss: 1.1411 - val_loss: 1.1597\n",
      "Epoch 79/250\n",
      "119/119 [==============================] - 0s 3ms/step - loss: 1.1363 - val_loss: 1.1551\n",
      "Epoch 80/250\n",
      "119/119 [==============================] - 0s 3ms/step - loss: 1.1320 - val_loss: 1.1509\n",
      "Epoch 81/250\n",
      "119/119 [==============================] - 0s 3ms/step - loss: 1.1282 - val_loss: 1.1470\n",
      "Epoch 82/250\n",
      "119/119 [==============================] - 0s 3ms/step - loss: 1.1246 - val_loss: 1.1433\n",
      "Epoch 83/250\n",
      "119/119 [==============================] - 0s 3ms/step - loss: 1.1213 - val_loss: 1.1400\n",
      "Epoch 84/250\n",
      "119/119 [==============================] - 0s 3ms/step - loss: 1.1182 - val_loss: 1.1367\n",
      "Epoch 85/250\n",
      "119/119 [==============================] - 0s 3ms/step - loss: 1.1151 - val_loss: 1.1336\n",
      "Epoch 86/250\n",
      "119/119 [==============================] - 0s 3ms/step - loss: 1.1122 - val_loss: 1.1305\n",
      "Epoch 87/250\n",
      "119/119 [==============================] - 0s 3ms/step - loss: 1.1094 - val_loss: 1.1277\n",
      "Epoch 88/250\n",
      "119/119 [==============================] - 0s 3ms/step - loss: 1.1069 - val_loss: 1.1252\n",
      "Epoch 89/250\n",
      "119/119 [==============================] - 0s 3ms/step - loss: 1.1048 - val_loss: 1.1230\n",
      "Epoch 90/250\n",
      "119/119 [==============================] - 0s 3ms/step - loss: 1.1028 - val_loss: 1.1210\n",
      "Epoch 91/250\n",
      "119/119 [==============================] - 0s 3ms/step - loss: 1.1010 - val_loss: 1.1190\n",
      "Epoch 92/250\n",
      "119/119 [==============================] - 0s 3ms/step - loss: 1.0993 - val_loss: 1.1172\n",
      "Epoch 93/250\n",
      "119/119 [==============================] - 0s 3ms/step - loss: 1.0976 - val_loss: 1.1154\n",
      "Epoch 94/250\n",
      "119/119 [==============================] - 0s 2ms/step - loss: 1.0960 - val_loss: 1.1137\n",
      "Epoch 95/250\n",
      "119/119 [==============================] - 0s 2ms/step - loss: 1.0945 - val_loss: 1.1122\n",
      "Epoch 96/250\n",
      "119/119 [==============================] - 0s 2ms/step - loss: 1.0931 - val_loss: 1.1107\n",
      "Epoch 97/250\n",
      "119/119 [==============================] - 0s 2ms/step - loss: 1.0918 - val_loss: 1.1094\n",
      "Epoch 98/250\n",
      "119/119 [==============================] - 0s 4ms/step - loss: 1.0905 - val_loss: 1.1080\n",
      "Epoch 99/250\n",
      "119/119 [==============================] - 0s 2ms/step - loss: 1.0893 - val_loss: 1.1067\n",
      "Epoch 100/250\n",
      "119/119 [==============================] - 0s 3ms/step - loss: 1.0881 - val_loss: 1.1056\n",
      "Epoch 101/250\n",
      "119/119 [==============================] - 0s 3ms/step - loss: 1.0869 - val_loss: 1.1041\n",
      "Epoch 102/250\n",
      "119/119 [==============================] - 0s 3ms/step - loss: 1.0857 - val_loss: 1.1029\n",
      "Epoch 103/250\n",
      "119/119 [==============================] - 0s 2ms/step - loss: 1.0846 - val_loss: 1.1017\n",
      "Epoch 104/250\n",
      "119/119 [==============================] - 0s 2ms/step - loss: 1.0835 - val_loss: 1.1006\n",
      "Epoch 105/250\n",
      "119/119 [==============================] - 0s 2ms/step - loss: 1.0826 - val_loss: 1.0996\n",
      "Epoch 106/250\n",
      "119/119 [==============================] - 0s 3ms/step - loss: 1.0817 - val_loss: 1.0986\n",
      "Epoch 107/250\n",
      "119/119 [==============================] - 0s 3ms/step - loss: 1.0808 - val_loss: 1.0976\n",
      "Epoch 108/250\n",
      "119/119 [==============================] - 0s 2ms/step - loss: 1.0799 - val_loss: 1.0968\n",
      "Epoch 109/250\n",
      "119/119 [==============================] - 0s 3ms/step - loss: 1.0792 - val_loss: 1.0961\n",
      "Epoch 110/250\n",
      "119/119 [==============================] - 0s 3ms/step - loss: 1.0786 - val_loss: 1.0955\n",
      "Epoch 111/250\n",
      "119/119 [==============================] - 0s 3ms/step - loss: 1.0781 - val_loss: 1.0949\n",
      "Epoch 112/250\n",
      "119/119 [==============================] - 0s 2ms/step - loss: 1.0776 - val_loss: 1.0943\n",
      "Epoch 113/250\n",
      "119/119 [==============================] - 0s 2ms/step - loss: 1.0771 - val_loss: 1.0938\n",
      "Epoch 114/250\n",
      "119/119 [==============================] - 0s 3ms/step - loss: 1.0766 - val_loss: 1.0933\n",
      "Epoch 115/250\n",
      "119/119 [==============================] - 0s 2ms/step - loss: 1.0762 - val_loss: 1.0929\n",
      "Epoch 116/250\n",
      "119/119 [==============================] - 0s 2ms/step - loss: 1.0758 - val_loss: 1.0926\n",
      "Epoch 117/250\n",
      "119/119 [==============================] - 0s 3ms/step - loss: 1.0756 - val_loss: 1.0922\n",
      "Epoch 118/250\n",
      "119/119 [==============================] - 0s 2ms/step - loss: 1.0754 - val_loss: 1.0920\n",
      "Epoch 119/250\n",
      "119/119 [==============================] - 0s 2ms/step - loss: 1.0751 - val_loss: 1.0917\n",
      "Epoch 120/250\n",
      "119/119 [==============================] - 0s 2ms/step - loss: 1.0749 - val_loss: 1.0914\n",
      "Epoch 121/250\n",
      "119/119 [==============================] - 0s 3ms/step - loss: 1.0747 - val_loss: 1.0912\n",
      "Epoch 122/250\n",
      "119/119 [==============================] - 0s 3ms/step - loss: 1.0745 - val_loss: 1.0910\n",
      "Epoch 123/250\n",
      "119/119 [==============================] - 0s 4ms/step - loss: 1.0744 - val_loss: 1.0908\n",
      "Epoch 124/250\n",
      "119/119 [==============================] - 0s 2ms/step - loss: 1.0742 - val_loss: 1.0906\n",
      "Epoch 125/250\n",
      "119/119 [==============================] - 0s 2ms/step - loss: 1.0741 - val_loss: 1.0905\n",
      "Epoch 126/250\n",
      "119/119 [==============================] - 0s 2ms/step - loss: 1.0740 - val_loss: 1.0904\n",
      "Epoch 127/250\n",
      "119/119 [==============================] - 0s 2ms/step - loss: 1.0738 - val_loss: 1.0902\n",
      "Epoch 128/250\n",
      "119/119 [==============================] - 0s 3ms/step - loss: 1.0737 - val_loss: 1.0900\n",
      "Epoch 129/250\n",
      "119/119 [==============================] - 0s 2ms/step - loss: 1.0736 - val_loss: 1.0899\n"
     ]
    }
   ],
   "source": [
    "loss_min = {}\n",
    "val_loss_min = {}\n",
    "for i in [250]:\n",
    "    history = model.fit(X_train, \n",
    "                    y_train, \n",
    "                    epochs=i, \n",
    "                    verbose = 1, \n",
    "                    validation_data=(X_valid, y_valid),\n",
    "                    callbacks = [reduce_lr,early_stopping],\n",
    "                    batch_size = 32, \n",
    "                    shuffle = True)\n",
    "    loss_min[i] = min(history.history[\"loss\"])\n",
    "    val_loss_min[i] = min(history.history[\"val_loss\"])"
   ]
  },
  {
   "cell_type": "code",
   "execution_count": 26,
   "id": "worse-hearing",
   "metadata": {},
   "outputs": [
    {
     "data": {
      "image/png": "[encoded data removed]",
      "text/plain": [
       "<Figure size 432x288 with 1 Axes>"
      ]
     },
     "metadata": {
      "needs_background": "light"
     },
     "output_type": "display_data"
    }
   ],
   "source": [
    "plot_loss(history, exp = False)"
   ]
  },
  {
   "cell_type": "code",
   "execution_count": 27,
   "id": "arranged-celebrity",
   "metadata": {},
   "outputs": [
    {
     "name": "stdout",
     "output_type": "stream",
     "text": [
      "175/175 [==============================] - 0s 986us/step - loss: 1.1253\n"
     ]
    },
    {
     "data": {
      "text/plain": [
       "1.125259518623352"
      ]
     },
     "execution_count": 27,
     "metadata": {},
     "output_type": "execute_result"
    }
   ],
   "source": [
    "model.evaluate(x = X_test,  y = y_test, verbose=1, batch_size = 16)"
   ]
  },
  {
   "cell_type": "code",
   "execution_count": null,
   "id": "breeding-closer",
   "metadata": {},
   "outputs": [],
   "source": []
  },
  {
   "cell_type": "code",
   "execution_count": null,
   "id": "royal-brooklyn",
   "metadata": {},
   "outputs": [],
   "source": []
  },
  {
   "cell_type": "code",
   "execution_count": 34,
   "id": "supported-stretch",
   "metadata": {},
   "outputs": [
    {
     "data": {
      "image/png": "[encoded data removed]",
      "text/plain": [
       "<IPython.core.display.Image object>"
      ]
     },
     "execution_count": 34,
     "metadata": {},
     "output_type": "execute_result"
    }
   ],
   "source": [
    "import os\n",
    "img_dir = r\"/Users/James/Documents/Python/Machine Learning Projects/Spotify_Listening_Analysis/Spotify 2.0/ml_stuff/training\"\n",
    "img_name = \"model_network.png\"\n",
    "\n",
    "tf.keras.utils.plot_model(model, to_file=os.path.join(img_dir, img_name), show_shapes=True)"
   ]
  },
  {
   "cell_type": "code",
   "execution_count": null,
   "id": "crude-elder",
   "metadata": {},
   "outputs": [],
   "source": []
  },
  {
   "cell_type": "code",
   "execution_count": null,
   "id": "southwest-mailman",
   "metadata": {},
   "outputs": [],
   "source": []
  },
  {
   "cell_type": "code",
   "execution_count": null,
   "id": "genetic-landing",
   "metadata": {},
   "outputs": [],
   "source": []
  },
  {
   "cell_type": "code",
   "execution_count": null,
   "id": "metropolitan-camping",
   "metadata": {},
   "outputs": [],
   "source": []
  }
 ],
 "metadata": {
  "kernelspec": {
   "display_name": "Python 3",
   "language": "python",
   "name": "python3"
  },
  "language_info": {
   "codemirror_mode": {
    "name": "ipython",
    "version": 3
   },
   "file_extension": ".py",
   "mimetype": "text/x-python",
   "name": "python",
   "nbconvert_exporter": "python",
   "pygments_lexer": "ipython3",
   "version": "3.8.5"
  }
 },
 "nbformat": 4,
 "nbformat_minor": 5
}
