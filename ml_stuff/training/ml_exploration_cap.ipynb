{
 "cells": [
  {
   "cell_type": "code",
   "execution_count": 1,
   "id": "dried-privilege",
   "metadata": {},
   "outputs": [
    {
     "name": "stderr",
     "output_type": "stream",
     "text": [
      "/Users/James/.pyenv/versions/3.8.5/envs/ml_env/lib/python3.8/site-packages/pandas/compat/__init__.py:97: UserWarning: Could not import the lzma module. Your installed Python is incomplete. Attempting to use lzma compression will result in a RuntimeError.\n",
      "  warnings.warn(msg)\n"
     ]
    }
   ],
   "source": [
    "import pandas as pd\n",
    "from pathlib import Path\n",
    "\n",
    "streams_features_file = r\"/Users/James/Documents/Python/Machine Learning Projects/Spotify_Listening_Analysis/Spotify 2.0/preprocessing/pickles/my_features.pkl\"\n",
    "streams_features_raw = pd.read_pickle(streams_features_file)\n",
    "streams_features = streams_features_raw.copy()\n",
    "\n",
    "\n",
    "\n",
    "columns_to_drop = [\"type\", \"id\", \"uri\", \"track_href\", \"analysis_url\", \"time_signature\"]\n",
    "streams_features.drop(columns_to_drop, inplace=True, axis=1)\n",
    "\n",
    "\n",
    "def convert_duration(dataframe=streams_features):\n",
    "    dataframe[\"duration\"] = dataframe[\"duration_ms\"].divide(60000)\n",
    "    dataframe.drop(\"duration_ms\", axis=1, inplace=True)\n",
    "    return dataframe\n",
    "\n",
    "\n",
    "def add_play_count(dataframe=streams_features):\n",
    "    dataframe[\"playCount\"] = dataframe[\"minutesTotal\"] / dataframe[\"duration\"]\n",
    "    return dataframe\n",
    "\n",
    "\n",
    "streams_features = convert_duration(streams_features)\n",
    "streams_features = add_play_count(streams_features)\n",
    "\n",
    "streams_features = streams_features[\n",
    "    (streams_features[\"artistName\"] != \"John Mayer\")\n",
    "    & (streams_features[\"trackName\"] != \"On The Way Home\")\n",
    "]  # this one song has an incorrect duration and is returning a 30+ play count, definitely something not right\n"
   ]
  },
  {
   "cell_type": "code",
   "execution_count": 80,
   "id": "noticed-point",
   "metadata": {},
   "outputs": [],
   "source": [
    "def plot_loss(model_history, exp = False, save = False):\n",
    "    if exp:\n",
    "        plt.plot(pd.DataFrame(np.exp(model_history.history[\"loss\"])), label = \"loss\")\n",
    "        plt.plot(pd.DataFrame(np.exp(model_history.history[\"val_loss\"])), label = \"val_loss\")\n",
    "    else:\n",
    "        plt.plot(pd.DataFrame(model_history.history[\"loss\"]), label = \"loss\")\n",
    "        plt.plot(pd.DataFrame(model_history.history[\"val_loss\"]), label = \"val_loss\")\n",
    "    plt.grid(True)\n",
    "    #plt.gca().set_ylim(0, 10)\n",
    "    plt.xlabel(\"Epoch\")\n",
    "    plt.ylabel(\"Loss (MAE)\")\n",
    "    plt.legend()\n",
    "    if save:\n",
    "        fig = plt.gca()\n",
    "        save_dir = os.getcwd()\n",
    "        name = \"loss_plot.png\"\n",
    "        plt.tight_layout()\n",
    "        plt.savefig(os.path.join(save_dir, name), bbox_inches=\"tight\")\n",
    "    plt.show()"
   ]
  },
  {
   "cell_type": "code",
   "execution_count": 81,
   "id": "moving-environment",
   "metadata": {},
   "outputs": [
    {
     "data": {
      "image/png": "[encoded data removed]",
      "text/plain": [
       "<Figure size 432x288 with 1 Axes>"
      ]
     },
     "metadata": {
      "needs_background": "light"
     },
     "output_type": "display_data"
    }
   ],
   "source": [
    "plot_loss(history, exp = False, save = True)"
   ]
  },
  {
   "cell_type": "code",
   "execution_count": 3,
   "id": "painful-abraham",
   "metadata": {},
   "outputs": [],
   "source": [
    "def plot_hist(model):\n",
    "    fig, ax = plt.subplots(figsize=(7,5));\n",
    "    ax = sns.histplot(data = model, x = \"playCount\", stat = \"count\", kde = True)\n",
    "    return ax"
   ]
  },
  {
   "cell_type": "code",
   "execution_count": 4,
   "id": "homeless-detection",
   "metadata": {},
   "outputs": [
    {
     "data": {
      "text/plain": [
       "artistName          8443\n",
       "trackName           8443\n",
       "minutesTotal        8443\n",
       "trackId             8443\n",
       "danceability        8443\n",
       "energy              8443\n",
       "key                 8443\n",
       "loudness            8443\n",
       "mode                8443\n",
       "speechiness         8443\n",
       "acousticness        8443\n",
       "instrumentalness    8443\n",
       "liveness            8443\n",
       "valence             8443\n",
       "tempo               8443\n",
       "duration            8443\n",
       "playCount           8443\n",
       "dtype: int64"
      ]
     },
     "execution_count": 4,
     "metadata": {},
     "output_type": "execute_result"
    }
   ],
   "source": [
    "streams_features.count()"
   ]
  },
  {
   "cell_type": "code",
   "execution_count": 5,
   "id": "average-shareware",
   "metadata": {},
   "outputs": [],
   "source": [
    "import seaborn as sns\n",
    "import matplotlib.pyplot as plt"
   ]
  },
  {
   "cell_type": "code",
   "execution_count": 6,
   "id": "stone-extent",
   "metadata": {},
   "outputs": [
    {
     "data": {
      "text/plain": [
       "<AxesSubplot:xlabel='playCount', ylabel='Count'>"
      ]
     },
     "execution_count": 6,
     "metadata": {},
     "output_type": "execute_result"
    },
    {
     "data": {
      "image/png": "[encoded data removed]",
      "text/plain": [
       "<Figure size 504x360 with 1 Axes>"
      ]
     },
     "metadata": {
      "needs_background": "light"
     },
     "output_type": "display_data"
    }
   ],
   "source": [
    "plot_hist(streams_features)"
   ]
  },
  {
   "cell_type": "code",
   "execution_count": 7,
   "id": "coupled-channels",
   "metadata": {},
   "outputs": [
    {
     "data": {
      "text/plain": [
       "5.095245716380945"
      ]
     },
     "execution_count": 7,
     "metadata": {},
     "output_type": "execute_result"
    }
   ],
   "source": [
    "streams_features[\"playCount\"].skew() #Prior to transformation"
   ]
  },
  {
   "cell_type": "markdown",
   "id": "dense-excellence",
   "metadata": {},
   "source": [
    "Trying to normalize the data through log transformation"
   ]
  },
  {
   "cell_type": "code",
   "execution_count": 8,
   "id": "promising-tomorrow",
   "metadata": {},
   "outputs": [],
   "source": [
    "#Removing outliers \n",
    "# streams_features = streams_features[streams_features[\"playCount\"]<5]\n",
    "# streams_features = streams_features[streams_features[\"playCount\"]>=0.5]\n",
    "# streams_features.count()\n",
    "# sns.histplot(data = streams_features, x = \"playCount\", stat = \"count\", kde = True)"
   ]
  },
  {
   "cell_type": "code",
   "execution_count": 9,
   "id": "powered-restriction",
   "metadata": {},
   "outputs": [
    {
     "name": "stderr",
     "output_type": "stream",
     "text": [
      "/Users/James/.pyenv/versions/3.8.5/envs/ml_env/lib/python3.8/site-packages/pandas/core/generic.py:9286: SettingWithCopyWarning: \n",
      "A value is trying to be set on a copy of a slice from a DataFrame\n",
      "\n",
      "See the caveats in the documentation: https://pandas.pydata.org/pandas-docs/stable/user_guide/indexing.html#returning-a-view-versus-a-copy\n",
      "  return self._where(\n"
     ]
    }
   ],
   "source": [
    "#Cap songs plays at 10\n",
    "\n",
    "streams_features[\"playCount\"].where(streams_features[\"playCount\"] <= 10, 10, inplace=True)"
   ]
  },
  {
   "cell_type": "code",
   "execution_count": null,
   "id": "approved-quick",
   "metadata": {},
   "outputs": [],
   "source": []
  },
  {
   "cell_type": "code",
   "execution_count": 10,
   "id": "pacific-pulse",
   "metadata": {},
   "outputs": [
    {
     "data": {
      "text/plain": [
       "<AxesSubplot:xlabel='playCount', ylabel='Count'>"
      ]
     },
     "execution_count": 10,
     "metadata": {},
     "output_type": "execute_result"
    },
    {
     "data": {
      "image/png": "[encoded data removed]",
      "text/plain": [
       "<Figure size 504x360 with 1 Axes>"
      ]
     },
     "metadata": {
      "needs_background": "light"
     },
     "output_type": "display_data"
    }
   ],
   "source": [
    "plot_hist(streams_features)"
   ]
  },
  {
   "cell_type": "code",
   "execution_count": 11,
   "id": "soviet-decline",
   "metadata": {},
   "outputs": [],
   "source": [
    "# fig, axs = plt.subplots(1,3,figsize=(12,5))\n",
    "# sns.histplot(data = no_zeroes[\"playCount\"], stat = \"count\", kde = True, ax = axs[0])\n",
    "# sns.histplot(data = log_dist2, stat = \"count\", kde = True, ax = axs[1])\n",
    "# sns.histplot(data = sqrt_dist, stat = \"count\", kde = True, ax = axs[2])"
   ]
  },
  {
   "cell_type": "code",
   "execution_count": 12,
   "id": "racial-survivor",
   "metadata": {},
   "outputs": [],
   "source": [
    "X = streams_features.drop([\"artistName\", \"trackName\", \"minutesTotal\", \"trackId\", \"playCount\"], axis = 1)\n",
    "y = streams_features[\"playCount\"]"
   ]
  },
  {
   "cell_type": "code",
   "execution_count": 13,
   "id": "continuous-journey",
   "metadata": {},
   "outputs": [
    {
     "data": {
      "text/plain": [
       "Index(['danceability', 'energy', 'key', 'loudness', 'mode', 'speechiness',\n",
       "       'acousticness', 'instrumentalness', 'liveness', 'valence', 'tempo',\n",
       "       'duration'],\n",
       "      dtype='object')"
      ]
     },
     "execution_count": 13,
     "metadata": {},
     "output_type": "execute_result"
    }
   ],
   "source": [
    "X.columns"
   ]
  },
  {
   "cell_type": "code",
   "execution_count": 14,
   "id": "fifty-stylus",
   "metadata": {},
   "outputs": [],
   "source": [
    "from sklearn.preprocessing import MinMaxScaler\n",
    "from sklearn.preprocessing import StandardScaler\n",
    "from sklearn.preprocessing import PowerTransformer\n",
    "pt = PowerTransformer(method='yeo-johnson')\n",
    "standard_scalar  = StandardScaler()\n",
    "min_max_scaler = MinMaxScaler()\n",
    "#X = min_max_scaler.fit_transform(X)\n",
    "X = standard_scalar.fit_transform(X)\n",
    "#X = pt.fit_transform(X)"
   ]
  },
  {
   "cell_type": "code",
   "execution_count": 15,
   "id": "agreed-elements",
   "metadata": {},
   "outputs": [
    {
     "data": {
      "text/plain": [
       "8443"
      ]
     },
     "execution_count": 15,
     "metadata": {},
     "output_type": "execute_result"
    }
   ],
   "source": [
    "len(X)"
   ]
  },
  {
   "cell_type": "code",
   "execution_count": 16,
   "id": "cathedral-purse",
   "metadata": {},
   "outputs": [],
   "source": [
    "from sklearn.model_selection import train_test_split\n",
    "X_train, X_test, y_train, y_test = train_test_split(X,y, test_size=0.33, random_state=42, shuffle = True)"
   ]
  },
  {
   "cell_type": "code",
   "execution_count": 17,
   "id": "million-oklahoma",
   "metadata": {},
   "outputs": [],
   "source": [
    "X_train, X_valid, y_train, y_valid = train_test_split(X_train,y_train, test_size=0.33, random_state=42, shuffle = True)"
   ]
  },
  {
   "cell_type": "code",
   "execution_count": 18,
   "id": "juvenile-kernel",
   "metadata": {},
   "outputs": [],
   "source": [
    "X_lengths = {\"X_train\" : len(X_train), \"X_test\" : len(X_test), \"X_valid\" : len(X_valid)}\n",
    "y_lengths = {\"y_train\" : len(y_train), \"y_test\" : len(y_test), \"y_valid\" : len(y_valid)}"
   ]
  },
  {
   "cell_type": "code",
   "execution_count": 19,
   "id": "remarkable-import",
   "metadata": {},
   "outputs": [
    {
     "data": {
      "text/plain": [
       "({'X_train': 3789, 'X_test': 2787, 'X_valid': 1867},\n",
       " {'y_train': 3789, 'y_test': 2787, 'y_valid': 1867})"
      ]
     },
     "execution_count": 19,
     "metadata": {},
     "output_type": "execute_result"
    }
   ],
   "source": [
    "X_lengths, y_lengths"
   ]
  },
  {
   "cell_type": "code",
   "execution_count": 20,
   "id": "still-advice",
   "metadata": {},
   "outputs": [
    {
     "data": {
      "text/plain": [
       "8443"
      ]
     },
     "execution_count": 20,
     "metadata": {},
     "output_type": "execute_result"
    }
   ],
   "source": [
    "len(X_train) + len(X_test) + len(X_valid)"
   ]
  },
  {
   "cell_type": "code",
   "execution_count": 21,
   "id": "adapted-impression",
   "metadata": {},
   "outputs": [],
   "source": [
    "import tensorflow as tf\n",
    "from tensorflow import keras"
   ]
  },
  {
   "cell_type": "code",
   "execution_count": 36,
   "id": "checked-cancellation",
   "metadata": {},
   "outputs": [],
   "source": [
    "model_params = {\n",
    "    \"optimizer\":keras.optimizers.Adam(\n",
    "    learning_rate=0.0001, beta_1=0.9, beta_2=0.999, epsilon=1e-06, amsgrad=False,\n",
    "    name='Adam'), \n",
    "    \"loss\": tf.keras.losses.MeanAbsoluteError(),\n",
    "    \"hidden_activation\":\"relu\",\n",
    "    \"output_activation\":\"relu\",  \n",
    "    #\"loss\":keras.losses.Huber(), \n",
    "    \"initializer\" : tf.keras.initializers.HeNormal(),\n",
    "    \"regulizer\":tf.keras.regularizers.l1_l2(l1=0.01, l2=0.01)\n",
    "}"
   ]
  },
  {
   "cell_type": "code",
   "execution_count": 37,
   "id": "american-fault",
   "metadata": {},
   "outputs": [],
   "source": [
    "reduce_lr = keras.callbacks.ReduceLROnPlateau(monitor='val_loss', factor=0.05,\n",
    "                              patience=2, min_lr=0.00001)\n",
    "\n",
    "early_stopping = tf.keras.callbacks.EarlyStopping(monitor='val_loss', patience=5,min_delta = 0.001)"
   ]
  },
  {
   "cell_type": "code",
   "execution_count": 49,
   "id": "prime-humanitarian",
   "metadata": {},
   "outputs": [],
   "source": [
    "model = keras.models.Sequential([\n",
    "    keras.layers.InputLayer(input_shape=X_train.shape[1:], name = \"Input_Layer\"),\n",
    "    keras.layers.Dense(30, activation=model_params[\"hidden_activation\"], \n",
    "                       kernel_initializer=model_params[\"initializer\"], \n",
    "                      kernel_regularizer=model_params[\"regulizer\"], name = \"Hidden_Layer1\"),\n",
    "    keras.layers.Dense(10, activation=model_params[\"hidden_activation\"],\n",
    "                       kernel_initializer=model_params[\"initializer\"], \n",
    "                      kernel_regularizer=model_params[\"regulizer\"], name = \"Hidden_Layer2\"),\n",
    "    keras.layers.Dense(1, activation=model_params[\"output_activation\"], name = \"Output_Layer\"),\n",
    "])\n",
    "\n",
    "model.compile(loss=model_params[\"loss\"], \n",
    "              optimizer=model_params[\"optimizer\"])"
   ]
  },
  {
   "cell_type": "code",
   "execution_count": 50,
   "id": "nearby-original",
   "metadata": {},
   "outputs": [
    {
     "name": "stdout",
     "output_type": "stream",
     "text": [
      "Epoch 1/250\n",
      "119/119 [==============================] - 0s 3ms/step - loss: 3.5851 - val_loss: 3.4399\n",
      "Epoch 2/250\n",
      "119/119 [==============================] - 0s 2ms/step - loss: 3.3336 - val_loss: 3.2640\n",
      "Epoch 3/250\n",
      "119/119 [==============================] - 0s 3ms/step - loss: 3.1789 - val_loss: 3.1283\n",
      "Epoch 4/250\n",
      "119/119 [==============================] - 0s 2ms/step - loss: 3.0560 - val_loss: 3.0165\n",
      "Epoch 5/250\n",
      "119/119 [==============================] - 0s 2ms/step - loss: 2.9514 - val_loss: 2.9209\n",
      "Epoch 6/250\n",
      "119/119 [==============================] - 0s 2ms/step - loss: 2.8613 - val_loss: 2.8361\n",
      "Epoch 7/250\n",
      "119/119 [==============================] - 0s 2ms/step - loss: 2.7801 - val_loss: 2.7589\n",
      "Epoch 8/250\n",
      "119/119 [==============================] - 0s 2ms/step - loss: 2.7052 - val_loss: 2.6879\n",
      "Epoch 9/250\n",
      "119/119 [==============================] - 0s 2ms/step - loss: 2.6360 - val_loss: 2.6210\n",
      "Epoch 10/250\n",
      "119/119 [==============================] - 1s 4ms/step - loss: 2.5713 - val_loss: 2.5589\n",
      "Epoch 11/250\n",
      "119/119 [==============================] - 0s 3ms/step - loss: 2.5102 - val_loss: 2.5002\n",
      "Epoch 12/250\n",
      "119/119 [==============================] - 0s 4ms/step - loss: 2.4524 - val_loss: 2.4440\n",
      "Epoch 13/250\n",
      "119/119 [==============================] - 0s 3ms/step - loss: 2.3975 - val_loss: 2.3907\n",
      "Epoch 14/250\n",
      "119/119 [==============================] - 0s 3ms/step - loss: 2.3450 - val_loss: 2.3391\n",
      "Epoch 15/250\n",
      "119/119 [==============================] - 0s 3ms/step - loss: 2.2943 - val_loss: 2.2896\n",
      "Epoch 16/250\n",
      "119/119 [==============================] - 0s 3ms/step - loss: 2.2459 - val_loss: 2.2423\n",
      "Epoch 17/250\n",
      "119/119 [==============================] - 1s 5ms/step - loss: 2.1997 - val_loss: 2.1970\n",
      "Epoch 18/250\n",
      "119/119 [==============================] - 0s 3ms/step - loss: 2.1554 - val_loss: 2.1536\n",
      "Epoch 19/250\n",
      "119/119 [==============================] - 0s 3ms/step - loss: 2.1126 - val_loss: 2.1116\n",
      "Epoch 20/250\n",
      "119/119 [==============================] - 0s 3ms/step - loss: 2.0709 - val_loss: 2.0711\n",
      "Epoch 21/250\n",
      "119/119 [==============================] - 0s 3ms/step - loss: 2.0306 - val_loss: 2.0319\n",
      "Epoch 22/250\n",
      "119/119 [==============================] - 0s 3ms/step - loss: 1.9917 - val_loss: 1.9934\n",
      "Epoch 23/250\n",
      "119/119 [==============================] - 0s 3ms/step - loss: 1.9540 - val_loss: 1.9566\n",
      "Epoch 24/250\n",
      "119/119 [==============================] - 0s 3ms/step - loss: 1.9177 - val_loss: 1.9210\n",
      "Epoch 25/250\n",
      "119/119 [==============================] - 0s 3ms/step - loss: 1.8826 - val_loss: 1.8861\n",
      "Epoch 26/250\n",
      "119/119 [==============================] - 0s 3ms/step - loss: 1.8484 - val_loss: 1.8523\n",
      "Epoch 27/250\n",
      "119/119 [==============================] - 0s 3ms/step - loss: 1.8152 - val_loss: 1.8197\n",
      "Epoch 28/250\n",
      "119/119 [==============================] - 0s 3ms/step - loss: 1.7830 - val_loss: 1.7879\n",
      "Epoch 29/250\n",
      "119/119 [==============================] - 1s 4ms/step - loss: 1.7519 - val_loss: 1.7572\n",
      "Epoch 30/250\n",
      "119/119 [==============================] - 0s 4ms/step - loss: 1.7217 - val_loss: 1.7274\n",
      "Epoch 31/250\n",
      "119/119 [==============================] - 0s 3ms/step - loss: 1.6923 - val_loss: 1.6988\n",
      "Epoch 32/250\n",
      "119/119 [==============================] - 0s 3ms/step - loss: 1.6642 - val_loss: 1.6713\n",
      "Epoch 33/250\n",
      "119/119 [==============================] - 0s 3ms/step - loss: 1.6370 - val_loss: 1.6448\n",
      "Epoch 34/250\n",
      "119/119 [==============================] - 0s 3ms/step - loss: 1.6108 - val_loss: 1.6191\n",
      "Epoch 35/250\n",
      "119/119 [==============================] - 0s 3ms/step - loss: 1.5854 - val_loss: 1.5943\n",
      "Epoch 36/250\n",
      "119/119 [==============================] - 0s 3ms/step - loss: 1.5610 - val_loss: 1.5704\n",
      "Epoch 37/250\n",
      "119/119 [==============================] - 0s 3ms/step - loss: 1.5373 - val_loss: 1.5472\n",
      "Epoch 38/250\n",
      "119/119 [==============================] - 0s 2ms/step - loss: 1.5144 - val_loss: 1.5249\n",
      "Epoch 39/250\n",
      "119/119 [==============================] - 0s 3ms/step - loss: 1.4925 - val_loss: 1.5037\n",
      "Epoch 40/250\n",
      "119/119 [==============================] - 0s 3ms/step - loss: 1.4715 - val_loss: 1.4830\n",
      "Epoch 41/250\n",
      "119/119 [==============================] - 0s 3ms/step - loss: 1.4511 - val_loss: 1.4633\n",
      "Epoch 42/250\n",
      "119/119 [==============================] - 0s 3ms/step - loss: 1.4315 - val_loss: 1.4441\n",
      "Epoch 43/250\n",
      "119/119 [==============================] - 0s 2ms/step - loss: 1.4127 - val_loss: 1.4257\n",
      "Epoch 44/250\n",
      "119/119 [==============================] - 0s 2ms/step - loss: 1.3946 - val_loss: 1.4079\n",
      "Epoch 45/250\n",
      "119/119 [==============================] - 0s 3ms/step - loss: 1.3772 - val_loss: 1.3909\n",
      "Epoch 46/250\n",
      "119/119 [==============================] - 0s 3ms/step - loss: 1.3605 - val_loss: 1.3743\n",
      "Epoch 47/250\n",
      "119/119 [==============================] - 0s 3ms/step - loss: 1.3442 - val_loss: 1.3584\n",
      "Epoch 48/250\n",
      "119/119 [==============================] - 0s 2ms/step - loss: 1.3287 - val_loss: 1.3432\n",
      "Epoch 49/250\n",
      "119/119 [==============================] - 0s 3ms/step - loss: 1.3138 - val_loss: 1.3287\n",
      "Epoch 50/250\n",
      "119/119 [==============================] - 0s 2ms/step - loss: 1.2997 - val_loss: 1.3147\n",
      "Epoch 51/250\n",
      "119/119 [==============================] - 0s 3ms/step - loss: 1.2861 - val_loss: 1.3016\n",
      "Epoch 52/250\n",
      "119/119 [==============================] - 0s 3ms/step - loss: 1.2734 - val_loss: 1.2892\n",
      "Epoch 53/250\n",
      "119/119 [==============================] - 0s 3ms/step - loss: 1.2614 - val_loss: 1.2776\n",
      "Epoch 54/250\n",
      "119/119 [==============================] - 0s 3ms/step - loss: 1.2502 - val_loss: 1.2666\n",
      "Epoch 55/250\n",
      "119/119 [==============================] - 0s 3ms/step - loss: 1.2397 - val_loss: 1.2564\n",
      "Epoch 56/250\n",
      "119/119 [==============================] - 0s 2ms/step - loss: 1.2298 - val_loss: 1.2466\n",
      "Epoch 57/250\n",
      "119/119 [==============================] - 0s 3ms/step - loss: 1.2203 - val_loss: 1.2370\n",
      "Epoch 58/250\n",
      "119/119 [==============================] - 0s 3ms/step - loss: 1.2109 - val_loss: 1.2278\n",
      "Epoch 59/250\n",
      "119/119 [==============================] - 0s 3ms/step - loss: 1.2020 - val_loss: 1.2190\n",
      "Epoch 60/250\n",
      "119/119 [==============================] - 0s 3ms/step - loss: 1.1935 - val_loss: 1.2106\n",
      "Epoch 61/250\n",
      "119/119 [==============================] - 0s 3ms/step - loss: 1.1855 - val_loss: 1.2026\n",
      "Epoch 62/250\n",
      "119/119 [==============================] - 0s 3ms/step - loss: 1.1777 - val_loss: 1.1950\n",
      "Epoch 63/250\n",
      "119/119 [==============================] - 0s 3ms/step - loss: 1.1704 - val_loss: 1.1878\n",
      "Epoch 64/250\n",
      "119/119 [==============================] - 0s 3ms/step - loss: 1.1638 - val_loss: 1.1813\n",
      "Epoch 65/250\n",
      "119/119 [==============================] - 0s 2ms/step - loss: 1.1576 - val_loss: 1.1752\n",
      "Epoch 66/250\n",
      "119/119 [==============================] - 0s 3ms/step - loss: 1.1518 - val_loss: 1.1695\n",
      "Epoch 67/250\n",
      "119/119 [==============================] - 0s 3ms/step - loss: 1.1465 - val_loss: 1.1643\n",
      "Epoch 68/250\n",
      "119/119 [==============================] - 0s 3ms/step - loss: 1.1415 - val_loss: 1.1595\n",
      "Epoch 69/250\n",
      "119/119 [==============================] - 0s 3ms/step - loss: 1.1369 - val_loss: 1.1549\n",
      "Epoch 70/250\n",
      "119/119 [==============================] - 0s 3ms/step - loss: 1.1324 - val_loss: 1.1506\n",
      "Epoch 71/250\n",
      "119/119 [==============================] - 0s 3ms/step - loss: 1.1282 - val_loss: 1.1463\n",
      "Epoch 72/250\n",
      "119/119 [==============================] - 0s 3ms/step - loss: 1.1240 - val_loss: 1.1422\n",
      "Epoch 73/250\n",
      "119/119 [==============================] - 1s 5ms/step - loss: 1.1201 - val_loss: 1.1384\n",
      "Epoch 74/250\n",
      "119/119 [==============================] - 1s 5ms/step - loss: 1.1165 - val_loss: 1.1348\n",
      "Epoch 75/250\n",
      "119/119 [==============================] - 0s 2ms/step - loss: 1.1131 - val_loss: 1.1315\n",
      "Epoch 76/250\n",
      "119/119 [==============================] - 0s 2ms/step - loss: 1.1099 - val_loss: 1.1285\n",
      "Epoch 77/250\n",
      "119/119 [==============================] - 0s 4ms/step - loss: 1.1070 - val_loss: 1.1256\n",
      "Epoch 78/250\n",
      "119/119 [==============================] - 0s 4ms/step - loss: 1.1042 - val_loss: 1.1228\n",
      "Epoch 79/250\n",
      "119/119 [==============================] - 0s 4ms/step - loss: 1.1017 - val_loss: 1.1202\n",
      "Epoch 80/250\n",
      "119/119 [==============================] - 0s 3ms/step - loss: 1.0992 - val_loss: 1.1178\n",
      "Epoch 81/250\n",
      "119/119 [==============================] - 1s 4ms/step - loss: 1.0970 - val_loss: 1.1155\n",
      "Epoch 82/250\n",
      "119/119 [==============================] - 0s 3ms/step - loss: 1.0949 - val_loss: 1.1134\n",
      "Epoch 83/250\n",
      "119/119 [==============================] - 0s 3ms/step - loss: 1.0930 - val_loss: 1.1114\n",
      "Epoch 84/250\n",
      "119/119 [==============================] - 0s 3ms/step - loss: 1.0911 - val_loss: 1.1095\n",
      "Epoch 85/250\n",
      "119/119 [==============================] - 0s 3ms/step - loss: 1.0894 - val_loss: 1.1076\n",
      "Epoch 86/250\n",
      "119/119 [==============================] - 0s 3ms/step - loss: 1.0877 - val_loss: 1.1058\n",
      "Epoch 87/250\n",
      "119/119 [==============================] - 0s 3ms/step - loss: 1.0861 - val_loss: 1.1041\n",
      "Epoch 88/250\n",
      "119/119 [==============================] - 0s 3ms/step - loss: 1.0846 - val_loss: 1.1025\n",
      "Epoch 89/250\n",
      "119/119 [==============================] - 0s 3ms/step - loss: 1.0831 - val_loss: 1.1009\n",
      "Epoch 90/250\n",
      "119/119 [==============================] - 1s 5ms/step - loss: 1.0817 - val_loss: 1.0995\n",
      "Epoch 91/250\n",
      "119/119 [==============================] - 0s 3ms/step - loss: 1.0805 - val_loss: 1.0983\n",
      "Epoch 92/250\n",
      "119/119 [==============================] - 0s 3ms/step - loss: 1.0795 - val_loss: 1.0972\n",
      "Epoch 93/250\n",
      "119/119 [==============================] - 1s 5ms/step - loss: 1.0786 - val_loss: 1.0963\n",
      "Epoch 94/250\n",
      "119/119 [==============================] - 0s 4ms/step - loss: 1.0777 - val_loss: 1.0953\n",
      "Epoch 95/250\n",
      "119/119 [==============================] - 1s 6ms/step - loss: 1.0768 - val_loss: 1.0943\n",
      "Epoch 96/250\n",
      "119/119 [==============================] - 0s 4ms/step - loss: 1.0761 - val_loss: 1.0936\n",
      "Epoch 97/250\n",
      "119/119 [==============================] - 0s 4ms/step - loss: 1.0754 - val_loss: 1.0928\n",
      "Epoch 98/250\n",
      "119/119 [==============================] - 1s 5ms/step - loss: 1.0748 - val_loss: 1.0922\n",
      "Epoch 99/250\n",
      "119/119 [==============================] - 1s 7ms/step - loss: 1.0743 - val_loss: 1.0918\n",
      "Epoch 100/250\n",
      "119/119 [==============================] - 1s 5ms/step - loss: 1.0740 - val_loss: 1.0914\n",
      "Epoch 101/250\n",
      "119/119 [==============================] - 0s 4ms/step - loss: 1.0737 - val_loss: 1.0910\n",
      "Epoch 102/250\n",
      "119/119 [==============================] - 1s 5ms/step - loss: 1.0735 - val_loss: 1.0907\n",
      "Epoch 103/250\n",
      "119/119 [==============================] - 0s 4ms/step - loss: 1.0732 - val_loss: 1.0904\n",
      "Epoch 104/250\n",
      "119/119 [==============================] - 1s 5ms/step - loss: 1.0731 - val_loss: 1.0902\n",
      "Epoch 105/250\n",
      "119/119 [==============================] - 0s 4ms/step - loss: 1.0729 - val_loss: 1.0900\n",
      "Epoch 106/250\n",
      "119/119 [==============================] - 0s 3ms/step - loss: 1.0727 - val_loss: 1.0898\n",
      "Epoch 107/250\n",
      "119/119 [==============================] - 0s 4ms/step - loss: 1.0727 - val_loss: 1.0897\n",
      "Epoch 108/250\n",
      "119/119 [==============================] - 0s 3ms/step - loss: 1.0726 - val_loss: 1.0896\n",
      "Epoch 109/250\n",
      "119/119 [==============================] - 0s 3ms/step - loss: 1.0726 - val_loss: 1.0896\n",
      "Epoch 110/250\n",
      "119/119 [==============================] - 0s 3ms/step - loss: 1.0725 - val_loss: 1.0895\n"
     ]
    }
   ],
   "source": [
    "loss_min = {}\n",
    "val_loss_min = {}\n",
    "for i in [250]:\n",
    "    history = model.fit(X_train, \n",
    "                    y_train, \n",
    "                    epochs=i, \n",
    "                    verbose = 1, \n",
    "                    validation_data=(X_valid, y_valid),\n",
    "                    callbacks = [reduce_lr,early_stopping],\n",
    "                    batch_size = 32, \n",
    "                    shuffle = True)\n",
    "    loss_min[i] = min(history.history[\"loss\"])\n",
    "    val_loss_min[i] = min(history.history[\"val_loss\"])"
   ]
  },
  {
   "cell_type": "code",
   "execution_count": 79,
   "id": "accompanied-essex",
   "metadata": {},
   "outputs": [
    {
     "data": {
      "image/png": "[encoded data removed]",
      "text/plain": [
       "<Figure size 432x288 with 1 Axes>"
      ]
     },
     "metadata": {
      "needs_background": "light"
     },
     "output_type": "display_data"
    }
   ],
   "source": [
    "plot_loss(history, exp = False, save = True)"
   ]
  },
  {
   "cell_type": "code",
   "execution_count": 71,
   "id": "preceding-mercury",
   "metadata": {},
   "outputs": [
    {
     "name": "stdout",
     "output_type": "stream",
     "text": [
      "175/175 [==============================] - 0s 2ms/step - loss: 1.1241\n"
     ]
    },
    {
     "data": {
      "text/plain": [
       "1.1240966320037842"
      ]
     },
     "execution_count": 71,
     "metadata": {},
     "output_type": "execute_result"
    }
   ],
   "source": [
    "model.evaluate(x = X_test,  y = y_test, verbose=1, batch_size = 16)"
   ]
  },
  {
   "cell_type": "code",
   "execution_count": null,
   "id": "naked-serve",
   "metadata": {},
   "outputs": [],
   "source": []
  },
  {
   "cell_type": "code",
   "execution_count": null,
   "id": "effective-western",
   "metadata": {},
   "outputs": [],
   "source": []
  },
  {
   "cell_type": "code",
   "execution_count": 72,
   "id": "geographic-likelihood",
   "metadata": {},
   "outputs": [
    {
     "data": {
      "image/png": "[encoded data removed]",
      "text/plain": [
       "<IPython.core.display.Image object>"
      ]
     },
     "execution_count": 72,
     "metadata": {},
     "output_type": "execute_result"
    }
   ],
   "source": [
    "import os\n",
    "img_dir = r\"/Users/James/Documents/Python/Machine Learning Projects/Spotify_Listening_Analysis/Spotify 2.0/ml_stuff/training\"\n",
    "img_name = \"model_network.png\"\n",
    "\n",
    "tf.keras.utils.plot_model(model, to_file=os.path.join(img_dir, img_name), show_shapes=True)"
   ]
  },
  {
   "cell_type": "code",
   "execution_count": null,
   "id": "broke-variety",
   "metadata": {},
   "outputs": [],
   "source": []
  },
  {
   "cell_type": "code",
   "execution_count": null,
   "id": "atomic-school",
   "metadata": {},
   "outputs": [],
   "source": []
  },
  {
   "cell_type": "code",
   "execution_count": null,
   "id": "electric-latin",
   "metadata": {},
   "outputs": [],
   "source": []
  },
  {
   "cell_type": "code",
   "execution_count": null,
   "id": "increasing-register",
   "metadata": {},
   "outputs": [],
   "source": []
  }
 ],
 "metadata": {
  "kernelspec": {
   "display_name": "Python 3",
   "language": "python",
   "name": "python3"
  },
  "language_info": {
   "codemirror_mode": {
    "name": "ipython",
    "version": 3
   },
   "file_extension": ".py",
   "mimetype": "text/x-python",
   "name": "python",
   "nbconvert_exporter": "python",
   "pygments_lexer": "ipython3",
   "version": "3.8.5"
  }
 },
 "nbformat": 4,
 "nbformat_minor": 5
}
