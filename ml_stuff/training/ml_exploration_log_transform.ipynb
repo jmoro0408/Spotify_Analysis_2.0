{
 "cells": [
  {
   "cell_type": "code",
   "execution_count": 1,
   "id": "touched-istanbul",
   "metadata": {},
   "outputs": [
    {
     "name": "stderr",
     "output_type": "stream",
     "text": [
      "/Users/James/.pyenv/versions/3.8.5/envs/ml_env/lib/python3.8/site-packages/pandas/compat/__init__.py:97: UserWarning: Could not import the lzma module. Your installed Python is incomplete. Attempting to use lzma compression will result in a RuntimeError.\n",
      "  warnings.warn(msg)\n"
     ]
    }
   ],
   "source": [
    "import pandas as pd\n",
    "from pathlib import Path\n",
    "\n",
    "streams_features_file = r\"/Users/James/Documents/Python/Machine Learning Projects/Spotify_Listening_Analysis/Spotify 2.0/preprocessing/pickles/my_features.pkl\"\n",
    "streams_features_raw = pd.read_pickle(streams_features_file)\n",
    "streams_features = streams_features_raw.copy()\n",
    "\n",
    "\n",
    "columns_to_drop = [\"type\", \"id\", \"uri\", \"track_href\", \"analysis_url\", \"time_signature\"]\n",
    "streams_features.drop(columns_to_drop, inplace=True, axis=1)\n",
    "\n",
    "\n",
    "def convert_duration(dataframe=streams_features):\n",
    "    dataframe[\"duration\"] = dataframe[\"duration_ms\"].divide(60000)\n",
    "    dataframe.drop(\"duration_ms\", axis=1, inplace=True)\n",
    "    return dataframe\n",
    "\n",
    "\n",
    "def add_play_count(dataframe=streams_features):\n",
    "    dataframe[\"playCount\"] = dataframe[\"minutesTotal\"] / dataframe[\"duration\"]\n",
    "    return dataframe\n",
    "\n",
    "\n",
    "streams_features = convert_duration(streams_features)\n",
    "streams_features = add_play_count(streams_features)\n",
    "\n",
    "streams_features = streams_features[\n",
    "    (streams_features[\"artistName\"] != \"John Mayer\")\n",
    "    & (streams_features[\"trackName\"] != \"On The Way Home\")\n",
    "]  # this one song has an incorrect duration and is returning a 30+ play count, definitely something not right\n"
   ]
  },
  {
   "cell_type": "code",
   "execution_count": 2,
   "id": "fewer-venice",
   "metadata": {},
   "outputs": [],
   "source": [
    "def plot_loss(model_history, exp = False):\n",
    "    if exp:\n",
    "        plt.plot(pd.DataFrame(np.exp(model_history.history[\"loss\"])), label = \"loss\")\n",
    "        plt.plot(pd.DataFrame(np.exp(model_history.history[\"val_loss\"])), label = \"val_loss\")\n",
    "    else:\n",
    "        plt.plot(pd.DataFrame(model_history.history[\"loss\"]), label = \"loss\")\n",
    "        plt.plot(pd.DataFrame(model_history.history[\"val_loss\"]), label = \"val_loss\")\n",
    "    plt.grid(True)\n",
    "    #plt.gca().set_ylim(0, 10)\n",
    "    plt.xlabel(\"Epoch\")\n",
    "    plt.ylabel(\"Loss\")\n",
    "    plt.legend()\n",
    "    plt.show()"
   ]
  },
  {
   "cell_type": "code",
   "execution_count": 3,
   "id": "brave-world",
   "metadata": {},
   "outputs": [],
   "source": [
    "def plot_hist(model):\n",
    "    fig, ax = plt.subplots(figsize=(7,5));\n",
    "    ax = sns.histplot(data = model, x = \"playCount\", stat = \"count\", kde = True)\n",
    "    return ax"
   ]
  },
  {
   "cell_type": "code",
   "execution_count": 4,
   "id": "martial-anger",
   "metadata": {},
   "outputs": [
    {
     "data": {
      "text/plain": [
       "artistName          182\n",
       "trackName           182\n",
       "minutesTotal        182\n",
       "trackId             182\n",
       "danceability        182\n",
       "energy              182\n",
       "key                 182\n",
       "loudness            182\n",
       "mode                182\n",
       "speechiness         182\n",
       "acousticness        182\n",
       "instrumentalness    182\n",
       "liveness            182\n",
       "valence             182\n",
       "tempo               182\n",
       "duration            182\n",
       "playCount           182\n",
       "dtype: int64"
      ]
     },
     "execution_count": 4,
     "metadata": {},
     "output_type": "execute_result"
    }
   ],
   "source": [
    "streams_features[streams_features[\"playCount\"]==0].count()"
   ]
  },
  {
   "cell_type": "code",
   "execution_count": 5,
   "id": "failing-notebook",
   "metadata": {},
   "outputs": [
    {
     "data": {
      "text/plain": [
       "artistName          8443\n",
       "trackName           8443\n",
       "minutesTotal        8443\n",
       "trackId             8443\n",
       "danceability        8443\n",
       "energy              8443\n",
       "key                 8443\n",
       "loudness            8443\n",
       "mode                8443\n",
       "speechiness         8443\n",
       "acousticness        8443\n",
       "instrumentalness    8443\n",
       "liveness            8443\n",
       "valence             8443\n",
       "tempo               8443\n",
       "duration            8443\n",
       "playCount           8443\n",
       "dtype: int64"
      ]
     },
     "execution_count": 5,
     "metadata": {},
     "output_type": "execute_result"
    }
   ],
   "source": [
    "streams_features.count()"
   ]
  },
  {
   "cell_type": "code",
   "execution_count": 6,
   "id": "bronze-yukon",
   "metadata": {},
   "outputs": [],
   "source": [
    "import seaborn as sns\n",
    "import matplotlib.pyplot as plt"
   ]
  },
  {
   "cell_type": "code",
   "execution_count": 7,
   "id": "minimal-postage",
   "metadata": {},
   "outputs": [
    {
     "data": {
      "text/plain": [
       "<AxesSubplot:xlabel='playCount', ylabel='Count'>"
      ]
     },
     "execution_count": 7,
     "metadata": {},
     "output_type": "execute_result"
    },
    {
     "data": {
      "image/png": "[encoded data removed]",
      "text/plain": [
       "<Figure size 504x360 with 1 Axes>"
      ]
     },
     "metadata": {
      "needs_background": "light"
     },
     "output_type": "display_data"
    }
   ],
   "source": [
    "plot_hist(streams_features)"
   ]
  },
  {
   "cell_type": "code",
   "execution_count": 8,
   "id": "wrong-abuse",
   "metadata": {},
   "outputs": [
    {
     "data": {
      "text/plain": [
       "5.095245716380945"
      ]
     },
     "execution_count": 8,
     "metadata": {},
     "output_type": "execute_result"
    }
   ],
   "source": [
    "streams_features[\"playCount\"].skew() #Prior to transformation"
   ]
  },
  {
   "cell_type": "code",
   "execution_count": 310,
   "id": "federal-brooklyn",
   "metadata": {},
   "outputs": [],
   "source": [
    "#Trying Boxcox transformation\n",
    "# from scipy import stats\n",
    "# streams_features = streams_features[streams_features[\"playCount\"]>0]\n",
    "# plays = streams_features[\"playCount\"].to_numpy()\n",
    "# plays,_ = stats.boxcox(plays)\n",
    "# streams_features[\"playCount\"] = plays\n",
    "# streams_features[\"playCount\"].skew()"
   ]
  },
  {
   "cell_type": "markdown",
   "id": "comprehensive-continuity",
   "metadata": {},
   "source": [
    "Trying to normalize the data through log transformation"
   ]
  },
  {
   "cell_type": "code",
   "execution_count": 311,
   "id": "stuffed-great",
   "metadata": {},
   "outputs": [],
   "source": [
    "#Removing outliers \n",
    "# streams_features = streams_features[streams_features[\"playCount\"]<5]\n",
    "# streams_features = streams_features[streams_features[\"playCount\"]>=0.5]\n",
    "# streams_features.count()\n",
    "# sns.histplot(data = streams_features, x = \"playCount\", stat = \"count\", kde = True)"
   ]
  },
  {
   "cell_type": "code",
   "execution_count": 9,
   "id": "sustained-genius",
   "metadata": {},
   "outputs": [
    {
     "name": "stderr",
     "output_type": "stream",
     "text": [
      "/Users/James/.pyenv/versions/3.8.5/envs/ml_env/lib/python3.8/site-packages/pandas/core/generic.py:9286: SettingWithCopyWarning: \n",
      "A value is trying to be set on a copy of a slice from a DataFrame\n",
      "\n",
      "See the caveats in the documentation: https://pandas.pydata.org/pandas-docs/stable/user_guide/indexing.html#returning-a-view-versus-a-copy\n",
      "  return self._where(\n"
     ]
    }
   ],
   "source": [
    "#Cap most played songs at 10\n",
    "streams_features[\"playCount\"].where(streams_features[\"playCount\"] <= 10, 10, inplace=True)"
   ]
  },
  {
   "cell_type": "code",
   "execution_count": 11,
   "id": "federal-syracuse",
   "metadata": {},
   "outputs": [
    {
     "data": {
      "text/plain": [
       "<AxesSubplot:xlabel='playCount', ylabel='Count'>"
      ]
     },
     "execution_count": 11,
     "metadata": {},
     "output_type": "execute_result"
    },
    {
     "data": {
      "image/png": "[encoded data removed]",
      "text/plain": [
       "<Figure size 432x288 with 1 Axes>"
      ]
     },
     "metadata": {
      "needs_background": "light"
     },
     "output_type": "display_data"
    }
   ],
   "source": [
    "import numpy as np\n",
    "no_zeroes = streams_features[streams_features[\"playCount\"]>0]\n",
    "log_dist = np.log(no_zeroes[\"playCount\"])\n",
    "sns.histplot(data = log_dist, stat = \"count\", kde = True)"
   ]
  },
  {
   "cell_type": "code",
   "execution_count": 12,
   "id": "vulnerable-february",
   "metadata": {},
   "outputs": [],
   "source": [
    "# fig, axs = plt.subplots(1,3,figsize=(12,5))\n",
    "# sns.histplot(data = no_zeroes[\"playCount\"], stat = \"count\", kde = True, ax = axs[0])\n",
    "# sns.histplot(data = log_dist2, stat = \"count\", kde = True, ax = axs[1])\n",
    "# sns.histplot(data = sqrt_dist, stat = \"count\", kde = True, ax = axs[2])"
   ]
  },
  {
   "cell_type": "code",
   "execution_count": 13,
   "id": "healthy-spain",
   "metadata": {},
   "outputs": [],
   "source": [
    "streams_features = streams_features[streams_features[\"playCount\"]>0]\n",
    "streams_features[\"playCount\"] = np.log(no_zeroes[\"playCount\"])"
   ]
  },
  {
   "cell_type": "code",
   "execution_count": 14,
   "id": "bright-validity",
   "metadata": {},
   "outputs": [
    {
     "data": {
      "text/plain": [
       "-0.9086037543394033"
      ]
     },
     "execution_count": 14,
     "metadata": {},
     "output_type": "execute_result"
    }
   ],
   "source": [
    "streams_features[\"playCount\"].skew() #After  transformation"
   ]
  },
  {
   "cell_type": "code",
   "execution_count": 15,
   "id": "split-width",
   "metadata": {},
   "outputs": [
    {
     "data": {
      "text/plain": [
       "8261"
      ]
     },
     "execution_count": 15,
     "metadata": {},
     "output_type": "execute_result"
    }
   ],
   "source": [
    "streams_features[\"playCount\"].count()"
   ]
  },
  {
   "cell_type": "code",
   "execution_count": 16,
   "id": "exclusive-position",
   "metadata": {},
   "outputs": [
    {
     "data": {
      "text/plain": [
       "playCount           1.000000\n",
       "minutesTotal        0.507955\n",
       "acousticness        0.097303\n",
       "instrumentalness    0.091186\n",
       "mode                0.027466\n",
       "key                 0.004854\n",
       "liveness           -0.032592\n",
       "duration           -0.034313\n",
       "tempo              -0.037245\n",
       "speechiness        -0.052461\n",
       "valence            -0.053775\n",
       "danceability       -0.078444\n",
       "loudness           -0.104600\n",
       "energy             -0.107586\n",
       "Name: playCount, dtype: float64"
      ]
     },
     "execution_count": 16,
     "metadata": {},
     "output_type": "execute_result"
    }
   ],
   "source": [
    "corr_matrix = streams_features.corr()\n",
    "corr_matrix[\"playCount\"].sort_values(ascending=False)"
   ]
  },
  {
   "cell_type": "code",
   "execution_count": 17,
   "id": "israeli-negotiation",
   "metadata": {},
   "outputs": [
    {
     "data": {
      "text/plain": [
       "<AxesSubplot:>"
      ]
     },
     "execution_count": 17,
     "metadata": {},
     "output_type": "execute_result"
    },
    {
     "data": {
      "image/png": "[encoded data removed]",
      "text/plain": [
       "<Figure size 432x288 with 2 Axes>"
      ]
     },
     "metadata": {
      "needs_background": "light"
     },
     "output_type": "display_data"
    }
   ],
   "source": [
    "import numpy as np\n",
    "mask = np.triu(np.ones_like(corr_matrix, dtype=bool))\n",
    "\n",
    "# Generate a custom diverging colormap\n",
    "cmap = sns.diverging_palette(230, 20, as_cmap=True)\n",
    "\n",
    "# Draw the heatmap with the mask and correct aspect ratio\n",
    "sns.heatmap(corr_matrix, mask=mask, cmap=cmap, vmax=.3, center=0,\n",
    "            square=True, linewidths=.5, cbar_kws={\"shrink\": .5})"
   ]
  },
  {
   "cell_type": "code",
   "execution_count": 18,
   "id": "charged-cooperation",
   "metadata": {},
   "outputs": [],
   "source": [
    "X = streams_features.drop([\"artistName\", \"trackName\", \"minutesTotal\", \"trackId\", \"playCount\"], axis = 1)\n",
    "y = streams_features[\"playCount\"]"
   ]
  },
  {
   "cell_type": "code",
   "execution_count": 20,
   "id": "falling-wisdom",
   "metadata": {},
   "outputs": [],
   "source": [
    "from sklearn.preprocessing import MinMaxScaler\n",
    "from sklearn.preprocessing import StandardScaler\n",
    "from sklearn.preprocessing import PowerTransformer\n",
    "pt = PowerTransformer(method='yeo-johnson')\n",
    "standard_scalar  = StandardScaler()\n",
    "min_max_scaler = MinMaxScaler()\n",
    "X = min_max_scaler.fit_transform(X)\n",
    "#X = pt.fit_transform(X)"
   ]
  },
  {
   "cell_type": "code",
   "execution_count": 21,
   "id": "exciting-sodium",
   "metadata": {},
   "outputs": [],
   "source": [
    "# pt = PowerTransformer(method='yeo-johnson')\n",
    "# data = pt.fit_transform(X)\n",
    "# # convert the array back to a dataframe\n",
    "# dataset = pd.DataFrame(data)\n",
    "# # histograms of the variables\n",
    "# dataset.hist()\n",
    "# plt.show()"
   ]
  },
  {
   "cell_type": "code",
   "execution_count": 22,
   "id": "similar-newsletter",
   "metadata": {},
   "outputs": [
    {
     "data": {
      "text/plain": [
       "8261"
      ]
     },
     "execution_count": 22,
     "metadata": {},
     "output_type": "execute_result"
    }
   ],
   "source": [
    "len(X)"
   ]
  },
  {
   "cell_type": "code",
   "execution_count": 24,
   "id": "requested-unknown",
   "metadata": {},
   "outputs": [],
   "source": [
    "from sklearn.model_selection import train_test_split\n",
    "X_train, X_test, y_train, y_test = train_test_split(X,y, test_size=0.2, random_state=42)"
   ]
  },
  {
   "cell_type": "code",
   "execution_count": 25,
   "id": "empirical-front",
   "metadata": {},
   "outputs": [],
   "source": [
    "X_train, X_valid, y_train, y_valid = train_test_split(X_train,y_train, test_size=0.1, random_state=42)"
   ]
  },
  {
   "cell_type": "code",
   "execution_count": 26,
   "id": "responsible-gazette",
   "metadata": {},
   "outputs": [],
   "source": [
    "X_lengths = {\"X_train\" : len(X_train), \"X_test\" : len(X_test), \"X_valid\" : len(X_valid)}\n",
    "y_lengths = {\"y_train\" : len(y_train), \"y_test\" : len(y_test), \"y_valid\" : len(y_valid)}"
   ]
  },
  {
   "cell_type": "code",
   "execution_count": 27,
   "id": "structural-opposition",
   "metadata": {},
   "outputs": [
    {
     "data": {
      "text/plain": [
       "({'X_train': 5947, 'X_test': 1653, 'X_valid': 661},\n",
       " {'y_train': 5947, 'y_test': 1653, 'y_valid': 661})"
      ]
     },
     "execution_count": 27,
     "metadata": {},
     "output_type": "execute_result"
    }
   ],
   "source": [
    "X_lengths, y_lengths"
   ]
  },
  {
   "cell_type": "code",
   "execution_count": 28,
   "id": "accurate-maine",
   "metadata": {},
   "outputs": [],
   "source": [
    "import tensorflow as tf\n",
    "from tensorflow import keras"
   ]
  },
  {
   "cell_type": "code",
   "execution_count": 29,
   "id": "measured-reynolds",
   "metadata": {},
   "outputs": [],
   "source": [
    "model_params = {\n",
    "    \"optimizer\":keras.optimizers.Adam(\n",
    "    learning_rate=0.00001, beta_1=0.9, beta_2=0.999, epsilon=1e-07, amsgrad=True,\n",
    "    name='Adam'), \n",
    "    \"loss\": tf.keras.losses.MeanAbsoluteError(),\n",
    "    \"hidden_activation\":\"relu\",\n",
    "    \"output_activation\":\"relu\",  \n",
    "    #\"loss\":keras.losses.Huber(), \n",
    "    \"initializer\" : tf.keras.initializers.HeNormal()\n",
    "}"
   ]
  },
  {
   "cell_type": "code",
   "execution_count": 30,
   "id": "imposed-eugene",
   "metadata": {},
   "outputs": [],
   "source": [
    "reduce_lr = keras.callbacks.ReduceLROnPlateau(monitor='val_loss', factor=0.75,\n",
    "                              patience=2, min_lr=0.00001)\n",
    "\n",
    "early_stopping = tf.keras.callbacks.EarlyStopping(monitor='val_loss', patience=8,min_delta = 0.0001)"
   ]
  },
  {
   "cell_type": "code",
   "execution_count": 31,
   "id": "opponent-boards",
   "metadata": {},
   "outputs": [],
   "source": [
    "model = keras.models.Sequential([\n",
    "    keras.layers.Dense(50, activation=model_params[\"hidden_activation\"], input_shape=X_train.shape[1:], \n",
    "                       kernel_initializer=model_params[\"initializer\"]),\n",
    "    #keras.layers.Dense(50, activation=model_params[\"hidden_activation\"]),\n",
    "    #keras.layers.Dense(30, activation=model_params[\"hidden_activation\"]),\n",
    "    #keras.layers.Dense(25, activation=model_params[\"hidden_activation\"],kernel_initializer=model_params[\"initializer\"]),\n",
    "    keras.layers.Dense(20, activation=model_params[\"hidden_activation\"],kernel_initializer=model_params[\"initializer\"]),\n",
    "    keras.layers.Dense(1, activation=model_params[\"output_activation\"]),\n",
    "])\n",
    "\n",
    "model.compile(loss=model_params[\"loss\"], \n",
    "              optimizer=model_params[\"optimizer\"])"
   ]
  },
  {
   "cell_type": "code",
   "execution_count": 32,
   "id": "greek-brain",
   "metadata": {},
   "outputs": [
    {
     "name": "stdout",
     "output_type": "stream",
     "text": [
      "Epoch 1/250\n",
      "186/186 [==============================] - 0s 2ms/step - loss: 1.8752 - val_loss: 1.8327\n",
      "Epoch 2/250\n",
      "186/186 [==============================] - 0s 1ms/step - loss: 1.8438 - val_loss: 1.8019\n",
      "Epoch 3/250\n",
      "186/186 [==============================] - 0s 2ms/step - loss: 1.8158 - val_loss: 1.7750\n",
      "Epoch 4/250\n",
      "186/186 [==============================] - 0s 2ms/step - loss: 1.7907 - val_loss: 1.7512\n",
      "Epoch 5/250\n",
      "186/186 [==============================] - 0s 2ms/step - loss: 1.7680 - val_loss: 1.7297\n",
      "Epoch 6/250\n",
      "186/186 [==============================] - 0s 2ms/step - loss: 1.7475 - val_loss: 1.7109\n",
      "Epoch 7/250\n",
      "186/186 [==============================] - 0s 2ms/step - loss: 1.7291 - val_loss: 1.6938\n",
      "Epoch 8/250\n",
      "186/186 [==============================] - 0s 2ms/step - loss: 1.7128 - val_loss: 1.6791\n",
      "Epoch 9/250\n",
      "186/186 [==============================] - 0s 3ms/step - loss: 1.6987 - val_loss: 1.6663\n",
      "Epoch 10/250\n",
      "186/186 [==============================] - 0s 2ms/step - loss: 1.6874 - val_loss: 1.6565\n",
      "Epoch 11/250\n",
      "186/186 [==============================] - 0s 2ms/step - loss: 1.6791 - val_loss: 1.6495\n",
      "Epoch 12/250\n",
      "186/186 [==============================] - 0s 2ms/step - loss: 1.6736 - val_loss: 1.6450\n",
      "Epoch 13/250\n",
      "186/186 [==============================] - 0s 3ms/step - loss: 1.6703 - val_loss: 1.6420\n",
      "Epoch 14/250\n",
      "186/186 [==============================] - 0s 2ms/step - loss: 1.6683 - val_loss: 1.6399\n",
      "Epoch 15/250\n",
      "186/186 [==============================] - 0s 2ms/step - loss: 1.6668 - val_loss: 1.6382\n",
      "Epoch 16/250\n",
      "186/186 [==============================] - 0s 2ms/step - loss: 1.6657 - val_loss: 1.6367\n",
      "Epoch 17/250\n",
      "186/186 [==============================] - 1s 3ms/step - loss: 1.6648 - val_loss: 1.6355\n",
      "Epoch 18/250\n",
      "186/186 [==============================] - 0s 2ms/step - loss: 1.6641 - val_loss: 1.6344\n",
      "Epoch 19/250\n",
      "186/186 [==============================] - 0s 3ms/step - loss: 1.6634 - val_loss: 1.6336\n",
      "Epoch 20/250\n",
      "186/186 [==============================] - 0s 2ms/step - loss: 1.6629 - val_loss: 1.6328\n",
      "Epoch 21/250\n",
      "186/186 [==============================] - 0s 2ms/step - loss: 1.6623 - val_loss: 1.6321\n",
      "Epoch 22/250\n",
      "186/186 [==============================] - 0s 1ms/step - loss: 1.6619 - val_loss: 1.6315\n",
      "Epoch 23/250\n",
      "186/186 [==============================] - 0s 2ms/step - loss: 1.6614 - val_loss: 1.6310\n",
      "Epoch 24/250\n",
      "186/186 [==============================] - 0s 2ms/step - loss: 1.6611 - val_loss: 1.6306\n",
      "Epoch 25/250\n",
      "186/186 [==============================] - 0s 1ms/step - loss: 1.6608 - val_loss: 1.6303\n",
      "Epoch 26/250\n",
      "186/186 [==============================] - 0s 2ms/step - loss: 1.6606 - val_loss: 1.6300\n",
      "Epoch 27/250\n",
      "186/186 [==============================] - 0s 2ms/step - loss: 1.6603 - val_loss: 1.6297\n",
      "Epoch 28/250\n",
      "186/186 [==============================] - 0s 2ms/step - loss: 1.6601 - val_loss: 1.6294\n",
      "Epoch 29/250\n",
      "186/186 [==============================] - 1s 3ms/step - loss: 1.6600 - val_loss: 1.6292\n",
      "Epoch 30/250\n",
      "186/186 [==============================] - 0s 2ms/step - loss: 1.6598 - val_loss: 1.6290\n",
      "Epoch 31/250\n",
      "186/186 [==============================] - 0s 2ms/step - loss: 1.6597 - val_loss: 1.6288\n",
      "Epoch 32/250\n",
      "186/186 [==============================] - 0s 3ms/step - loss: 1.6596 - val_loss: 1.6287\n",
      "Epoch 33/250\n",
      "186/186 [==============================] - 0s 2ms/step - loss: 1.6595 - val_loss: 1.6285\n",
      "Epoch 34/250\n",
      "186/186 [==============================] - 0s 2ms/step - loss: 1.6594 - val_loss: 1.6284\n",
      "Epoch 35/250\n",
      "186/186 [==============================] - 0s 3ms/step - loss: 1.6593 - val_loss: 1.6282\n",
      "Epoch 36/250\n",
      "186/186 [==============================] - 0s 2ms/step - loss: 1.6592 - val_loss: 1.6281\n",
      "Epoch 37/250\n",
      "186/186 [==============================] - 0s 2ms/step - loss: 1.6592 - val_loss: 1.6280\n",
      "Epoch 38/250\n",
      "186/186 [==============================] - 0s 2ms/step - loss: 1.6591 - val_loss: 1.6279\n",
      "Epoch 39/250\n",
      "186/186 [==============================] - 0s 2ms/step - loss: 1.6590 - val_loss: 1.6278\n",
      "Epoch 40/250\n",
      "186/186 [==============================] - 0s 2ms/step - loss: 1.6590 - val_loss: 1.6277\n",
      "Epoch 41/250\n",
      "186/186 [==============================] - 0s 2ms/step - loss: 1.6589 - val_loss: 1.6276\n",
      "Epoch 42/250\n",
      "186/186 [==============================] - 0s 1ms/step - loss: 1.6589 - val_loss: 1.6275\n",
      "Epoch 43/250\n",
      "186/186 [==============================] - 0s 2ms/step - loss: 1.6588 - val_loss: 1.6274\n",
      "Epoch 44/250\n",
      "186/186 [==============================] - 0s 2ms/step - loss: 1.6588 - val_loss: 1.6274\n",
      "Epoch 45/250\n",
      "186/186 [==============================] - 0s 2ms/step - loss: 1.6588 - val_loss: 1.6273\n",
      "Epoch 46/250\n",
      "186/186 [==============================] - 0s 2ms/step - loss: 1.6587 - val_loss: 1.6272\n",
      "Epoch 47/250\n",
      "186/186 [==============================] - 0s 2ms/step - loss: 1.6587 - val_loss: 1.6272\n",
      "Epoch 48/250\n",
      "186/186 [==============================] - 0s 2ms/step - loss: 1.6586 - val_loss: 1.6271\n",
      "Epoch 49/250\n",
      "186/186 [==============================] - 0s 2ms/step - loss: 1.6586 - val_loss: 1.6271\n",
      "Epoch 50/250\n",
      "186/186 [==============================] - 0s 3ms/step - loss: 1.6586 - val_loss: 1.6270\n",
      "Epoch 51/250\n",
      "186/186 [==============================] - 0s 2ms/step - loss: 1.6585 - val_loss: 1.6270\n",
      "Epoch 52/250\n",
      "186/186 [==============================] - 0s 2ms/step - loss: 1.6585 - val_loss: 1.6269\n",
      "Epoch 53/250\n",
      "186/186 [==============================] - 0s 2ms/step - loss: 1.6585 - val_loss: 1.6269\n",
      "Epoch 54/250\n",
      "186/186 [==============================] - 0s 2ms/step - loss: 1.6585 - val_loss: 1.6268\n",
      "Epoch 55/250\n",
      "186/186 [==============================] - 0s 2ms/step - loss: 1.6585 - val_loss: 1.6268\n",
      "Epoch 56/250\n",
      "186/186 [==============================] - 0s 1ms/step - loss: 1.6584 - val_loss: 1.6268\n",
      "Epoch 57/250\n",
      "186/186 [==============================] - 0s 2ms/step - loss: 1.6584 - val_loss: 1.6268\n",
      "Epoch 58/250\n",
      "186/186 [==============================] - 0s 2ms/step - loss: 1.6584 - val_loss: 1.6267\n",
      "Epoch 59/250\n",
      "186/186 [==============================] - 0s 2ms/step - loss: 1.6584 - val_loss: 1.6267\n",
      "Epoch 60/250\n",
      "186/186 [==============================] - 0s 2ms/step - loss: 1.6584 - val_loss: 1.6267\n",
      "Epoch 61/250\n",
      "186/186 [==============================] - 0s 1ms/step - loss: 1.6584 - val_loss: 1.6267\n",
      "Epoch 62/250\n",
      "186/186 [==============================] - 0s 1ms/step - loss: 1.6584 - val_loss: 1.6266\n",
      "Epoch 63/250\n",
      "186/186 [==============================] - 0s 2ms/step - loss: 1.6584 - val_loss: 1.6266\n",
      "Epoch 64/250\n",
      "186/186 [==============================] - 0s 2ms/step - loss: 1.6584 - val_loss: 1.6266\n",
      "Epoch 65/250\n",
      "186/186 [==============================] - 0s 2ms/step - loss: 1.6583 - val_loss: 1.6266\n",
      "Epoch 66/250\n",
      "186/186 [==============================] - 0s 2ms/step - loss: 1.6583 - val_loss: 1.6266\n",
      "Epoch 67/250\n",
      "186/186 [==============================] - 0s 2ms/step - loss: 1.6583 - val_loss: 1.6265\n",
      "Epoch 68/250\n",
      "186/186 [==============================] - 0s 2ms/step - loss: 1.6583 - val_loss: 1.6265\n",
      "Epoch 69/250\n",
      "186/186 [==============================] - 0s 3ms/step - loss: 1.6583 - val_loss: 1.6265\n",
      "Epoch 70/250\n",
      "186/186 [==============================] - 0s 2ms/step - loss: 1.6583 - val_loss: 1.6265\n",
      "Epoch 71/250\n",
      "186/186 [==============================] - 0s 2ms/step - loss: 1.6583 - val_loss: 1.6265\n",
      "Epoch 72/250\n",
      "186/186 [==============================] - 0s 2ms/step - loss: 1.6583 - val_loss: 1.6265\n",
      "Epoch 73/250\n",
      "186/186 [==============================] - 0s 2ms/step - loss: 1.6583 - val_loss: 1.6265\n",
      "Epoch 74/250\n",
      "186/186 [==============================] - 0s 2ms/step - loss: 1.6583 - val_loss: 1.6265\n",
      "Epoch 75/250\n",
      "186/186 [==============================] - 0s 2ms/step - loss: 1.6583 - val_loss: 1.6264\n",
      "Epoch 76/250\n",
      "186/186 [==============================] - 0s 1ms/step - loss: 1.6583 - val_loss: 1.6264\n"
     ]
    }
   ],
   "source": [
    "loss_min = {}\n",
    "val_loss_min = {}\n",
    "for i in [250]:\n",
    "    history = model.fit(X_train, \n",
    "                    y_train, \n",
    "                    epochs=i, \n",
    "                    verbose = 1, \n",
    "                    validation_data=(X_valid, y_valid),\n",
    "                    callbacks = [early_stopping, reduce_lr],\n",
    "                    batch_size = 32)\n",
    "    loss_min[i] = min(history.history[\"loss\"])\n",
    "    val_loss_min[i] = min(history.history[\"val_loss\"])"
   ]
  },
  {
   "cell_type": "code",
   "execution_count": 33,
   "id": "brave-poverty",
   "metadata": {},
   "outputs": [
    {
     "data": {
      "image/png": "[encoded data removed]",
      "text/plain": [
       "<Figure size 432x288 with 1 Axes>"
      ]
     },
     "metadata": {
      "needs_background": "light"
     },
     "output_type": "display_data"
    }
   ],
   "source": [
    "plot_loss(history, exp = True)"
   ]
  },
  {
   "cell_type": "code",
   "execution_count": 34,
   "id": "prostate-dress",
   "metadata": {},
   "outputs": [
    {
     "name": "stdout",
     "output_type": "stream",
     "text": [
      "104/104 [==============================] - 0s 2ms/step - loss: 1.7015\n"
     ]
    },
    {
     "data": {
      "text/plain": [
       "5.482257594337253"
      ]
     },
     "execution_count": 34,
     "metadata": {},
     "output_type": "execute_result"
    }
   ],
   "source": [
    "np.exp(model.evaluate(x = X_test,  y = y_test, verbose=1, batch_size = 16))"
   ]
  },
  {
   "cell_type": "code",
   "execution_count": null,
   "id": "signal-penetration",
   "metadata": {},
   "outputs": [],
   "source": []
  }
 ],
 "metadata": {
  "kernelspec": {
   "display_name": "Python 3",
   "language": "python",
   "name": "python3"
  },
  "language_info": {
   "codemirror_mode": {
    "name": "ipython",
    "version": 3
   },
   "file_extension": ".py",
   "mimetype": "text/x-python",
   "name": "python",
   "nbconvert_exporter": "python",
   "pygments_lexer": "ipython3",
   "version": "3.8.5"
  }
 },
 "nbformat": 4,
 "nbformat_minor": 5
}
