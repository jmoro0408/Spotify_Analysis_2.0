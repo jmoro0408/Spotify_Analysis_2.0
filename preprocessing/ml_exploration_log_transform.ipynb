{
 "cells": [
  {
   "cell_type": "code",
   "execution_count": 329,
   "id": "dynamic-saskatchewan",
   "metadata": {},
   "outputs": [],
   "source": [
    "import pandas as pd\n",
    "from pathlib import Path\n",
    "\n",
    "streams_features_file = r\"/Users/James/Documents/Python/Machine Learning Projects/Spotify_Listening_Analysis/Spotify 2.0/preprocessing/pickles/my_features.pkl\"\n",
    "streams_features_raw = pd.read_pickle(streams_features_file)\n",
    "streams_features = streams_features_raw.copy()\n",
    "\n",
    "\n",
    "columns_to_drop = [\"type\", \"id\", \"uri\", \"track_href\", \"analysis_url\", \"time_signature\"]\n",
    "streams_features.drop(columns_to_drop, inplace=True, axis=1)\n",
    "\n",
    "\n",
    "def convert_duration(dataframe=streams_features):\n",
    "    dataframe[\"duration\"] = dataframe[\"duration_ms\"].divide(60000)\n",
    "    dataframe.drop(\"duration_ms\", axis=1, inplace=True)\n",
    "    return dataframe\n",
    "\n",
    "\n",
    "def add_play_count(dataframe=streams_features):\n",
    "    dataframe[\"playCount\"] = dataframe[\"minutesTotal\"] / dataframe[\"duration\"]\n",
    "    return dataframe\n",
    "\n",
    "\n",
    "streams_features = convert_duration(streams_features)\n",
    "streams_features = add_play_count(streams_features)\n",
    "\n",
    "streams_features = streams_features[\n",
    "    (streams_features[\"artistName\"] != \"John Mayer\")\n",
    "    & (streams_features[\"trackName\"] != \"On The Way Home\")\n",
    "]  # this one song has an incorrect duration and is returning a 30+ play count, definitely something not right\n"
   ]
  },
  {
   "cell_type": "code",
   "execution_count": 390,
   "id": "rural-ranking",
   "metadata": {},
   "outputs": [],
   "source": [
    "def plot_loss(model_history, exp = False):\n",
    "    if exp:\n",
    "        plt.plot(pd.DataFrame(np.exp(model_history.history[\"loss\"])), label = \"loss\")\n",
    "        plt.plot(pd.DataFrame(np.exp(model_history.history[\"val_loss\"])), label = \"val_loss\")\n",
    "    else:\n",
    "        plt.plot(pd.DataFrame(model_history.history[\"loss\"]), label = \"loss\")\n",
    "        plt.plot(pd.DataFrame(model_history.history[\"val_loss\"]), label = \"val_loss\")\n",
    "    plt.grid(True)\n",
    "    #plt.gca().set_ylim(0, 10)\n",
    "    plt.xlabel(\"Epoch\")\n",
    "    plt.ylabel(\"Loss\")\n",
    "    plt.legend()\n",
    "    plt.show()"
   ]
  },
  {
   "cell_type": "code",
   "execution_count": 391,
   "id": "underlying-cricket",
   "metadata": {},
   "outputs": [],
   "source": [
    "def plot_hist(model):\n",
    "    fig, ax = plt.subplots(figsize=(7,5));\n",
    "    ax = sns.histplot(data = model, x = \"playCount\", stat = \"count\", kde = True)\n",
    "    return ax"
   ]
  },
  {
   "cell_type": "code",
   "execution_count": 334,
   "id": "freelance-cisco",
   "metadata": {},
   "outputs": [
    {
     "data": {
      "text/plain": [
       "artistName          182\n",
       "trackName           182\n",
       "minutesTotal        182\n",
       "trackId             182\n",
       "danceability        182\n",
       "energy              182\n",
       "key                 182\n",
       "loudness            182\n",
       "mode                182\n",
       "speechiness         182\n",
       "acousticness        182\n",
       "instrumentalness    182\n",
       "liveness            182\n",
       "valence             182\n",
       "tempo               182\n",
       "duration            182\n",
       "playCount           182\n",
       "dtype: int64"
      ]
     },
     "execution_count": 334,
     "metadata": {},
     "output_type": "execute_result"
    }
   ],
   "source": [
    "streams_features[streams_features[\"playCount\"]==0].count()"
   ]
  },
  {
   "cell_type": "code",
   "execution_count": 335,
   "id": "oriental-routine",
   "metadata": {},
   "outputs": [
    {
     "data": {
      "text/plain": [
       "artistName          8443\n",
       "trackName           8443\n",
       "minutesTotal        8443\n",
       "trackId             8443\n",
       "danceability        8443\n",
       "energy              8443\n",
       "key                 8443\n",
       "loudness            8443\n",
       "mode                8443\n",
       "speechiness         8443\n",
       "acousticness        8443\n",
       "instrumentalness    8443\n",
       "liveness            8443\n",
       "valence             8443\n",
       "tempo               8443\n",
       "duration            8443\n",
       "playCount           8443\n",
       "dtype: int64"
      ]
     },
     "execution_count": 335,
     "metadata": {},
     "output_type": "execute_result"
    }
   ],
   "source": [
    "streams_features.count()"
   ]
  },
  {
   "cell_type": "code",
   "execution_count": 336,
   "id": "bacterial-alpha",
   "metadata": {},
   "outputs": [],
   "source": [
    "import seaborn as sns\n",
    "import matplotlib.pyplot as plt"
   ]
  },
  {
   "cell_type": "code",
   "execution_count": 337,
   "id": "handy-project",
   "metadata": {},
   "outputs": [
    {
     "data": {
      "text/plain": [
       "<AxesSubplot:xlabel='playCount', ylabel='Count'>"
      ]
     },
     "execution_count": 337,
     "metadata": {},
     "output_type": "execute_result"
    },
    {
     "data": {
      "image/png": "[encoded data removed]",
      "text/plain": [
       "<Figure size 504x360 with 1 Axes>"
      ]
     },
     "metadata": {
      "needs_background": "light"
     },
     "output_type": "display_data"
    }
   ],
   "source": [
    "plot_hist(streams_features)"
   ]
  },
  {
   "cell_type": "code",
   "execution_count": 338,
   "id": "close-warrior",
   "metadata": {},
   "outputs": [
    {
     "data": {
      "text/plain": [
       "5.095245716380945"
      ]
     },
     "execution_count": 338,
     "metadata": {},
     "output_type": "execute_result"
    }
   ],
   "source": [
    "streams_features[\"playCount\"].skew() #Prior to transformation"
   ]
  },
  {
   "cell_type": "code",
   "execution_count": 310,
   "id": "otherwise-equation",
   "metadata": {},
   "outputs": [],
   "source": [
    "#Trying Boxcox transformation\n",
    "# from scipy import stats\n",
    "# streams_features = streams_features[streams_features[\"playCount\"]>0]\n",
    "# plays = streams_features[\"playCount\"].to_numpy()\n",
    "# plays,_ = stats.boxcox(plays)\n",
    "# streams_features[\"playCount\"] = plays\n",
    "# streams_features[\"playCount\"].skew()"
   ]
  },
  {
   "cell_type": "markdown",
   "id": "original-pixel",
   "metadata": {},
   "source": [
    "Trying to normalize the data through log transformation"
   ]
  },
  {
   "cell_type": "code",
   "execution_count": 311,
   "id": "employed-sullivan",
   "metadata": {},
   "outputs": [],
   "source": [
    "#Removing outliers \n",
    "# streams_features = streams_features[streams_features[\"playCount\"]<5]\n",
    "# streams_features = streams_features[streams_features[\"playCount\"]>=0.5]\n",
    "# streams_features.count()\n",
    "# sns.histplot(data = streams_features, x = \"playCount\", stat = \"count\", kde = True)"
   ]
  },
  {
   "cell_type": "code",
   "execution_count": 339,
   "id": "figured-stations",
   "metadata": {},
   "outputs": [
    {
     "data": {
      "text/plain": [
       "<AxesSubplot:xlabel='playCount', ylabel='Count'>"
      ]
     },
     "execution_count": 339,
     "metadata": {},
     "output_type": "execute_result"
    },
    {
     "data": {
      "image/png": "[encoded data removed]",
      "text/plain": [
       "<Figure size 432x288 with 1 Axes>"
      ]
     },
     "metadata": {
      "needs_background": "light"
     },
     "output_type": "display_data"
    }
   ],
   "source": [
    "no_zeroes = streams_features[streams_features[\"playCount\"]>0]\n",
    "log_dist = np.log(no_zeroes[\"playCount\"])\n",
    "sns.histplot(data = log_dist, stat = \"count\", kde = True)"
   ]
  },
  {
   "cell_type": "code",
   "execution_count": 340,
   "id": "virtual-apartment",
   "metadata": {},
   "outputs": [],
   "source": [
    "# fig, axs = plt.subplots(1,3,figsize=(12,5))\n",
    "# sns.histplot(data = no_zeroes[\"playCount\"], stat = \"count\", kde = True, ax = axs[0])\n",
    "# sns.histplot(data = log_dist2, stat = \"count\", kde = True, ax = axs[1])\n",
    "# sns.histplot(data = sqrt_dist, stat = \"count\", kde = True, ax = axs[2])"
   ]
  },
  {
   "cell_type": "code",
   "execution_count": 341,
   "id": "nearby-heather",
   "metadata": {},
   "outputs": [],
   "source": [
    "streams_features = streams_features[streams_features[\"playCount\"]>0]\n",
    "streams_features[\"playCount\"] = np.log(no_zeroes[\"playCount\"])"
   ]
  },
  {
   "cell_type": "code",
   "execution_count": 342,
   "id": "soviet-arrival",
   "metadata": {},
   "outputs": [
    {
     "data": {
      "text/plain": [
       "-0.8749866843482922"
      ]
     },
     "execution_count": 342,
     "metadata": {},
     "output_type": "execute_result"
    }
   ],
   "source": [
    "streams_features[\"playCount\"].skew() #After  transformation"
   ]
  },
  {
   "cell_type": "code",
   "execution_count": 343,
   "id": "filled-portland",
   "metadata": {},
   "outputs": [
    {
     "data": {
      "text/plain": [
       "8261"
      ]
     },
     "execution_count": 343,
     "metadata": {},
     "output_type": "execute_result"
    }
   ],
   "source": [
    "streams_features[\"playCount\"].count()"
   ]
  },
  {
   "cell_type": "code",
   "execution_count": 344,
   "id": "scheduled-convergence",
   "metadata": {},
   "outputs": [
    {
     "data": {
      "text/plain": [
       "playCount           1.000000\n",
       "minutesTotal        0.526831\n",
       "acousticness        0.097492\n",
       "instrumentalness    0.090120\n",
       "mode                0.027259\n",
       "key                 0.005380\n",
       "liveness           -0.033157\n",
       "duration           -0.034269\n",
       "tempo              -0.037374\n",
       "speechiness        -0.052993\n",
       "valence            -0.053570\n",
       "danceability       -0.078804\n",
       "loudness           -0.104583\n",
       "energy             -0.107722\n",
       "Name: playCount, dtype: float64"
      ]
     },
     "execution_count": 344,
     "metadata": {},
     "output_type": "execute_result"
    }
   ],
   "source": [
    "corr_matrix = streams_features.corr()\n",
    "corr_matrix[\"playCount\"].sort_values(ascending=False)"
   ]
  },
  {
   "cell_type": "code",
   "execution_count": 345,
   "id": "aging-afghanistan",
   "metadata": {},
   "outputs": [
    {
     "data": {
      "text/plain": [
       "<AxesSubplot:>"
      ]
     },
     "execution_count": 345,
     "metadata": {},
     "output_type": "execute_result"
    },
    {
     "data": {
      "image/png": "[encoded data removed]",
      "text/plain": [
       "<Figure size 432x288 with 2 Axes>"
      ]
     },
     "metadata": {
      "needs_background": "light"
     },
     "output_type": "display_data"
    }
   ],
   "source": [
    "import numpy as np\n",
    "mask = np.triu(np.ones_like(corr_matrix, dtype=bool))\n",
    "\n",
    "# Generate a custom diverging colormap\n",
    "cmap = sns.diverging_palette(230, 20, as_cmap=True)\n",
    "\n",
    "# Draw the heatmap with the mask and correct aspect ratio\n",
    "sns.heatmap(corr_matrix, mask=mask, cmap=cmap, vmax=.3, center=0,\n",
    "            square=True, linewidths=.5, cbar_kws={\"shrink\": .5})"
   ]
  },
  {
   "cell_type": "code",
   "execution_count": 346,
   "id": "forty-draft",
   "metadata": {},
   "outputs": [],
   "source": [
    "X = streams_features.drop([\"artistName\", \"trackName\", \"minutesTotal\", \"trackId\", \"playCount\"], axis = 1)\n",
    "y = streams_features[\"playCount\"]"
   ]
  },
  {
   "cell_type": "code",
   "execution_count": 347,
   "id": "extreme-nomination",
   "metadata": {},
   "outputs": [],
   "source": [
    "from sklearn.preprocessing import MinMaxScaler\n",
    "from sklearn.preprocessing import StandardScaler\n",
    "from sklearn.preprocessing import PowerTransformer\n",
    "pt = PowerTransformer(method='yeo-johnson')\n",
    "standard_scalar  = StandardScaler()\n",
    "#min_max_scaler = MinMaxScaler()\n",
    "X = min_max_scaler.fit_transform(X)\n",
    "#X = pt.fit_transform(X)"
   ]
  },
  {
   "cell_type": "code",
   "execution_count": 320,
   "id": "opened-costa",
   "metadata": {},
   "outputs": [],
   "source": [
    "# pt = PowerTransformer(method='yeo-johnson')\n",
    "# data = pt.fit_transform(X)\n",
    "# # convert the array back to a dataframe\n",
    "# dataset = pd.DataFrame(data)\n",
    "# # histograms of the variables\n",
    "# dataset.hist()\n",
    "# plt.show()"
   ]
  },
  {
   "cell_type": "code",
   "execution_count": 348,
   "id": "forced-youth",
   "metadata": {},
   "outputs": [
    {
     "data": {
      "text/plain": [
       "8261"
      ]
     },
     "execution_count": 348,
     "metadata": {},
     "output_type": "execute_result"
    }
   ],
   "source": [
    "len(X)"
   ]
  },
  {
   "cell_type": "code",
   "execution_count": 352,
   "id": "simple-madagascar",
   "metadata": {},
   "outputs": [],
   "source": [
    "X_train, X_test, y_train, y_test = train_test_split(X,y, test_size=0.2, random_state=42)"
   ]
  },
  {
   "cell_type": "code",
   "execution_count": 353,
   "id": "computational-feelings",
   "metadata": {},
   "outputs": [],
   "source": [
    "X_train, X_valid, y_train, y_valid = train_test_split(X_train,y_train, test_size=0.1, random_state=42)"
   ]
  },
  {
   "cell_type": "code",
   "execution_count": 354,
   "id": "guided-testing",
   "metadata": {},
   "outputs": [],
   "source": [
    "X_lengths = {\"X_train\" : len(X_train), \"X_test\" : len(X_test), \"X_valid\" : len(X_valid)}\n",
    "y_lengths = {\"y_train\" : len(y_train), \"y_test\" : len(y_test), \"y_valid\" : len(y_valid)}"
   ]
  },
  {
   "cell_type": "code",
   "execution_count": 355,
   "id": "qualified-decline",
   "metadata": {},
   "outputs": [
    {
     "data": {
      "text/plain": [
       "({'X_train': 5947, 'X_test': 1653, 'X_valid': 661},\n",
       " {'y_train': 5947, 'y_test': 1653, 'y_valid': 661})"
      ]
     },
     "execution_count": 355,
     "metadata": {},
     "output_type": "execute_result"
    }
   ],
   "source": [
    "X_lengths, y_lengths"
   ]
  },
  {
   "cell_type": "code",
   "execution_count": 356,
   "id": "foster-invention",
   "metadata": {},
   "outputs": [],
   "source": [
    "import tensorflow as tf\n",
    "from tensorflow import keras"
   ]
  },
  {
   "cell_type": "code",
   "execution_count": 398,
   "id": "floating-pocket",
   "metadata": {},
   "outputs": [],
   "source": [
    "model_params = {\n",
    "    \"optimizer\":keras.optimizers.Adam(\n",
    "    learning_rate=0.00001, beta_1=0.9, beta_2=0.999, epsilon=1e-07, amsgrad=True,\n",
    "    name='Adam'), \n",
    "    \"loss\": tf.keras.losses.MeanAbsoluteError(),\n",
    "    \"hidden_activation\":\"relu\",\n",
    "    \"output_activation\":\"relu\",  \n",
    "    #\"loss\":keras.losses.Huber(), \n",
    "    \"initializer\" : tf.keras.initializers.HeNormal()\n",
    "}"
   ]
  },
  {
   "cell_type": "code",
   "execution_count": 399,
   "id": "sexual-curtis",
   "metadata": {},
   "outputs": [],
   "source": [
    "reduce_lr = keras.callbacks.ReduceLROnPlateau(monitor='val_loss', factor=0.75,\n",
    "                              patience=2, min_lr=0.00001)\n",
    "\n",
    "early_stopping = tf.keras.callbacks.EarlyStopping(monitor='val_loss', patience=8,min_delta = 0.0001)"
   ]
  },
  {
   "cell_type": "code",
   "execution_count": 400,
   "id": "matched-drill",
   "metadata": {},
   "outputs": [],
   "source": [
    "model = keras.models.Sequential([\n",
    "    keras.layers.Dense(50, activation=model_params[\"hidden_activation\"], input_shape=X_train.shape[1:], \n",
    "                       kernel_initializer=model_params[\"initializer\"]),\n",
    "    #keras.layers.Dense(50, activation=model_params[\"hidden_activation\"]),\n",
    "    #keras.layers.Dense(30, activation=model_params[\"hidden_activation\"]),\n",
    "    #keras.layers.Dense(25, activation=model_params[\"hidden_activation\"],kernel_initializer=model_params[\"initializer\"]),\n",
    "    keras.layers.Dense(20, activation=model_params[\"hidden_activation\"],kernel_initializer=model_params[\"initializer\"]),\n",
    "    keras.layers.Dense(1, activation=model_params[\"output_activation\"]),\n",
    "])\n",
    "\n",
    "model.compile(loss=model_params[\"loss\"], \n",
    "              optimizer=model_params[\"optimizer\"])"
   ]
  },
  {
   "cell_type": "code",
   "execution_count": 401,
   "id": "saved-pizza",
   "metadata": {},
   "outputs": [
    {
     "name": "stdout",
     "output_type": "stream",
     "text": [
      "Epoch 1/250\n",
      "186/186 [==============================] - 1s 3ms/step - loss: 1.9263 - val_loss: 1.8620\n",
      "Epoch 2/250\n",
      "186/186 [==============================] - 0s 2ms/step - loss: 1.8757 - val_loss: 1.8153\n",
      "Epoch 3/250\n",
      "186/186 [==============================] - 0s 2ms/step - loss: 1.8321 - val_loss: 1.7738\n",
      "Epoch 4/250\n",
      "186/186 [==============================] - 0s 2ms/step - loss: 1.7936 - val_loss: 1.7373\n",
      "Epoch 5/250\n",
      "186/186 [==============================] - 0s 2ms/step - loss: 1.7609 - val_loss: 1.7074\n",
      "Epoch 6/250\n",
      "186/186 [==============================] - 0s 2ms/step - loss: 1.7349 - val_loss: 1.6860\n",
      "Epoch 7/250\n",
      "186/186 [==============================] - 0s 3ms/step - loss: 1.7155 - val_loss: 1.6704\n",
      "Epoch 8/250\n",
      "186/186 [==============================] - 0s 2ms/step - loss: 1.7009 - val_loss: 1.6585\n",
      "Epoch 9/250\n",
      "186/186 [==============================] - 0s 2ms/step - loss: 1.6904 - val_loss: 1.6497\n",
      "Epoch 10/250\n",
      "186/186 [==============================] - 0s 2ms/step - loss: 1.6832 - val_loss: 1.6439\n",
      "Epoch 11/250\n",
      "186/186 [==============================] - 1s 3ms/step - loss: 1.6782 - val_loss: 1.6399\n",
      "Epoch 12/250\n",
      "186/186 [==============================] - 0s 2ms/step - loss: 1.6747 - val_loss: 1.6373\n",
      "Epoch 13/250\n",
      "186/186 [==============================] - 0s 3ms/step - loss: 1.6723 - val_loss: 1.6357\n",
      "Epoch 14/250\n",
      "186/186 [==============================] - 0s 1ms/step - loss: 1.6708 - val_loss: 1.6345\n",
      "Epoch 15/250\n",
      "186/186 [==============================] - 0s 2ms/step - loss: 1.6698 - val_loss: 1.6336\n",
      "Epoch 16/250\n",
      "186/186 [==============================] - 0s 2ms/step - loss: 1.6691 - val_loss: 1.6330\n",
      "Epoch 17/250\n",
      "186/186 [==============================] - 0s 2ms/step - loss: 1.6686 - val_loss: 1.6325\n",
      "Epoch 18/250\n",
      "186/186 [==============================] - 0s 2ms/step - loss: 1.6682 - val_loss: 1.6321\n",
      "Epoch 19/250\n",
      "186/186 [==============================] - 0s 2ms/step - loss: 1.6679 - val_loss: 1.6319\n",
      "Epoch 20/250\n",
      "186/186 [==============================] - 0s 2ms/step - loss: 1.6677 - val_loss: 1.6317\n",
      "Epoch 21/250\n",
      "186/186 [==============================] - 0s 2ms/step - loss: 1.6676 - val_loss: 1.6316\n",
      "Epoch 22/250\n",
      "186/186 [==============================] - 0s 2ms/step - loss: 1.6675 - val_loss: 1.6315\n",
      "Epoch 23/250\n",
      "186/186 [==============================] - 0s 2ms/step - loss: 1.6674 - val_loss: 1.6314\n",
      "Epoch 24/250\n",
      "186/186 [==============================] - 0s 1ms/step - loss: 1.6673 - val_loss: 1.6314\n",
      "Epoch 25/250\n",
      "186/186 [==============================] - 0s 1ms/step - loss: 1.6672 - val_loss: 1.6313\n",
      "Epoch 26/250\n",
      "186/186 [==============================] - 0s 2ms/step - loss: 1.6671 - val_loss: 1.6312\n",
      "Epoch 27/250\n",
      "186/186 [==============================] - 0s 2ms/step - loss: 1.6671 - val_loss: 1.6312\n",
      "Epoch 28/250\n",
      "186/186 [==============================] - 0s 2ms/step - loss: 1.6670 - val_loss: 1.6311\n",
      "Epoch 29/250\n",
      "186/186 [==============================] - 0s 1ms/step - loss: 1.6670 - val_loss: 1.6311\n",
      "Epoch 30/250\n",
      "186/186 [==============================] - 0s 2ms/step - loss: 1.6669 - val_loss: 1.6310\n",
      "Epoch 31/250\n",
      "186/186 [==============================] - 0s 2ms/step - loss: 1.6669 - val_loss: 1.6310\n",
      "Epoch 32/250\n",
      "186/186 [==============================] - 0s 2ms/step - loss: 1.6669 - val_loss: 1.6310\n",
      "Epoch 33/250\n",
      "186/186 [==============================] - 0s 2ms/step - loss: 1.6668 - val_loss: 1.6309\n",
      "Epoch 34/250\n",
      "186/186 [==============================] - 0s 2ms/step - loss: 1.6668 - val_loss: 1.6309\n",
      "Epoch 35/250\n",
      "186/186 [==============================] - 0s 3ms/step - loss: 1.6668 - val_loss: 1.6309\n",
      "Epoch 36/250\n",
      "186/186 [==============================] - 0s 2ms/step - loss: 1.6667 - val_loss: 1.6309\n",
      "Epoch 37/250\n",
      "186/186 [==============================] - 0s 2ms/step - loss: 1.6667 - val_loss: 1.6309\n",
      "Epoch 38/250\n",
      "186/186 [==============================] - 0s 2ms/step - loss: 1.6667 - val_loss: 1.6309\n",
      "Epoch 39/250\n",
      "186/186 [==============================] - 0s 1ms/step - loss: 1.6667 - val_loss: 1.6309\n",
      "Epoch 40/250\n",
      "186/186 [==============================] - 0s 2ms/step - loss: 1.6667 - val_loss: 1.6309\n",
      "Epoch 41/250\n",
      "186/186 [==============================] - 0s 3ms/step - loss: 1.6667 - val_loss: 1.6309\n",
      "Epoch 42/250\n",
      "186/186 [==============================] - 0s 2ms/step - loss: 1.6666 - val_loss: 1.6309\n",
      "Epoch 43/250\n",
      "186/186 [==============================] - 0s 2ms/step - loss: 1.6666 - val_loss: 1.6309\n"
     ]
    }
   ],
   "source": [
    "loss_min = {}\n",
    "val_loss_min = {}\n",
    "for i in [250]:\n",
    "    history = model.fit(X_train, \n",
    "                    y_train, \n",
    "                    epochs=i, \n",
    "                    verbose = 1, \n",
    "                    validation_data=(X_valid, y_valid),\n",
    "                    callbacks = [early_stopping, reduce_lr],\n",
    "                    batch_size = 32)\n",
    "    loss_min[i] = min(history.history[\"loss\"])\n",
    "    val_loss_min[i] = min(history.history[\"val_loss\"])"
   ]
  },
  {
   "cell_type": "code",
   "execution_count": 402,
   "id": "disabled-wisconsin",
   "metadata": {},
   "outputs": [
    {
     "data": {
      "image/png": "[encoded data removed]",
      "text/plain": [
       "<Figure size 432x288 with 1 Axes>"
      ]
     },
     "metadata": {
      "needs_background": "light"
     },
     "output_type": "display_data"
    }
   ],
   "source": [
    "plot_loss(history, exp = True)"
   ]
  },
  {
   "cell_type": "code",
   "execution_count": 403,
   "id": "determined-chester",
   "metadata": {},
   "outputs": [
    {
     "name": "stdout",
     "output_type": "stream",
     "text": [
      "104/104 [==============================] - 0s 1ms/step - loss: 1.7092\n"
     ]
    },
    {
     "data": {
      "text/plain": [
       "5.524380839950555"
      ]
     },
     "execution_count": 403,
     "metadata": {},
     "output_type": "execute_result"
    }
   ],
   "source": [
    "np.exp(model.evaluate(x = X_test,  y = y_test, verbose=1, batch_size = 16))"
   ]
  },
  {
   "cell_type": "code",
   "execution_count": null,
   "id": "strong-month",
   "metadata": {},
   "outputs": [],
   "source": []
  }
 ],
 "metadata": {
  "kernelspec": {
   "display_name": "Python 3",
   "language": "python",
   "name": "python3"
  },
  "language_info": {
   "codemirror_mode": {
    "name": "ipython",
    "version": 3
   },
   "file_extension": ".py",
   "mimetype": "text/x-python",
   "name": "python",
   "nbconvert_exporter": "python",
   "pygments_lexer": "ipython3",
   "version": "3.8.5"
  }
 },
 "nbformat": 4,
 "nbformat_minor": 5
}
