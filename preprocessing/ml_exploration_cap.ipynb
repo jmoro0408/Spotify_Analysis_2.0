{
 "cells": [
  {
   "cell_type": "code",
   "execution_count": 2,
   "id": "competent-friendship",
   "metadata": {},
   "outputs": [],
   "source": [
    "import pandas as pd\n",
    "from pathlib import Path\n",
    "\n",
    "streams_features_file = r\"/Users/James/Documents/Python/Machine Learning Projects/Spotify_Listening_Analysis/Spotify 2.0/preprocessing/pickles/my_features.pkl\"\n",
    "streams_features_raw = pd.read_pickle(streams_features_file)\n",
    "streams_features = streams_features_raw.copy()\n",
    "\n",
    "\n",
    "columns_to_drop = [\"type\", \"id\", \"uri\", \"track_href\", \"analysis_url\", \"time_signature\"]\n",
    "streams_features.drop(columns_to_drop, inplace=True, axis=1)\n",
    "\n",
    "\n",
    "def convert_duration(dataframe=streams_features):\n",
    "    dataframe[\"duration\"] = dataframe[\"duration_ms\"].divide(60000)\n",
    "    dataframe.drop(\"duration_ms\", axis=1, inplace=True)\n",
    "    return dataframe\n",
    "\n",
    "\n",
    "def add_play_count(dataframe=streams_features):\n",
    "    dataframe[\"playCount\"] = dataframe[\"minutesTotal\"] / dataframe[\"duration\"]\n",
    "    return dataframe\n",
    "\n",
    "\n",
    "streams_features = convert_duration(streams_features)\n",
    "streams_features = add_play_count(streams_features)\n",
    "\n",
    "streams_features = streams_features[\n",
    "    (streams_features[\"artistName\"] != \"John Mayer\")\n",
    "    & (streams_features[\"trackName\"] != \"On The Way Home\")\n",
    "]  # this one song has an incorrect duration and is returning a 30+ play count, definitely something not right\n"
   ]
  },
  {
   "cell_type": "code",
   "execution_count": 3,
   "id": "meaningful-engineering",
   "metadata": {},
   "outputs": [],
   "source": [
    "def plot_loss(model_history, exp = False):\n",
    "    if exp:\n",
    "        plt.plot(pd.DataFrame(np.exp(model_history.history[\"loss\"])), label = \"loss\")\n",
    "        plt.plot(pd.DataFrame(np.exp(model_history.history[\"val_loss\"])), label = \"val_loss\")\n",
    "    else:\n",
    "        plt.plot(pd.DataFrame(model_history.history[\"loss\"]), label = \"loss\")\n",
    "        plt.plot(pd.DataFrame(model_history.history[\"val_loss\"]), label = \"val_loss\")\n",
    "    plt.grid(True)\n",
    "    #plt.gca().set_ylim(0, 10)\n",
    "    plt.xlabel(\"Epoch\")\n",
    "    plt.ylabel(\"Loss\")\n",
    "    plt.legend()\n",
    "    plt.show()"
   ]
  },
  {
   "cell_type": "code",
   "execution_count": 4,
   "id": "turkish-aviation",
   "metadata": {},
   "outputs": [],
   "source": [
    "def plot_hist(model):\n",
    "    fig, ax = plt.subplots(figsize=(7,5));\n",
    "    ax = sns.histplot(data = model, x = \"playCount\", stat = \"count\", kde = True)\n",
    "    return ax"
   ]
  },
  {
   "cell_type": "code",
   "execution_count": null,
   "id": "alpha-respect",
   "metadata": {},
   "outputs": [],
   "source": []
  },
  {
   "cell_type": "code",
   "execution_count": 5,
   "id": "generic-valuable",
   "metadata": {},
   "outputs": [
    {
     "data": {
      "text/plain": [
       "artistName          8443\n",
       "trackName           8443\n",
       "minutesTotal        8443\n",
       "trackId             8443\n",
       "danceability        8443\n",
       "energy              8443\n",
       "key                 8443\n",
       "loudness            8443\n",
       "mode                8443\n",
       "speechiness         8443\n",
       "acousticness        8443\n",
       "instrumentalness    8443\n",
       "liveness            8443\n",
       "valence             8443\n",
       "tempo               8443\n",
       "duration            8443\n",
       "playCount           8443\n",
       "dtype: int64"
      ]
     },
     "execution_count": 5,
     "metadata": {},
     "output_type": "execute_result"
    }
   ],
   "source": [
    "streams_features.count()"
   ]
  },
  {
   "cell_type": "code",
   "execution_count": 6,
   "id": "informed-classroom",
   "metadata": {},
   "outputs": [],
   "source": [
    "import seaborn as sns\n",
    "import matplotlib.pyplot as plt"
   ]
  },
  {
   "cell_type": "code",
   "execution_count": 7,
   "id": "strategic-personal",
   "metadata": {},
   "outputs": [
    {
     "data": {
      "text/plain": [
       "<AxesSubplot:xlabel='playCount', ylabel='Count'>"
      ]
     },
     "execution_count": 7,
     "metadata": {},
     "output_type": "execute_result"
    },
    {
     "data": {
      "image/png": "[encoded data removed]",
      "text/plain": [
       "<Figure size 504x360 with 1 Axes>"
      ]
     },
     "metadata": {
      "needs_background": "light"
     },
     "output_type": "display_data"
    }
   ],
   "source": [
    "plot_hist(streams_features)"
   ]
  },
  {
   "cell_type": "code",
   "execution_count": 8,
   "id": "abroad-huntington",
   "metadata": {},
   "outputs": [
    {
     "data": {
      "text/plain": [
       "5.095245716380945"
      ]
     },
     "execution_count": 8,
     "metadata": {},
     "output_type": "execute_result"
    }
   ],
   "source": [
    "streams_features[\"playCount\"].skew() #Prior to transformation"
   ]
  },
  {
   "cell_type": "markdown",
   "id": "serious-heaven",
   "metadata": {},
   "source": [
    "Trying to normalize the data through log transformation"
   ]
  },
  {
   "cell_type": "code",
   "execution_count": 9,
   "id": "worthy-attention",
   "metadata": {},
   "outputs": [],
   "source": [
    "#Removing outliers \n",
    "# streams_features = streams_features[streams_features[\"playCount\"]<5]\n",
    "# streams_features = streams_features[streams_features[\"playCount\"]>=0.5]\n",
    "# streams_features.count()\n",
    "# sns.histplot(data = streams_features, x = \"playCount\", stat = \"count\", kde = True)"
   ]
  },
  {
   "cell_type": "code",
   "execution_count": 12,
   "id": "variable-fusion",
   "metadata": {},
   "outputs": [
    {
     "name": "stderr",
     "output_type": "stream",
     "text": [
      "/Users/James/.pyenv/versions/3.8.5/envs/ml_env/lib/python3.8/site-packages/pandas/core/generic.py:9286: SettingWithCopyWarning: \n",
      "A value is trying to be set on a copy of a slice from a DataFrame\n",
      "\n",
      "See the caveats in the documentation: https://pandas.pydata.org/pandas-docs/stable/user_guide/indexing.html#returning-a-view-versus-a-copy\n",
      "  return self._where(\n"
     ]
    }
   ],
   "source": [
    "#Cap songs plays at 10\n",
    "\n",
    "streams_features[\"playCount\"].where(streams_features[\"playCount\"] <= 10, 10, inplace=True)"
   ]
  },
  {
   "cell_type": "code",
   "execution_count": 13,
   "id": "accomplished-transport",
   "metadata": {},
   "outputs": [
    {
     "data": {
      "text/plain": [
       "<AxesSubplot:xlabel='playCount', ylabel='Count'>"
      ]
     },
     "execution_count": 13,
     "metadata": {},
     "output_type": "execute_result"
    },
    {
     "data": {
      "image/png": "[encoded data removed]",
      "text/plain": [
       "<Figure size 504x360 with 1 Axes>"
      ]
     },
     "metadata": {
      "needs_background": "light"
     },
     "output_type": "display_data"
    }
   ],
   "source": [
    "plot_hist(streams_features)"
   ]
  },
  {
   "cell_type": "code",
   "execution_count": 14,
   "id": "divine-howard",
   "metadata": {},
   "outputs": [],
   "source": [
    "# fig, axs = plt.subplots(1,3,figsize=(12,5))\n",
    "# sns.histplot(data = no_zeroes[\"playCount\"], stat = \"count\", kde = True, ax = axs[0])\n",
    "# sns.histplot(data = log_dist2, stat = \"count\", kde = True, ax = axs[1])\n",
    "# sns.histplot(data = sqrt_dist, stat = \"count\", kde = True, ax = axs[2])"
   ]
  },
  {
   "cell_type": "code",
   "execution_count": 15,
   "id": "dominant-bleeding",
   "metadata": {},
   "outputs": [],
   "source": [
    "X = streams_features.drop([\"artistName\", \"trackName\", \"minutesTotal\", \"trackId\", \"playCount\"], axis = 1)\n",
    "y = streams_features[\"playCount\"]"
   ]
  },
  {
   "cell_type": "code",
   "execution_count": 16,
   "id": "outdoor-american",
   "metadata": {},
   "outputs": [],
   "source": [
    "from sklearn.preprocessing import MinMaxScaler\n",
    "from sklearn.preprocessing import StandardScaler\n",
    "from sklearn.preprocessing import PowerTransformer\n",
    "pt = PowerTransformer(method='yeo-johnson')\n",
    "standard_scalar  = StandardScaler()\n",
    "min_max_scaler = MinMaxScaler()\n",
    "#X = min_max_scaler.fit_transform(X)\n",
    "X = standard_scalar.fit_transform(X)\n",
    "#X = pt.fit_transform(X)"
   ]
  },
  {
   "cell_type": "code",
   "execution_count": 17,
   "id": "cooked-superior",
   "metadata": {},
   "outputs": [
    {
     "data": {
      "text/plain": [
       "8443"
      ]
     },
     "execution_count": 17,
     "metadata": {},
     "output_type": "execute_result"
    }
   ],
   "source": [
    "len(X)"
   ]
  },
  {
   "cell_type": "code",
   "execution_count": 18,
   "id": "compressed-reporter",
   "metadata": {},
   "outputs": [],
   "source": [
    "from sklearn.model_selection import train_test_split\n",
    "X_train, X_test, y_train, y_test = train_test_split(X,y, test_size=0.33, random_state=42, shuffle = True)"
   ]
  },
  {
   "cell_type": "code",
   "execution_count": 19,
   "id": "grand-lending",
   "metadata": {},
   "outputs": [],
   "source": [
    "X_train, X_valid, y_train, y_valid = train_test_split(X_train,y_train, test_size=0.33, random_state=42, shuffle = True)"
   ]
  },
  {
   "cell_type": "code",
   "execution_count": 20,
   "id": "facial-footage",
   "metadata": {},
   "outputs": [],
   "source": [
    "X_lengths = {\"X_train\" : len(X_train), \"X_test\" : len(X_test), \"X_valid\" : len(X_valid)}\n",
    "y_lengths = {\"y_train\" : len(y_train), \"y_test\" : len(y_test), \"y_valid\" : len(y_valid)}"
   ]
  },
  {
   "cell_type": "code",
   "execution_count": 21,
   "id": "logical-winter",
   "metadata": {},
   "outputs": [
    {
     "data": {
      "text/plain": [
       "({'X_train': 3789, 'X_test': 2787, 'X_valid': 1867},\n",
       " {'y_train': 3789, 'y_test': 2787, 'y_valid': 1867})"
      ]
     },
     "execution_count": 21,
     "metadata": {},
     "output_type": "execute_result"
    }
   ],
   "source": [
    "X_lengths, y_lengths"
   ]
  },
  {
   "cell_type": "code",
   "execution_count": 22,
   "id": "parental-auckland",
   "metadata": {},
   "outputs": [
    {
     "data": {
      "text/plain": [
       "8443"
      ]
     },
     "execution_count": 22,
     "metadata": {},
     "output_type": "execute_result"
    }
   ],
   "source": [
    "len(X_train) + len(X_test) + len(X_valid)"
   ]
  },
  {
   "cell_type": "code",
   "execution_count": 23,
   "id": "owned-passage",
   "metadata": {},
   "outputs": [],
   "source": [
    "import tensorflow as tf\n",
    "from tensorflow import keras"
   ]
  },
  {
   "cell_type": "code",
   "execution_count": 24,
   "id": "recent-professor",
   "metadata": {},
   "outputs": [],
   "source": [
    "model_params = {\n",
    "    \"optimizer\":keras.optimizers.Adam(\n",
    "    learning_rate=0.0001, beta_1=0.9, beta_2=0.999, epsilon=1e-06, amsgrad=False,\n",
    "    name='Adam'), \n",
    "    \"loss\": tf.keras.losses.MeanAbsoluteError(),\n",
    "    \"hidden_activation\":\"relu\",\n",
    "    \"output_activation\":\"relu\",  \n",
    "    #\"loss\":keras.losses.Huber(), \n",
    "    \"initializer\" : tf.keras.initializers.HeNormal()\n",
    "}"
   ]
  },
  {
   "cell_type": "code",
   "execution_count": 25,
   "id": "crucial-record",
   "metadata": {},
   "outputs": [],
   "source": [
    "reduce_lr = keras.callbacks.ReduceLROnPlateau(monitor='val_loss', factor=0.05,\n",
    "                              patience=2, min_lr=0.00001)\n",
    "\n",
    "early_stopping = tf.keras.callbacks.EarlyStopping(monitor='val_loss', patience=5,min_delta = 0.001)"
   ]
  },
  {
   "cell_type": "code",
   "execution_count": 26,
   "id": "compound-prototype",
   "metadata": {},
   "outputs": [],
   "source": [
    "model = keras.models.Sequential([\n",
    "    keras.layers.Dense(30, activation=model_params[\"hidden_activation\"], input_shape=X_train.shape[1:], \n",
    "                       kernel_initializer=model_params[\"initializer\"]),\n",
    "    #keras.layers.Dense(40, activation=model_params[\"hidden_activation\"]),\n",
    "    #keras.layers.Dense(30, activation=model_params[\"hidden_activation\"]),\n",
    "    #keras.layers.Dense(30, activation=model_params[\"hidden_activation\"],kernel_initializer=model_params[\"initializer\"]),\n",
    "    keras.layers.Dense(10, activation=model_params[\"hidden_activation\"],kernel_initializer=model_params[\"initializer\"]),\n",
    "    keras.layers.Dense(1, activation=model_params[\"output_activation\"]),\n",
    "])\n",
    "\n",
    "model.compile(loss=model_params[\"loss\"], \n",
    "              optimizer=model_params[\"optimizer\"])"
   ]
  },
  {
   "cell_type": "code",
   "execution_count": 27,
   "id": "announced-installation",
   "metadata": {},
   "outputs": [
    {
     "name": "stdout",
     "output_type": "stream",
     "text": [
      "Epoch 1/250\n",
      "237/237 [==============================] - 1s 3ms/step - loss: 1.2633 - val_loss: 1.2578\n",
      "Epoch 2/250\n",
      "237/237 [==============================] - 1s 2ms/step - loss: 1.2207 - val_loss: 1.2456\n",
      "Epoch 3/250\n",
      "237/237 [==============================] - 0s 2ms/step - loss: 1.2109 - val_loss: 1.2411\n",
      "Epoch 4/250\n",
      "237/237 [==============================] - 0s 2ms/step - loss: 1.2047 - val_loss: 1.2356\n",
      "Epoch 5/250\n",
      "237/237 [==============================] - 0s 2ms/step - loss: 1.1989 - val_loss: 1.2303\n",
      "Epoch 6/250\n",
      "237/237 [==============================] - 1s 2ms/step - loss: 1.1932 - val_loss: 1.2244\n",
      "Epoch 7/250\n",
      "237/237 [==============================] - 1s 3ms/step - loss: 1.1877 - val_loss: 1.2191\n",
      "Epoch 8/250\n",
      "237/237 [==============================] - 0s 2ms/step - loss: 1.1819 - val_loss: 1.2137\n",
      "Epoch 9/250\n",
      "237/237 [==============================] - 0s 2ms/step - loss: 1.1765 - val_loss: 1.2083\n",
      "Epoch 10/250\n",
      "237/237 [==============================] - 1s 3ms/step - loss: 1.1693 - val_loss: 1.2026\n",
      "Epoch 11/250\n",
      "237/237 [==============================] - 1s 3ms/step - loss: 1.1621 - val_loss: 1.1956\n",
      "Epoch 12/250\n",
      "237/237 [==============================] - 0s 2ms/step - loss: 1.1550 - val_loss: 1.1895\n",
      "Epoch 13/250\n",
      "237/237 [==============================] - 0s 2ms/step - loss: 1.1477 - val_loss: 1.1841\n",
      "Epoch 14/250\n",
      "237/237 [==============================] - 0s 2ms/step - loss: 1.1399 - val_loss: 1.1776\n",
      "Epoch 15/250\n",
      "237/237 [==============================] - 0s 2ms/step - loss: 1.1341 - val_loss: 1.1724\n",
      "Epoch 16/250\n",
      "237/237 [==============================] - 0s 2ms/step - loss: 1.1288 - val_loss: 1.1685\n",
      "Epoch 17/250\n",
      "237/237 [==============================] - 0s 2ms/step - loss: 1.1241 - val_loss: 1.1650\n",
      "Epoch 18/250\n",
      "237/237 [==============================] - 0s 2ms/step - loss: 1.1199 - val_loss: 1.1616\n",
      "Epoch 19/250\n",
      "237/237 [==============================] - 0s 2ms/step - loss: 1.1164 - val_loss: 1.1579\n",
      "Epoch 20/250\n",
      "237/237 [==============================] - 1s 3ms/step - loss: 1.1131 - val_loss: 1.1552\n",
      "Epoch 21/250\n",
      "237/237 [==============================] - 0s 2ms/step - loss: 1.1097 - val_loss: 1.1520\n",
      "Epoch 22/250\n",
      "237/237 [==============================] - 0s 2ms/step - loss: 1.1065 - val_loss: 1.1494\n",
      "Epoch 23/250\n",
      "237/237 [==============================] - 1s 3ms/step - loss: 1.1033 - val_loss: 1.1470\n",
      "Epoch 24/250\n",
      "237/237 [==============================] - 1s 2ms/step - loss: 1.1007 - val_loss: 1.1455\n",
      "Epoch 25/250\n",
      "237/237 [==============================] - 0s 2ms/step - loss: 1.0982 - val_loss: 1.1435\n",
      "Epoch 26/250\n",
      "237/237 [==============================] - 0s 2ms/step - loss: 1.0956 - val_loss: 1.1420\n",
      "Epoch 27/250\n",
      "237/237 [==============================] - 1s 3ms/step - loss: 1.0938 - val_loss: 1.1396\n",
      "Epoch 28/250\n",
      "237/237 [==============================] - 0s 2ms/step - loss: 1.0908 - val_loss: 1.1376\n",
      "Epoch 29/250\n",
      "237/237 [==============================] - 1s 2ms/step - loss: 1.0887 - val_loss: 1.1361\n",
      "Epoch 30/250\n",
      "237/237 [==============================] - 1s 2ms/step - loss: 1.0867 - val_loss: 1.1337\n",
      "Epoch 31/250\n",
      "237/237 [==============================] - 1s 2ms/step - loss: 1.0850 - val_loss: 1.1326\n",
      "Epoch 32/250\n",
      "237/237 [==============================] - 1s 2ms/step - loss: 1.0831 - val_loss: 1.1312\n",
      "Epoch 33/250\n",
      "237/237 [==============================] - 1s 2ms/step - loss: 1.0814 - val_loss: 1.1296\n",
      "Epoch 34/250\n",
      "237/237 [==============================] - 0s 2ms/step - loss: 1.0795 - val_loss: 1.1283\n",
      "Epoch 35/250\n",
      "237/237 [==============================] - 0s 2ms/step - loss: 1.0781 - val_loss: 1.1269\n",
      "Epoch 36/250\n",
      "237/237 [==============================] - 1s 2ms/step - loss: 1.0766 - val_loss: 1.1281\n",
      "Epoch 37/250\n",
      "237/237 [==============================] - 0s 2ms/step - loss: 1.0757 - val_loss: 1.1245\n",
      "Epoch 38/250\n",
      "237/237 [==============================] - 0s 2ms/step - loss: 1.0742 - val_loss: 1.1238\n",
      "Epoch 39/250\n",
      "237/237 [==============================] - 1s 3ms/step - loss: 1.0729 - val_loss: 1.1223\n",
      "Epoch 40/250\n",
      "237/237 [==============================] - 1s 2ms/step - loss: 1.0717 - val_loss: 1.1213\n",
      "Epoch 41/250\n",
      "237/237 [==============================] - 1s 2ms/step - loss: 1.0704 - val_loss: 1.1208\n",
      "Epoch 42/250\n",
      "237/237 [==============================] - 0s 2ms/step - loss: 1.0695 - val_loss: 1.1212\n",
      "Epoch 43/250\n",
      "237/237 [==============================] - 0s 2ms/step - loss: 1.0685 - val_loss: 1.1192\n",
      "Epoch 44/250\n",
      "237/237 [==============================] - 0s 2ms/step - loss: 1.0677 - val_loss: 1.1187\n",
      "Epoch 45/250\n",
      "237/237 [==============================] - 1s 2ms/step - loss: 1.0665 - val_loss: 1.1179\n",
      "Epoch 46/250\n",
      "237/237 [==============================] - 1s 2ms/step - loss: 1.0654 - val_loss: 1.1173\n",
      "Epoch 47/250\n",
      "237/237 [==============================] - 0s 2ms/step - loss: 1.0648 - val_loss: 1.1166\n",
      "Epoch 48/250\n",
      "237/237 [==============================] - 1s 2ms/step - loss: 1.0639 - val_loss: 1.1160\n",
      "Epoch 49/250\n",
      "237/237 [==============================] - 1s 2ms/step - loss: 1.0630 - val_loss: 1.1168\n",
      "Epoch 50/250\n",
      "237/237 [==============================] - 0s 2ms/step - loss: 1.0626 - val_loss: 1.1154\n",
      "Epoch 51/250\n",
      "237/237 [==============================] - 0s 2ms/step - loss: 1.0617 - val_loss: 1.1145\n",
      "Epoch 52/250\n",
      "237/237 [==============================] - 1s 3ms/step - loss: 1.0609 - val_loss: 1.1140\n",
      "Epoch 53/250\n",
      "237/237 [==============================] - 1s 3ms/step - loss: 1.0602 - val_loss: 1.1133\n",
      "Epoch 54/250\n",
      "237/237 [==============================] - 1s 3ms/step - loss: 1.0594 - val_loss: 1.1127\n",
      "Epoch 55/250\n",
      "237/237 [==============================] - 1s 2ms/step - loss: 1.0587 - val_loss: 1.1124\n",
      "Epoch 56/250\n",
      "237/237 [==============================] - 0s 2ms/step - loss: 1.0582 - val_loss: 1.1128\n",
      "Epoch 57/250\n",
      "237/237 [==============================] - 0s 2ms/step - loss: 1.0578 - val_loss: 1.1117\n",
      "Epoch 58/250\n",
      "237/237 [==============================] - 1s 3ms/step - loss: 1.0572 - val_loss: 1.1114\n",
      "Epoch 59/250\n",
      "237/237 [==============================] - 1s 2ms/step - loss: 1.0561 - val_loss: 1.1114\n",
      "Epoch 60/250\n",
      "237/237 [==============================] - 1s 3ms/step - loss: 1.0559 - val_loss: 1.1110\n",
      "Epoch 61/250\n",
      "237/237 [==============================] - 0s 2ms/step - loss: 1.0554 - val_loss: 1.1112\n",
      "Epoch 62/250\n",
      "237/237 [==============================] - 1s 2ms/step - loss: 1.0548 - val_loss: 1.1114\n",
      "Epoch 63/250\n",
      "237/237 [==============================] - 0s 2ms/step - loss: 1.0538 - val_loss: 1.1106\n"
     ]
    }
   ],
   "source": [
    "loss_min = {}\n",
    "val_loss_min = {}\n",
    "for i in [250]:\n",
    "    history = model.fit(X_train, \n",
    "                    y_train, \n",
    "                    epochs=i, \n",
    "                    verbose = 1, \n",
    "                    validation_data=(X_valid, y_valid),\n",
    "                    callbacks = [reduce_lr,early_stopping],\n",
    "                    batch_size = 16, \n",
    "                    shuffle = True)\n",
    "    loss_min[i] = min(history.history[\"loss\"])\n",
    "    val_loss_min[i] = min(history.history[\"val_loss\"])"
   ]
  },
  {
   "cell_type": "code",
   "execution_count": 28,
   "id": "infectious-luxury",
   "metadata": {},
   "outputs": [
    {
     "data": {
      "image/png": "[encoded data removed]",
      "text/plain": [
       "<Figure size 432x288 with 1 Axes>"
      ]
     },
     "metadata": {
      "needs_background": "light"
     },
     "output_type": "display_data"
    }
   ],
   "source": [
    "plot_loss(history, exp = False)"
   ]
  },
  {
   "cell_type": "code",
   "execution_count": 29,
   "id": "disabled-disabled",
   "metadata": {},
   "outputs": [
    {
     "name": "stdout",
     "output_type": "stream",
     "text": [
      "175/175 [==============================] - 0s 1ms/step - loss: 1.1363\n"
     ]
    },
    {
     "data": {
      "text/plain": [
       "1.1362725496292114"
      ]
     },
     "execution_count": 29,
     "metadata": {},
     "output_type": "execute_result"
    }
   ],
   "source": [
    "model.evaluate(x = X_test,  y = y_test, verbose=1, batch_size = 16)"
   ]
  },
  {
   "cell_type": "code",
   "execution_count": null,
   "id": "fewer-confidentiality",
   "metadata": {},
   "outputs": [],
   "source": []
  }
 ],
 "metadata": {
  "kernelspec": {
   "display_name": "Python 3",
   "language": "python",
   "name": "python3"
  },
  "language_info": {
   "codemirror_mode": {
    "name": "ipython",
    "version": 3
   },
   "file_extension": ".py",
   "mimetype": "text/x-python",
   "name": "python",
   "nbconvert_exporter": "python",
   "pygments_lexer": "ipython3",
   "version": "3.8.5"
  }
 },
 "nbformat": 4,
 "nbformat_minor": 5
}
