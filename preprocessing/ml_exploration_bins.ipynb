{
 "cells": [
  {
   "cell_type": "code",
   "execution_count": 125,
   "id": "enabling-uruguay",
   "metadata": {},
   "outputs": [],
   "source": [
    "import pandas as pd\n",
    "from pathlib import Path\n",
    "\n",
    "streams_features_file = r\"/Users/James/Documents/Python/Machine Learning Projects/Spotify_Listening_Analysis/Spotify 2.0/preprocessing/pickles/my_features.pkl\"\n",
    "streams_features_raw = pd.read_pickle(streams_features_file)\n",
    "streams_features = streams_features_raw.copy()\n",
    "\n",
    "\n",
    "columns_to_drop = [\"type\", \"id\", \"uri\", \"track_href\", \"analysis_url\", \"time_signature\"]\n",
    "streams_features.drop(columns_to_drop, inplace=True, axis=1)\n",
    "\n",
    "\n",
    "def convert_duration(dataframe=streams_features):\n",
    "    dataframe[\"duration\"] = dataframe[\"duration_ms\"].divide(60000)\n",
    "    dataframe.drop(\"duration_ms\", axis=1, inplace=True)\n",
    "    return dataframe\n",
    "\n",
    "\n",
    "def add_play_count(dataframe=streams_features):\n",
    "    dataframe[\"playCount\"] = dataframe[\"minutesTotal\"] / dataframe[\"duration\"]\n",
    "    return dataframe\n",
    "\n",
    "\n",
    "streams_features = convert_duration(streams_features)\n",
    "streams_features = add_play_count(streams_features)\n",
    "\n",
    "streams_features = streams_features[\n",
    "    (streams_features[\"artistName\"] != \"John Mayer\")\n",
    "    & (streams_features[\"trackName\"] != \"On The Way Home\")\n",
    "]  # this one song has an incorrect duration and is returning a 30+ play count, definitely something not right\n"
   ]
  },
  {
   "cell_type": "code",
   "execution_count": 126,
   "id": "synthetic-failing",
   "metadata": {},
   "outputs": [],
   "source": [
    "def plot_loss(model_history, exp = False):\n",
    "    if exp:\n",
    "        plt.plot(pd.DataFrame(np.exp(model_history.history[\"loss\"])), label = \"loss\")\n",
    "        plt.plot(pd.DataFrame(np.exp(model_history.history[\"val_loss\"])), label = \"val_loss\")\n",
    "    else:\n",
    "        plt.plot(pd.DataFrame(model_history.history[\"loss\"]), label = \"loss\")\n",
    "        plt.plot(pd.DataFrame(model_history.history[\"val_loss\"]), label = \"val_loss\")\n",
    "    plt.grid(True)\n",
    "    #plt.gca().set_ylim(0, 10)\n",
    "    plt.xlabel(\"Epoch\")\n",
    "    plt.ylabel(\"Loss\")\n",
    "    plt.legend()\n",
    "    plt.show()"
   ]
  },
  {
   "cell_type": "code",
   "execution_count": 127,
   "id": "developed-retrieval",
   "metadata": {},
   "outputs": [],
   "source": [
    "def plot_hist(model):\n",
    "    fig, ax = plt.subplots(figsize=(7,5));\n",
    "    ax = sns.histplot(data = model, x = \"playCount\", stat = \"count\", kde = True)\n",
    "    return ax"
   ]
  },
  {
   "cell_type": "code",
   "execution_count": null,
   "id": "starting-oasis",
   "metadata": {},
   "outputs": [],
   "source": []
  },
  {
   "cell_type": "code",
   "execution_count": 128,
   "id": "amino-finding",
   "metadata": {},
   "outputs": [
    {
     "data": {
      "text/plain": [
       "artistName          8443\n",
       "trackName           8443\n",
       "minutesTotal        8443\n",
       "trackId             8443\n",
       "danceability        8443\n",
       "energy              8443\n",
       "key                 8443\n",
       "loudness            8443\n",
       "mode                8443\n",
       "speechiness         8443\n",
       "acousticness        8443\n",
       "instrumentalness    8443\n",
       "liveness            8443\n",
       "valence             8443\n",
       "tempo               8443\n",
       "duration            8443\n",
       "playCount           8443\n",
       "dtype: int64"
      ]
     },
     "execution_count": 128,
     "metadata": {},
     "output_type": "execute_result"
    }
   ],
   "source": [
    "streams_features.count()"
   ]
  },
  {
   "cell_type": "code",
   "execution_count": 129,
   "id": "demonstrated-generation",
   "metadata": {},
   "outputs": [],
   "source": [
    "import seaborn as sns\n",
    "import matplotlib.pyplot as plt"
   ]
  },
  {
   "cell_type": "code",
   "execution_count": 130,
   "id": "selective-layer",
   "metadata": {},
   "outputs": [
    {
     "data": {
      "text/plain": [
       "<AxesSubplot:xlabel='playCount', ylabel='Count'>"
      ]
     },
     "execution_count": 130,
     "metadata": {},
     "output_type": "execute_result"
    },
    {
     "data": {
      "image/png": "[encoded data removed]",
      "text/plain": [
       "<Figure size 504x360 with 1 Axes>"
      ]
     },
     "metadata": {
      "needs_background": "light"
     },
     "output_type": "display_data"
    }
   ],
   "source": [
    "plot_hist(streams_features)"
   ]
  },
  {
   "cell_type": "code",
   "execution_count": 131,
   "id": "vulnerable-participant",
   "metadata": {},
   "outputs": [
    {
     "data": {
      "text/plain": [
       "5.095245716380945"
      ]
     },
     "execution_count": 131,
     "metadata": {},
     "output_type": "execute_result"
    }
   ],
   "source": [
    "streams_features[\"playCount\"].skew() #Prior to transformation"
   ]
  },
  {
   "cell_type": "markdown",
   "id": "choice-status",
   "metadata": {},
   "source": [
    "Trying to normalize the data through log transformation"
   ]
  },
  {
   "cell_type": "code",
   "execution_count": 132,
   "id": "distinguished-uniform",
   "metadata": {},
   "outputs": [],
   "source": [
    "#Removing outliers \n",
    "# streams_features = streams_features[streams_features[\"playCount\"]<5]\n",
    "# streams_features = streams_features[streams_features[\"playCount\"]>=0.5]\n",
    "# streams_features.count()\n",
    "# sns.histplot(data = streams_features, x = \"playCount\", stat = \"count\", kde = True)"
   ]
  },
  {
   "cell_type": "code",
   "execution_count": 133,
   "id": "electoral-pleasure",
   "metadata": {},
   "outputs": [
    {
     "name": "stderr",
     "output_type": "stream",
     "text": [
      "/Users/James/.pyenv/versions/3.8.5/envs/ml_env/lib/python3.8/site-packages/pandas/core/generic.py:9286: SettingWithCopyWarning: \n",
      "A value is trying to be set on a copy of a slice from a DataFrame\n",
      "\n",
      "See the caveats in the documentation: https://pandas.pydata.org/pandas-docs/stable/user_guide/indexing.html#returning-a-view-versus-a-copy\n",
      "  return self._where(\n"
     ]
    }
   ],
   "source": [
    "#Cap songs plays at 10\n",
    "\n",
    "streams_features[\"playCount\"].where(streams_features[\"playCount\"] <= 10, 10, inplace=True)"
   ]
  },
  {
   "cell_type": "code",
   "execution_count": 134,
   "id": "convenient-tennessee",
   "metadata": {},
   "outputs": [
    {
     "data": {
      "text/plain": [
       "<AxesSubplot:xlabel='playCount', ylabel='Count'>"
      ]
     },
     "execution_count": 134,
     "metadata": {},
     "output_type": "execute_result"
    },
    {
     "data": {
      "image/png": "[encoded data removed]",
      "text/plain": [
       "<Figure size 504x360 with 1 Axes>"
      ]
     },
     "metadata": {
      "needs_background": "light"
     },
     "output_type": "display_data"
    }
   ],
   "source": [
    "plot_hist(streams_features)"
   ]
  },
  {
   "cell_type": "code",
   "execution_count": 135,
   "id": "funded-paint",
   "metadata": {},
   "outputs": [],
   "source": [
    "# fig, axs = plt.subplots(1,3,figsize=(12,5))\n",
    "# sns.histplot(data = no_zeroes[\"playCount\"], stat = \"count\", kde = True, ax = axs[0])\n",
    "# sns.histplot(data = log_dist2, stat = \"count\", kde = True, ax = axs[1])\n",
    "# sns.histplot(data = sqrt_dist, stat = \"count\", kde = True, ax = axs[2])"
   ]
  },
  {
   "cell_type": "code",
   "execution_count": 136,
   "id": "sought-fisher",
   "metadata": {},
   "outputs": [],
   "source": [
    "X = streams_features.drop([\"artistName\", \"trackName\", \"minutesTotal\", \"trackId\", \"playCount\"], axis = 1)\n",
    "y = streams_features[\"playCount\"]"
   ]
  },
  {
   "cell_type": "code",
   "execution_count": 137,
   "id": "premium-cleveland",
   "metadata": {},
   "outputs": [],
   "source": [
    "from sklearn.preprocessing import MinMaxScaler\n",
    "from sklearn.preprocessing import StandardScaler\n",
    "from sklearn.preprocessing import PowerTransformer\n",
    "pt = PowerTransformer(method='yeo-johnson')\n",
    "standard_scalar  = StandardScaler()\n",
    "min_max_scaler = MinMaxScaler()\n",
    "#X = min_max_scaler.fit_transform(X)\n",
    "X = standard_scalar.fit_transform(X)\n",
    "#X = pt.fit_transform(X)"
   ]
  },
  {
   "cell_type": "code",
   "execution_count": 138,
   "id": "declared-deficit",
   "metadata": {},
   "outputs": [
    {
     "data": {
      "text/plain": [
       "8443"
      ]
     },
     "execution_count": 138,
     "metadata": {},
     "output_type": "execute_result"
    }
   ],
   "source": [
    "len(X)"
   ]
  },
  {
   "cell_type": "code",
   "execution_count": 282,
   "id": "quality-speaking",
   "metadata": {},
   "outputs": [],
   "source": [
    "from sklearn.model_selection import train_test_split\n",
    "X_train, X_test, y_train, y_test = train_test_split(X,y, test_size=0.33, random_state=42, shuffle = True)"
   ]
  },
  {
   "cell_type": "code",
   "execution_count": 283,
   "id": "bearing-cartridge",
   "metadata": {},
   "outputs": [],
   "source": [
    "X_train, X_valid, y_train, y_valid = train_test_split(X_train,y_train, test_size=0.33, random_state=42, shuffle = True)"
   ]
  },
  {
   "cell_type": "code",
   "execution_count": 284,
   "id": "provincial-member",
   "metadata": {},
   "outputs": [],
   "source": [
    "X_lengths = {\"X_train\" : len(X_train), \"X_test\" : len(X_test), \"X_valid\" : len(X_valid)}\n",
    "y_lengths = {\"y_train\" : len(y_train), \"y_test\" : len(y_test), \"y_valid\" : len(y_valid)}"
   ]
  },
  {
   "cell_type": "code",
   "execution_count": 285,
   "id": "insured-raising",
   "metadata": {},
   "outputs": [
    {
     "data": {
      "text/plain": [
       "({'X_train': 3789, 'X_test': 2787, 'X_valid': 1867},\n",
       " {'y_train': 3789, 'y_test': 2787, 'y_valid': 1867})"
      ]
     },
     "execution_count": 285,
     "metadata": {},
     "output_type": "execute_result"
    }
   ],
   "source": [
    "X_lengths, y_lengths"
   ]
  },
  {
   "cell_type": "code",
   "execution_count": 286,
   "id": "verified-antibody",
   "metadata": {},
   "outputs": [
    {
     "data": {
      "text/plain": [
       "8443"
      ]
     },
     "execution_count": 286,
     "metadata": {},
     "output_type": "execute_result"
    }
   ],
   "source": [
    "len(X_train) + len(X_test) + len(X_valid)"
   ]
  },
  {
   "cell_type": "code",
   "execution_count": 287,
   "id": "level-chase",
   "metadata": {},
   "outputs": [],
   "source": [
    "import tensorflow as tf\n",
    "from tensorflow import keras"
   ]
  },
  {
   "cell_type": "code",
   "execution_count": 294,
   "id": "acquired-mother",
   "metadata": {},
   "outputs": [],
   "source": [
    "model_params = {\n",
    "    \"optimizer\":keras.optimizers.Adam(\n",
    "    learning_rate=0.0001, beta_1=0.9, beta_2=0.999, epsilon=1e-06, amsgrad=False,\n",
    "    name='Adam'), \n",
    "    \"loss\": tf.keras.losses.MeanAbsoluteError(),\n",
    "    \"hidden_activation\":\"relu\",\n",
    "    \"output_activation\":\"relu\",  \n",
    "    #\"loss\":keras.losses.Huber(), \n",
    "    \"initializer\" : tf.keras.initializers.HeNormal()\n",
    "}"
   ]
  },
  {
   "cell_type": "code",
   "execution_count": 295,
   "id": "great-salem",
   "metadata": {},
   "outputs": [],
   "source": [
    "reduce_lr = keras.callbacks.ReduceLROnPlateau(monitor='val_loss', factor=0.05,\n",
    "                              patience=2, min_lr=0.00001)\n",
    "\n",
    "early_stopping = tf.keras.callbacks.EarlyStopping(monitor='val_loss', patience=5,min_delta = 0.001)"
   ]
  },
  {
   "cell_type": "code",
   "execution_count": 296,
   "id": "signal-gregory",
   "metadata": {},
   "outputs": [],
   "source": [
    "model = keras.models.Sequential([\n",
    "    keras.layers.Dense(30, activation=model_params[\"hidden_activation\"], input_shape=X_train.shape[1:], \n",
    "                       kernel_initializer=model_params[\"initializer\"]),\n",
    "    #keras.layers.Dense(40, activation=model_params[\"hidden_activation\"]),\n",
    "    #keras.layers.Dense(30, activation=model_params[\"hidden_activation\"]),\n",
    "    #keras.layers.Dense(30, activation=model_params[\"hidden_activation\"],kernel_initializer=model_params[\"initializer\"]),\n",
    "    keras.layers.Dense(10, activation=model_params[\"hidden_activation\"],kernel_initializer=model_params[\"initializer\"]),\n",
    "    keras.layers.Dense(1, activation=model_params[\"output_activation\"]),\n",
    "])\n",
    "\n",
    "model.compile(loss=model_params[\"loss\"], \n",
    "              optimizer=model_params[\"optimizer\"])"
   ]
  },
  {
   "cell_type": "code",
   "execution_count": 297,
   "id": "thirty-aside",
   "metadata": {},
   "outputs": [
    {
     "name": "stdout",
     "output_type": "stream",
     "text": [
      "Epoch 1/250\n",
      "237/237 [==============================] - 0s 2ms/step - loss: 1.2716 - val_loss: 1.2936\n",
      "Epoch 2/250\n",
      "237/237 [==============================] - 0s 2ms/step - loss: 1.2633 - val_loss: 1.2820\n",
      "Epoch 3/250\n",
      "237/237 [==============================] - 0s 2ms/step - loss: 1.2525 - val_loss: 1.2697\n",
      "Epoch 4/250\n",
      "237/237 [==============================] - 1s 2ms/step - loss: 1.2399 - val_loss: 1.2554\n",
      "Epoch 5/250\n",
      "237/237 [==============================] - 0s 2ms/step - loss: 1.2218 - val_loss: 1.2306\n",
      "Epoch 6/250\n",
      "237/237 [==============================] - 0s 2ms/step - loss: 1.1916 - val_loss: 1.1952\n",
      "Epoch 7/250\n",
      "237/237 [==============================] - 0s 2ms/step - loss: 1.1701 - val_loss: 1.1763\n",
      "Epoch 8/250\n",
      "237/237 [==============================] - 0s 2ms/step - loss: 1.1594 - val_loss: 1.1678\n",
      "Epoch 9/250\n",
      "237/237 [==============================] - 1s 2ms/step - loss: 1.1521 - val_loss: 1.1598\n",
      "Epoch 10/250\n",
      "237/237 [==============================] - 0s 2ms/step - loss: 1.1453 - val_loss: 1.1525\n",
      "Epoch 11/250\n",
      "237/237 [==============================] - 0s 2ms/step - loss: 1.1383 - val_loss: 1.1446\n",
      "Epoch 12/250\n",
      "237/237 [==============================] - 0s 2ms/step - loss: 1.1318 - val_loss: 1.1373\n",
      "Epoch 13/250\n",
      "237/237 [==============================] - 0s 2ms/step - loss: 1.1251 - val_loss: 1.1295\n",
      "Epoch 14/250\n",
      "237/237 [==============================] - 0s 2ms/step - loss: 1.1187 - val_loss: 1.1235\n",
      "Epoch 15/250\n",
      "237/237 [==============================] - 0s 2ms/step - loss: 1.1124 - val_loss: 1.1185\n",
      "Epoch 16/250\n",
      "237/237 [==============================] - 0s 2ms/step - loss: 1.1070 - val_loss: 1.1145\n",
      "Epoch 17/250\n",
      "237/237 [==============================] - 0s 2ms/step - loss: 1.1021 - val_loss: 1.1118\n",
      "Epoch 18/250\n",
      "237/237 [==============================] - 0s 2ms/step - loss: 1.0981 - val_loss: 1.1084\n",
      "Epoch 19/250\n",
      "237/237 [==============================] - 0s 2ms/step - loss: 1.0943 - val_loss: 1.1058\n",
      "Epoch 20/250\n",
      "237/237 [==============================] - 0s 2ms/step - loss: 1.0908 - val_loss: 1.1038\n",
      "Epoch 21/250\n",
      "237/237 [==============================] - 0s 2ms/step - loss: 1.0877 - val_loss: 1.1020\n",
      "Epoch 22/250\n",
      "237/237 [==============================] - 0s 2ms/step - loss: 1.0850 - val_loss: 1.1003\n",
      "Epoch 23/250\n",
      "237/237 [==============================] - 0s 2ms/step - loss: 1.0827 - val_loss: 1.0989\n",
      "Epoch 24/250\n",
      "237/237 [==============================] - 0s 2ms/step - loss: 1.0805 - val_loss: 1.0983\n",
      "Epoch 25/250\n",
      "237/237 [==============================] - 0s 2ms/step - loss: 1.0785 - val_loss: 1.0969\n",
      "Epoch 26/250\n",
      "237/237 [==============================] - 0s 2ms/step - loss: 1.0768 - val_loss: 1.0964\n",
      "Epoch 27/250\n",
      "237/237 [==============================] - 0s 2ms/step - loss: 1.0753 - val_loss: 1.0955\n",
      "Epoch 28/250\n",
      "237/237 [==============================] - 0s 2ms/step - loss: 1.0739 - val_loss: 1.0954\n",
      "Epoch 29/250\n",
      "237/237 [==============================] - 0s 2ms/step - loss: 1.0727 - val_loss: 1.0950\n",
      "Epoch 30/250\n",
      "237/237 [==============================] - 0s 2ms/step - loss: 1.0716 - val_loss: 1.0939\n",
      "Epoch 31/250\n",
      "237/237 [==============================] - 1s 3ms/step - loss: 1.0703 - val_loss: 1.0941\n",
      "Epoch 32/250\n",
      "237/237 [==============================] - 0s 2ms/step - loss: 1.0694 - val_loss: 1.0939\n",
      "Epoch 33/250\n",
      "237/237 [==============================] - 1s 2ms/step - loss: 1.0680 - val_loss: 1.0938\n",
      "Epoch 34/250\n",
      "237/237 [==============================] - 0s 2ms/step - loss: 1.0679 - val_loss: 1.0937\n",
      "Epoch 35/250\n",
      "237/237 [==============================] - 0s 2ms/step - loss: 1.0678 - val_loss: 1.0936\n"
     ]
    }
   ],
   "source": [
    "loss_min = {}\n",
    "val_loss_min = {}\n",
    "for i in [250]:\n",
    "    history = model.fit(X_train, \n",
    "                    y_train, \n",
    "                    epochs=i, \n",
    "                    verbose = 1, \n",
    "                    validation_data=(X_valid, y_valid),\n",
    "                    callbacks = [reduce_lr,early_stopping],\n",
    "                    batch_size = 16, \n",
    "                    shuffle = True)\n",
    "    loss_min[i] = min(history.history[\"loss\"])\n",
    "    val_loss_min[i] = min(history.history[\"val_loss\"])"
   ]
  },
  {
   "cell_type": "code",
   "execution_count": 298,
   "id": "excessive-continuity",
   "metadata": {},
   "outputs": [
    {
     "data": {
      "image/png": "[encoded data removed]",
      "text/plain": [
       "<Figure size 432x288 with 1 Axes>"
      ]
     },
     "metadata": {
      "needs_background": "light"
     },
     "output_type": "display_data"
    }
   ],
   "source": [
    "plot_loss(history, exp = False)"
   ]
  },
  {
   "cell_type": "code",
   "execution_count": 299,
   "id": "supposed-norfolk",
   "metadata": {},
   "outputs": [
    {
     "name": "stdout",
     "output_type": "stream",
     "text": [
      "175/175 [==============================] - 0s 1ms/step - loss: 1.1322\n"
     ]
    },
    {
     "data": {
      "text/plain": [
       "1.1322033405303955"
      ]
     },
     "execution_count": 299,
     "metadata": {},
     "output_type": "execute_result"
    }
   ],
   "source": [
    "model.evaluate(x = X_test,  y = y_test, verbose=1, batch_size = 16)"
   ]
  },
  {
   "cell_type": "code",
   "execution_count": null,
   "id": "addressed-alpha",
   "metadata": {},
   "outputs": [],
   "source": []
  }
 ],
 "metadata": {
  "kernelspec": {
   "display_name": "Python 3",
   "language": "python",
   "name": "python3"
  },
  "language_info": {
   "codemirror_mode": {
    "name": "ipython",
    "version": 3
   },
   "file_extension": ".py",
   "mimetype": "text/x-python",
   "name": "python",
   "nbconvert_exporter": "python",
   "pygments_lexer": "ipython3",
   "version": "3.8.5"
  }
 },
 "nbformat": 4,
 "nbformat_minor": 5
}
