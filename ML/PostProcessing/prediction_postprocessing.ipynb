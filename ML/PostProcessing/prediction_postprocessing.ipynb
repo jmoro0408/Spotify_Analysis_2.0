{
 "cells": [
  {
   "cell_type": "code",
   "execution_count": 3,
   "id": "instant-ridge",
   "metadata": {},
   "outputs": [],
   "source": [
    "import pandas as pd\n",
    "import seaborn as sns\n",
    "import os\n",
    "import tensorflow.keras as keras"
   ]
  },
  {
   "cell_type": "code",
   "execution_count": 4,
   "id": "after-sector",
   "metadata": {},
   "outputs": [],
   "source": [
    "SAVE_DIR = r\"/Users/James/Documents/Python/MachineLearningProjects/Spotify_Listening_Analysis/Spotify 2.0/ml_stuff/postprocessing\"\n",
    "PREDICTION_DF_PATH = r\"C:\\Users\\JM070903\\OneDrive - Jacobs\\Documents\\Python\\Spotify Listening Analysis\\Spotify_Analysis\\ML\\Prediction\\predictions_dataframe.pkl\""
   ]
  },
  {
   "cell_type": "code",
   "execution_count": 5,
   "id": "operational-scratch",
   "metadata": {},
   "outputs": [],
   "source": [
    "predictions = pd.read_pickle(PREDICTION_DF_PATH)"
   ]
  },
  {
   "cell_type": "code",
   "execution_count": 6,
   "id": "accompanied-dispute",
   "metadata": {},
   "outputs": [
    {
     "data": {
      "text/html": [
       "<div>\n",
       "<style scoped>\n",
       "    .dataframe tbody tr th:only-of-type {\n",
       "        vertical-align: middle;\n",
       "    }\n",
       "\n",
       "    .dataframe tbody tr th {\n",
       "        vertical-align: top;\n",
       "    }\n",
       "\n",
       "    .dataframe thead th {\n",
       "        text-align: right;\n",
       "    }\n",
       "</style>\n",
       "<table border=\"1\" class=\"dataframe\">\n",
       "  <thead>\n",
       "    <tr style=\"text-align: right;\">\n",
       "      <th></th>\n",
       "      <th>artist</th>\n",
       "      <th>track</th>\n",
       "      <th>predicted_playcount</th>\n",
       "    </tr>\n",
       "  </thead>\n",
       "  <tbody>\n",
       "    <tr>\n",
       "      <th>0</th>\n",
       "      <td>The Beatles</td>\n",
       "      <td>Sgt. Pepper's Lonely Hearts Club Band - Remast...</td>\n",
       "      <td>0.825348</td>\n",
       "    </tr>\n",
       "    <tr>\n",
       "      <th>1</th>\n",
       "      <td>The Beatles</td>\n",
       "      <td>With A Little Help From My Friends - Remastere...</td>\n",
       "      <td>0.844998</td>\n",
       "    </tr>\n",
       "    <tr>\n",
       "      <th>2</th>\n",
       "      <td>The Beatles</td>\n",
       "      <td>Lucy In The Sky With Diamonds - Remastered 2009</td>\n",
       "      <td>0.873288</td>\n",
       "    </tr>\n",
       "    <tr>\n",
       "      <th>3</th>\n",
       "      <td>The Beatles</td>\n",
       "      <td>Getting Better - Remastered 2009</td>\n",
       "      <td>0.841246</td>\n",
       "    </tr>\n",
       "    <tr>\n",
       "      <th>4</th>\n",
       "      <td>The Beatles</td>\n",
       "      <td>Fixing A Hole - Remastered 2009</td>\n",
       "      <td>0.835203</td>\n",
       "    </tr>\n",
       "    <tr>\n",
       "      <th>...</th>\n",
       "      <td>...</td>\n",
       "      <td>...</td>\n",
       "      <td>...</td>\n",
       "    </tr>\n",
       "    <tr>\n",
       "      <th>6635</th>\n",
       "      <td>OutKast</td>\n",
       "      <td>Mamacita</td>\n",
       "      <td>0.791390</td>\n",
       "    </tr>\n",
       "    <tr>\n",
       "      <th>6636</th>\n",
       "      <td>OutKast</td>\n",
       "      <td>SpottieOttieDopaliscious</td>\n",
       "      <td>0.800198</td>\n",
       "    </tr>\n",
       "    <tr>\n",
       "      <th>6637</th>\n",
       "      <td>OutKast</td>\n",
       "      <td>Nathaniel</td>\n",
       "      <td>0.942982</td>\n",
       "    </tr>\n",
       "    <tr>\n",
       "      <th>6638</th>\n",
       "      <td>OutKast</td>\n",
       "      <td>Liberation (with Cee-Lo)</td>\n",
       "      <td>0.831235</td>\n",
       "    </tr>\n",
       "    <tr>\n",
       "      <th>6639</th>\n",
       "      <td>OutKast</td>\n",
       "      <td>Chonkyfire</td>\n",
       "      <td>0.819071</td>\n",
       "    </tr>\n",
       "  </tbody>\n",
       "</table>\n",
       "<p>6640 rows × 3 columns</p>\n",
       "</div>"
      ],
      "text/plain": [
       "           artist                                              track  \\\n",
       "0     The Beatles  Sgt. Pepper's Lonely Hearts Club Band - Remast...   \n",
       "1     The Beatles  With A Little Help From My Friends - Remastere...   \n",
       "2     The Beatles    Lucy In The Sky With Diamonds - Remastered 2009   \n",
       "3     The Beatles                   Getting Better - Remastered 2009   \n",
       "4     The Beatles                    Fixing A Hole - Remastered 2009   \n",
       "...           ...                                                ...   \n",
       "6635      OutKast                                           Mamacita   \n",
       "6636      OutKast                           SpottieOttieDopaliscious   \n",
       "6637      OutKast                                          Nathaniel   \n",
       "6638      OutKast                           Liberation (with Cee-Lo)   \n",
       "6639      OutKast                                         Chonkyfire   \n",
       "\n",
       "      predicted_playcount  \n",
       "0                0.825348  \n",
       "1                0.844998  \n",
       "2                0.873288  \n",
       "3                0.841246  \n",
       "4                0.835203  \n",
       "...                   ...  \n",
       "6635             0.791390  \n",
       "6636             0.800198  \n",
       "6637             0.942982  \n",
       "6638             0.831235  \n",
       "6639             0.819071  \n",
       "\n",
       "[6640 rows x 3 columns]"
      ]
     },
     "execution_count": 6,
     "metadata": {},
     "output_type": "execute_result"
    }
   ],
   "source": [
    "predictions"
   ]
  },
  {
   "cell_type": "code",
   "execution_count": 7,
   "id": "fundamental-persian",
   "metadata": {},
   "outputs": [
    {
     "name": "stdout",
     "output_type": "stream",
     "text": [
      "<class 'pandas.core.frame.DataFrame'>\n",
      "RangeIndex: 6640 entries, 0 to 6639\n",
      "Data columns (total 3 columns):\n",
      " #   Column               Non-Null Count  Dtype  \n",
      "---  ------               --------------  -----  \n",
      " 0   artist               6640 non-null   object \n",
      " 1   track                6640 non-null   object \n",
      " 2   predicted_playcount  6640 non-null   float64\n",
      "dtypes: float64(1), object(2)\n",
      "memory usage: 155.8+ KB\n"
     ]
    }
   ],
   "source": [
    "predictions.info()"
   ]
  },
  {
   "cell_type": "markdown",
   "id": "phantom-trainer",
   "metadata": {},
   "source": [
    "# What are my top 5 songs?"
   ]
  },
  {
   "cell_type": "code",
   "execution_count": 9,
   "id": "religious-technique",
   "metadata": {},
   "outputs": [
    {
     "data": {
      "text/html": [
       "<div>\n",
       "<style scoped>\n",
       "    .dataframe tbody tr th:only-of-type {\n",
       "        vertical-align: middle;\n",
       "    }\n",
       "\n",
       "    .dataframe tbody tr th {\n",
       "        vertical-align: top;\n",
       "    }\n",
       "\n",
       "    .dataframe thead th {\n",
       "        text-align: right;\n",
       "    }\n",
       "</style>\n",
       "<table border=\"1\" class=\"dataframe\">\n",
       "  <thead>\n",
       "    <tr style=\"text-align: right;\">\n",
       "      <th></th>\n",
       "      <th>artist</th>\n",
       "      <th>track</th>\n",
       "      <th>predicted_playcount</th>\n",
       "    </tr>\n",
       "  </thead>\n",
       "  <tbody>\n",
       "    <tr>\n",
       "      <th>3935</th>\n",
       "      <td>Black Sabbath</td>\n",
       "      <td>Orchid - 2014 Remaster</td>\n",
       "      <td>1.055992</td>\n",
       "    </tr>\n",
       "    <tr>\n",
       "      <th>2033</th>\n",
       "      <td>Black Sabbath</td>\n",
       "      <td>Planet Caravan - 2012 - Remaster</td>\n",
       "      <td>1.049278</td>\n",
       "    </tr>\n",
       "    <tr>\n",
       "      <th>5712</th>\n",
       "      <td>Brian Eno</td>\n",
       "      <td>Zawinul/Lava - 2004 Digital Remaster</td>\n",
       "      <td>1.047849</td>\n",
       "    </tr>\n",
       "    <tr>\n",
       "      <th>5926</th>\n",
       "      <td>Steve Miller Band</td>\n",
       "      <td>Blue Odyssey</td>\n",
       "      <td>1.046984</td>\n",
       "    </tr>\n",
       "    <tr>\n",
       "      <th>5711</th>\n",
       "      <td>Brian Eno</td>\n",
       "      <td>Becalmed - 2004 Digital Remaster</td>\n",
       "      <td>1.044207</td>\n",
       "    </tr>\n",
       "  </tbody>\n",
       "</table>\n",
       "</div>"
      ],
      "text/plain": [
       "                 artist                                 track  \\\n",
       "3935      Black Sabbath                Orchid - 2014 Remaster   \n",
       "2033      Black Sabbath      Planet Caravan - 2012 - Remaster   \n",
       "5712          Brian Eno  Zawinul/Lava - 2004 Digital Remaster   \n",
       "5926  Steve Miller Band                          Blue Odyssey   \n",
       "5711          Brian Eno      Becalmed - 2004 Digital Remaster   \n",
       "\n",
       "      predicted_playcount  \n",
       "3935             1.055992  \n",
       "2033             1.049278  \n",
       "5712             1.047849  \n",
       "5926             1.046984  \n",
       "5711             1.044207  "
      ]
     },
     "execution_count": 9,
     "metadata": {},
     "output_type": "execute_result"
    }
   ],
   "source": [
    "predictions.sort_values(by = \"predicted_playcount\", ascending = False)[:5]"
   ]
  },
  {
   "cell_type": "markdown",
   "id": "green-metadata",
   "metadata": {},
   "source": [
    "This is pretty unusual, I would have expected The Beatles, Pink Floyd, The Doors... Black Sabbath isn't too surprising but I would never listen to Brian Eno so coming in at no.3 seems like something is definitely off. "
   ]
  },
  {
   "cell_type": "markdown",
   "id": "future-sydney",
   "metadata": {},
   "source": [
    "## What is the distribution like?"
   ]
  },
  {
   "cell_type": "code",
   "execution_count": 10,
   "id": "charming-might",
   "metadata": {},
   "outputs": [
    {
     "data": {
      "image/png": "[encoded data removed]",
      "text/plain": [
       "<Figure size 432x288 with 1 Axes>"
      ]
     },
     "metadata": {
      "needs_background": "light"
     },
     "output_type": "display_data"
    }
   ],
   "source": [
    "\n",
    "import matplotlib.pyplot as plt\n",
    "ax = sns.histplot(data = predictions, stat = \"count\", kde = True)\n",
    "ax.set(xlabel = \"Predicted Playcount\")\n",
    "image_name = \"prediction_histplot\"\n",
    "fig  = ax.get_figure()\n",
    "plt.tight_layout()\n",
    "#fig.savefig(os.path.join(SAVE_DIR, image_name), facecolor = \"w\", dpi = 300)"
   ]
  },
  {
   "cell_type": "code",
   "execution_count": 11,
   "id": "operational-think",
   "metadata": {},
   "outputs": [
    {
     "data": {
      "text/plain": [
       "<AxesSubplot:xlabel='predicted_playcount'>"
      ]
     },
     "execution_count": 11,
     "metadata": {},
     "output_type": "execute_result"
    },
    {
     "data": {
      "image/png": "[encoded data removed]",
      "text/plain": [
       "<Figure size 432x288 with 1 Axes>"
      ]
     },
     "metadata": {
      "needs_background": "light"
     },
     "output_type": "display_data"
    }
   ],
   "source": [
    "sns.boxplot(data = predictions, x = \"predicted_playcount\")"
   ]
  },
  {
   "cell_type": "markdown",
   "id": "rental-lingerie",
   "metadata": {},
   "source": [
    "Looks like the algorithm is far too conservative, placing all the songs within 0.7 - 1.05 playcounts. So there's no songs I would really like or really hate."
   ]
  },
  {
   "cell_type": "code",
   "execution_count": 13,
   "id": "reliable-unknown",
   "metadata": {},
   "outputs": [
    {
     "data": {
      "text/plain": [
       "(0.7669973969459534, 1.0559923648834229)"
      ]
     },
     "execution_count": 13,
     "metadata": {},
     "output_type": "execute_result"
    }
   ],
   "source": [
    "predictions[\"predicted_playcount\"].min(), predictions[\"predicted_playcount\"].max() "
   ]
  }
 ],
 "metadata": {
  "interpreter": {
   "hash": "554ef6213afdc02a2a3d0bd8def78b938afebcbf35d4c19fa90d28ef0c2017f6"
  },
  "kernelspec": {
   "display_name": "Python 3.9.7 64-bit ('spotify': conda)",
   "name": "python3"
  },
  "language_info": {
   "codemirror_mode": {
    "name": "ipython",
    "version": 3
   },
   "file_extension": ".py",
   "mimetype": "text/x-python",
   "name": "python",
   "nbconvert_exporter": "python",
   "pygments_lexer": "ipython3",
   "version": "3.9.7"
  }
 },
 "nbformat": 4,
 "nbformat_minor": 5
}
