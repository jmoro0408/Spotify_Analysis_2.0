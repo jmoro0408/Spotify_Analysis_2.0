{
 "cells": [
  {
   "cell_type": "code",
   "execution_count": 17,
   "id": "921a5b57-9aee-457e-9904-d504b3ab560f",
   "metadata": {},
   "outputs": [
    {
     "data": {
      "text/plain": [
       "True"
      ]
     },
     "execution_count": 17,
     "metadata": {},
     "output_type": "execute_result"
    }
   ],
   "source": [
    "# Imports\n",
    "import pandas as pd\n",
    "import os\n",
    "from pathlib import Path\n",
    "import spotipy\n",
    "from spotipy.oauth2 import SpotifyClientCredentials\n",
    "import numpy as np\n",
    "import time\n",
    "import random\n",
    "from tqdm import tqdm\n",
    "from requests.exceptions import ReadTimeout\n",
    "from dotenv import load_dotenv, find_dotenv\n",
    "\n",
    "load_dotenv(find_dotenv())\n"
   ]
  },
  {
   "cell_type": "code",
   "execution_count": 18,
   "id": "cd0d45cb-23a8-4f93-b00c-3c2dcc171a55",
   "metadata": {},
   "outputs": [],
   "source": [
    "SPOTIPY_CLIENT_ID  = os.environ.get(\"client_id\")\n",
    "SPOTIPY_CLIENT_SECRET = os.environ.get(\"client_secret\")"
   ]
  },
  {
   "cell_type": "code",
   "execution_count": null,
   "id": "628025d7-6dca-4cef-ab54-c45b85ee0f6b",
   "metadata": {},
   "outputs": [],
   "source": []
  },
  {
   "cell_type": "code",
   "execution_count": 19,
   "id": "8a608129-94d5-4394-be8d-09684ab06fa8",
   "metadata": {},
   "outputs": [],
   "source": [
    "STREAMS_PICKLE_FILE = r\"C:\\Users\\JM070903\\OneDrive - Jacobs\\Documents\\Python\\Spotify Listening Analysis\\Spotify_Analysis_2.0\\2. PreProcessing\\PreProcessing_MyData\\listening_history.pkl\""
   ]
  },
  {
   "cell_type": "code",
   "execution_count": 20,
   "id": "8cf8e641-fc4c-40c5-9931-89487d860b19",
   "metadata": {},
   "outputs": [],
   "source": [
    "sp = spotipy.Spotify(\n",
    "    client_credentials_manager=SpotifyClientCredentials(),\n",
    "    requests_timeout=10,\n",
    "    retries=10,\n",
    ")"
   ]
  },
  {
   "cell_type": "code",
   "execution_count": 32,
   "id": "a77e4c01-6047-4b96-a72c-da839b2bfff5",
   "metadata": {},
   "outputs": [],
   "source": [
    "def get_features(id):\n",
    "    \"\"\"\n",
    "    Gathers audio features from Spotify for a given track ID. \n",
    "    See: https://developer.spotify.com/documentation/web-api/reference/#category-tracks for information on features\n",
    "\n",
    "    Parameters:\n",
    "    id (string): spotify ID corresponding to a given track\n",
    "\n",
    "    returns:\n",
    "    sp.audio_features([id]) (dict): dictionary containing feature names (keys) and feature values (values.)\n",
    "    \"\"\"\n",
    "    try:\n",
    "        return sp.audio_features(id)\n",
    "    except AttributeError:\n",
    "        return np.nan"
   ]
  },
  {
   "cell_type": "code",
   "execution_count": 33,
   "id": "f5f95dd0-8704-4bb6-b819-ab991dc54bc5",
   "metadata": {},
   "outputs": [],
   "source": [
    "def get_track_id(artist, track):\n",
    "    \"\"\"\n",
    "    Returns spotify ID for a given track by specific artist.\n",
    "\n",
    "    Parameters:\n",
    "    artist (String): artist to whom track belongs to\n",
    "    track (string): track to search for\n",
    "\n",
    "    Returns:\n",
    "    track_id (string): Spotify ID for the given track\n",
    "    \"\"\"\n",
    "    track_id_dict = sp.search(q=\"artist:\" + artist + \" track:\" + track, type=\"track\")\n",
    "    try:\n",
    "        track_id = track_id_dict[\"tracks\"][\"items\"][0][\"id\"]\n",
    "    except IndexError:\n",
    "        track_id = np.nan\n",
    "    return track_id"
   ]
  },
  {
   "cell_type": "code",
   "execution_count": 34,
   "id": "bfb8c1b7-59b3-4821-8ba7-52d7b3f58e61",
   "metadata": {},
   "outputs": [],
   "source": [
    "test_track = get_track_id(\"Taylor Swift\", \"Shake it off\")"
   ]
  },
  {
   "cell_type": "code",
   "execution_count": 35,
   "id": "c4ff09b0-5972-4976-9cf9-a046caef3c50",
   "metadata": {},
   "outputs": [
    {
     "data": {
      "text/plain": [
       "'5xTtaWoae3wi06K5WfVUUH'"
      ]
     },
     "execution_count": 35,
     "metadata": {},
     "output_type": "execute_result"
    }
   ],
   "source": [
    "test_track"
   ]
  },
  {
   "cell_type": "code",
   "execution_count": 36,
   "id": "fdb1c8ab-4d8c-4e92-bb25-d2e065f9bd15",
   "metadata": {},
   "outputs": [],
   "source": [
    "test_features = get_features(test_track)"
   ]
  },
  {
   "cell_type": "code",
   "execution_count": 37,
   "id": "c83ef741-e6f7-43f0-97c5-c56dd921778c",
   "metadata": {},
   "outputs": [
    {
     "data": {
      "text/plain": [
       "[{'danceability': 0.648,\n",
       "  'energy': 0.785,\n",
       "  'key': 7,\n",
       "  'loudness': -5.414,\n",
       "  'mode': 1,\n",
       "  'speechiness': 0.165,\n",
       "  'acousticness': 0.0561,\n",
       "  'instrumentalness': 0,\n",
       "  'liveness': 0.148,\n",
       "  'valence': 0.943,\n",
       "  'tempo': 160.02,\n",
       "  'type': 'audio_features',\n",
       "  'id': '5xTtaWoae3wi06K5WfVUUH',\n",
       "  'uri': 'spotify:track:5xTtaWoae3wi06K5WfVUUH',\n",
       "  'track_href': 'https://api.spotify.com/v1/tracks/5xTtaWoae3wi06K5WfVUUH',\n",
       "  'analysis_url': 'https://api.spotify.com/v1/audio-analysis/5xTtaWoae3wi06K5WfVUUH',\n",
       "  'duration_ms': 219200,\n",
       "  'time_signature': 4}]"
      ]
     },
     "execution_count": 37,
     "metadata": {},
     "output_type": "execute_result"
    }
   ],
   "source": [
    "test_features"
   ]
  },
  {
   "cell_type": "code",
   "execution_count": null,
   "id": "299a9bd7-eae3-4093-885f-5cd47865a9d2",
   "metadata": {},
   "outputs": [],
   "source": []
  },
  {
   "cell_type": "code",
   "execution_count": null,
   "id": "dc00c815-2ec4-4107-aed7-cb0e1dace610",
   "metadata": {},
   "outputs": [],
   "source": [
    "\n"
   ]
  },
  {
   "cell_type": "code",
   "execution_count": null,
   "id": "4da80e84-8cf2-48d8-8081-e8a747c3b223",
   "metadata": {},
   "outputs": [],
   "source": []
  },
  {
   "cell_type": "code",
   "execution_count": null,
   "id": "27ba265a-fbe0-4694-bf05-c0e56c6d923a",
   "metadata": {},
   "outputs": [],
   "source": []
  }
 ],
 "metadata": {
  "kernelspec": {
   "display_name": "Python 3 (ipykernel)",
   "language": "python",
   "name": "python3"
  },
  "language_info": {
   "codemirror_mode": {
    "name": "ipython",
    "version": 3
   },
   "file_extension": ".py",
   "mimetype": "text/x-python",
   "name": "python",
   "nbconvert_exporter": "python",
   "pygments_lexer": "ipython3",
   "version": "3.9.7"
  }
 },
 "nbformat": 4,
 "nbformat_minor": 5
}
